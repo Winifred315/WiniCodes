{
 "cells": [
  {
   "cell_type": "markdown",
   "metadata": {},
   "source": []
  },
  {
   "cell_type": "markdown",
   "metadata": {},
   "source": [
    "# Notebook 1: Data Cleaning & Feature Engineering"
   ]
  },
  {
   "cell_type": "markdown",
   "metadata": {},
   "source": [
    "----\n",
    "## 1. Data Cleaning\n",
    "----"
   ]
  },
  {
   "cell_type": "markdown",
   "metadata": {},
   "source": [
    "### Import the relevant libraries"
   ]
  },
  {
   "cell_type": "markdown",
   "metadata": {},
   "source": [
    "### Load the data files"
   ]
  },
  {
   "cell_type": "code",
   "execution_count": 1,
   "metadata": {
    "scrolled": true
   },
   "outputs": [],
   "source": [
    "import warnings; warnings.simplefilter('ignore')\n",
    "import pandas as pd\n",
    "import numpy as np\n",
    "import matplotlib.pyplot as plt\n",
    "import seaborn as sns\n",
    "import time\n",
    "import my_helper_functions as mhf\n",
    "import pandas_profiling as prof\n",
    "import missingno as msno\n",
    "%matplotlib inline"
   ]
  },
  {
   "cell_type": "code",
   "execution_count": 2,
   "metadata": {
    "scrolled": true
   },
   "outputs": [
    {
     "name": "stdout",
     "output_type": "stream",
     "text": [
      "Sheetnames:  ['Summary ', 'Data Purpose and Notes', 'Data Dictionary', 'SCMS Delivery History Dataset']\n",
      "summary  shape: (0, 0)\n",
      "purpose  shape: (0, 0)\n",
      "ref  shape: (33, 5)\n",
      "data  shape: (10324, 33)\n"
     ]
    },
    {
     "data": {
      "text/html": [
       "<div>\n",
       "<style scoped>\n",
       "    .dataframe tbody tr th:only-of-type {\n",
       "        vertical-align: middle;\n",
       "    }\n",
       "\n",
       "    .dataframe tbody tr th {\n",
       "        vertical-align: top;\n",
       "    }\n",
       "\n",
       "    .dataframe thead th {\n",
       "        text-align: right;\n",
       "    }\n",
       "</style>\n",
       "<table border=\"1\" class=\"dataframe\">\n",
       "  <thead>\n",
       "    <tr style=\"text-align: right;\">\n",
       "      <th></th>\n",
       "      <th>ID</th>\n",
       "      <th>Project Code</th>\n",
       "      <th>PQ #</th>\n",
       "      <th>PO / SO #</th>\n",
       "      <th>ASN/DN #</th>\n",
       "      <th>Country</th>\n",
       "      <th>Managed By</th>\n",
       "      <th>Fulfill Via</th>\n",
       "      <th>Vendor INCO Term</th>\n",
       "      <th>Shipment Mode</th>\n",
       "      <th>...</th>\n",
       "      <th>Unit of Measure (Per Pack)</th>\n",
       "      <th>Line Item Quantity</th>\n",
       "      <th>Line Item Value</th>\n",
       "      <th>Pack Price</th>\n",
       "      <th>Unit Price</th>\n",
       "      <th>Manufacturing Site</th>\n",
       "      <th>First Line Designation</th>\n",
       "      <th>Weight (Kilograms)</th>\n",
       "      <th>Freight Cost (USD)</th>\n",
       "      <th>Line Item Insurance (USD)</th>\n",
       "    </tr>\n",
       "  </thead>\n",
       "  <tbody>\n",
       "    <tr>\n",
       "      <th>0</th>\n",
       "      <td>1</td>\n",
       "      <td>100-CI-T01</td>\n",
       "      <td>Pre-PQ Process</td>\n",
       "      <td>SCMS-4</td>\n",
       "      <td>ASN-8</td>\n",
       "      <td>Côte d'Ivoire</td>\n",
       "      <td>PMO - US</td>\n",
       "      <td>Direct Drop</td>\n",
       "      <td>EXW</td>\n",
       "      <td>Air</td>\n",
       "      <td>...</td>\n",
       "      <td>30</td>\n",
       "      <td>19</td>\n",
       "      <td>551.0</td>\n",
       "      <td>29.0</td>\n",
       "      <td>0.97</td>\n",
       "      <td>Ranbaxy Fine Chemicals LTD</td>\n",
       "      <td>Yes</td>\n",
       "      <td>13</td>\n",
       "      <td>780.34</td>\n",
       "      <td>NaN</td>\n",
       "    </tr>\n",
       "    <tr>\n",
       "      <th>1</th>\n",
       "      <td>3</td>\n",
       "      <td>108-VN-T01</td>\n",
       "      <td>Pre-PQ Process</td>\n",
       "      <td>SCMS-13</td>\n",
       "      <td>ASN-85</td>\n",
       "      <td>Vietnam</td>\n",
       "      <td>PMO - US</td>\n",
       "      <td>Direct Drop</td>\n",
       "      <td>EXW</td>\n",
       "      <td>Air</td>\n",
       "      <td>...</td>\n",
       "      <td>240</td>\n",
       "      <td>1000</td>\n",
       "      <td>6200.0</td>\n",
       "      <td>6.2</td>\n",
       "      <td>0.03</td>\n",
       "      <td>Aurobindo Unit III, India</td>\n",
       "      <td>Yes</td>\n",
       "      <td>358</td>\n",
       "      <td>4521.5</td>\n",
       "      <td>NaN</td>\n",
       "    </tr>\n",
       "    <tr>\n",
       "      <th>2</th>\n",
       "      <td>4</td>\n",
       "      <td>100-CI-T01</td>\n",
       "      <td>Pre-PQ Process</td>\n",
       "      <td>SCMS-20</td>\n",
       "      <td>ASN-14</td>\n",
       "      <td>Côte d'Ivoire</td>\n",
       "      <td>PMO - US</td>\n",
       "      <td>Direct Drop</td>\n",
       "      <td>FCA</td>\n",
       "      <td>Air</td>\n",
       "      <td>...</td>\n",
       "      <td>100</td>\n",
       "      <td>500</td>\n",
       "      <td>40000.0</td>\n",
       "      <td>80.0</td>\n",
       "      <td>0.80</td>\n",
       "      <td>ABBVIE GmbH &amp; Co.KG Wiesbaden</td>\n",
       "      <td>Yes</td>\n",
       "      <td>171</td>\n",
       "      <td>1653.78</td>\n",
       "      <td>NaN</td>\n",
       "    </tr>\n",
       "  </tbody>\n",
       "</table>\n",
       "<p>3 rows × 33 columns</p>\n",
       "</div>"
      ],
      "text/plain": [
       "   ID Project Code            PQ # PO / SO # ASN/DN #        Country  \\\n",
       "0   1   100-CI-T01  Pre-PQ Process    SCMS-4    ASN-8  Côte d'Ivoire   \n",
       "1   3   108-VN-T01  Pre-PQ Process   SCMS-13   ASN-85        Vietnam   \n",
       "2   4   100-CI-T01  Pre-PQ Process   SCMS-20   ASN-14  Côte d'Ivoire   \n",
       "\n",
       "  Managed By  Fulfill Via Vendor INCO Term Shipment Mode  ...  \\\n",
       "0   PMO - US  Direct Drop              EXW           Air  ...   \n",
       "1   PMO - US  Direct Drop              EXW           Air  ...   \n",
       "2   PMO - US  Direct Drop              FCA           Air  ...   \n",
       "\n",
       "  Unit of Measure (Per Pack) Line Item Quantity Line Item Value Pack Price  \\\n",
       "0                         30                 19           551.0       29.0   \n",
       "1                        240               1000          6200.0        6.2   \n",
       "2                        100                500         40000.0       80.0   \n",
       "\n",
       "  Unit Price             Manufacturing Site First Line Designation  \\\n",
       "0       0.97     Ranbaxy Fine Chemicals LTD                    Yes   \n",
       "1       0.03      Aurobindo Unit III, India                    Yes   \n",
       "2       0.80  ABBVIE GmbH & Co.KG Wiesbaden                    Yes   \n",
       "\n",
       "  Weight (Kilograms) Freight Cost (USD) Line Item Insurance (USD)  \n",
       "0                 13             780.34                       NaN  \n",
       "1                358             4521.5                       NaN  \n",
       "2                171            1653.78                       NaN  \n",
       "\n",
       "[3 rows x 33 columns]"
      ]
     },
     "execution_count": 2,
     "metadata": {},
     "output_type": "execute_result"
    }
   ],
   "source": [
    "# Data Source: https://data.pepfar.net/additionalData, downloaded as excel file\n",
    "full = pd.ExcelFile('./Data/Source/SCMS Data 20151023.xlsx')\n",
    "print(\"Sheetnames: \",full.sheet_names)\n",
    "parsed_data = mhf.parse_raw_data(full)\n",
    "for df in parsed_data:\n",
    "    print(df.name,\" shape:\",df.shape )\n",
    "\n",
    "# View ref top rows\n",
    "summary, purpose, ref, data = parsed_data\n",
    "data.head(3)"
   ]
  },
  {
   "cell_type": "markdown",
   "metadata": {},
   "source": [
    "### Check Duplicates"
   ]
  },
  {
   "cell_type": "code",
   "execution_count": 3,
   "metadata": {},
   "outputs": [
    {
     "data": {
      "text/plain": [
       "0"
      ]
     },
     "execution_count": 3,
     "metadata": {},
     "output_type": "execute_result"
    }
   ],
   "source": [
    "data.duplicated().sum()"
   ]
  },
  {
   "cell_type": "markdown",
   "metadata": {},
   "source": [
    "### Rename the columns"
   ]
  },
  {
   "cell_type": "code",
   "execution_count": 4,
   "metadata": {
    "scrolled": false
   },
   "outputs": [
    {
     "name": "stdout",
     "output_type": "stream",
     "text": [
      "Old columns:  Index(['ID', 'Project Code', 'PQ #', 'PO / SO #', 'ASN/DN #', 'Country',\n",
      "       'Managed By', 'Fulfill Via', 'Vendor INCO Term', 'Shipment Mode',\n",
      "       'PQ First Sent to Client Date', 'PO Sent to Vendor Date',\n",
      "       'Scheduled Delivery Date', 'Delivered to Client Date',\n",
      "       'Delivery Recorded Date', 'Product Group', 'Sub Classification',\n",
      "       'Vendor', 'Item Description', 'Molecule/Test Type', 'Brand', 'Dosage',\n",
      "       'Dosage Form', 'Unit of Measure (Per Pack)', 'Line Item Quantity',\n",
      "       'Line Item Value', 'Pack Price', 'Unit Price', 'Manufacturing Site',\n",
      "       'First Line Designation', 'Weight (Kilograms)', 'Freight Cost (USD)',\n",
      "       'Line Item Insurance (USD)'],\n",
      "      dtype='object')\n",
      "New columns:  Index(['id', 'proj_code', 'pq_no', 'po_no', 'ship_no', 'country', 'mngr',\n",
      "       'fulfill_via', 'vendor_terms', 'ship_mode', 'pq_date', 'po_date',\n",
      "       'del_date_scheduled', 'del_date_client', 'del_date_recorded',\n",
      "       'prod_grp', 'sub_class', 'vendor', 'itm_desc', 'molecule_test', 'brand',\n",
      "       'dosage', 'dosage_form', 'units', 'ln_itm_qty', 'ln_itm_val',\n",
      "       'pk_price', 'unit_price', 'factory', 'first_line', 'weight',\n",
      "       'freight_cost', 'line_itm_ins'],\n",
      "      dtype='object')\n"
     ]
    }
   ],
   "source": [
    "newcol_list = ['id', 'proj_code', 'pq_no', 'po_no', 'ship_no', 'country'\n",
    "     , 'mngr', 'fulfill_via','vendor_terms', 'ship_mode', 'pq_date'\n",
    "     , 'po_date', 'del_date_scheduled' ,'del_date_client', 'del_date_recorded'\n",
    "     , 'prod_grp', 'sub_class', 'vendor', 'itm_desc', 'molecule_test', 'brand'\n",
    "     , 'dosage','dosage_form', 'units', 'ln_itm_qty', 'ln_itm_val', 'pk_price'\n",
    "     , 'unit_price', 'factory', 'first_line', 'weight', 'freight_cost', 'line_itm_ins']\n",
    "data = mhf.rename_data_columns(data, newcol_list)"
   ]
  },
  {
   "cell_type": "markdown",
   "metadata": {},
   "source": [
    "### Update Data Reference Dictionary"
   ]
  },
  {
   "cell_type": "code",
   "execution_count": 5,
   "metadata": {},
   "outputs": [
    {
     "data": {
      "text/plain": [
       "[Empty DataFrame\n",
       " Columns: []\n",
       " Index: [],\n",
       " Empty DataFrame\n",
       " Columns: []\n",
       " Index: [],\n",
       "       ID                     FieldName  \\\n",
       " 0    1.0                            ID   \n",
       " 1    2.0                  Project Code   \n",
       " 2    3.0                          PQ #   \n",
       " 3    4.0                          PO #   \n",
       " 4    5.0                      ASN/DN #   \n",
       " 5    6.0                       Country   \n",
       " 6    7.0                    Managed By   \n",
       " 7    8.0                   Fulfill Via   \n",
       " 8    9.0              Vendor INCO Term   \n",
       " 9   10.0                 Shipment Mode   \n",
       " 10  11.0  PQ First Sent to Client Date   \n",
       " 11  12.0        PO Sent to Vendor Date   \n",
       " 12  13.0       Scheduled Delivery Date   \n",
       " 13  14.0      Delivered to Client Date   \n",
       " 14  15.0        Delivery Recorded Date   \n",
       " 15  16.0                 Product Group   \n",
       " 16  17.0            Sub Classification   \n",
       " 17  18.0                        Vendor   \n",
       " 18  19.0              Item Description   \n",
       " 19  20.0            Molecule/Test Type   \n",
       " 20  21.0                         Brand   \n",
       " 21  22.0                        Dosage   \n",
       " 22  23.0                   Dosage Form   \n",
       " 23  24.0    Unit of Measure (Per Pack)   \n",
       " 24  25.0            Line Item Quantity   \n",
       " 25  26.0               Line Item Value   \n",
       " 26  27.0                    Pack Price   \n",
       " 27  28.0                    Unit Price   \n",
       " 28  29.0            Manufacturing Site   \n",
       " 29  30.0        First Line Designation   \n",
       " 30  31.0            Weight (Kilograms)   \n",
       " 31  32.0            Freight Cost (USD)   \n",
       " 32  33.0     Line Item Insurance (USD)   \n",
       " \n",
       "                                      FieldDescription  \\\n",
       " 0   Primary key indentifer of the line of data in ...   \n",
       " 1                                        Project code   \n",
       " 2                             Price quote (PQ) number   \n",
       " 3   Order number: Purchase order (PO) for Direct D...   \n",
       " 4   Shipment number: Advanced Shipment Note (ASN) ...   \n",
       " 5                                 Destination country   \n",
       " 6   SCMS managing office: either the Program Manag...   \n",
       " 7   Method through which the shipment was fulfille...   \n",
       " 8   The vendor INCO term (also known as Internatio...   \n",
       " 9             Method by which commodities are shipped   \n",
       " 10            Date the PQ is first sent to the client   \n",
       " 11            Date the PO is first sent to the vendor   \n",
       " 12                  Current anticipated delivery date   \n",
       " 13                         Date of delivery to client   \n",
       " 14  Date on which delivery to client was recorded ...   \n",
       " 15             Product group for item, i.e. ARV, HRDT   \n",
       " 16  Identifies relevant product sub classification...   \n",
       " 17                                        Vendor name   \n",
       " 18  Product name and formulation from Partnership ...   \n",
       " 19                    Active drug(s) or test kit type   \n",
       " 20               Generic or branded name for the item   \n",
       " 21                               Item dosage and unit   \n",
       " 22  Dosage form for the item (tablet, oral solutio...   \n",
       " 23  Pack quantity (pills or test kits) used to com...   \n",
       " 24  Total quantity (packs) of commodity per line item   \n",
       " 25             Total value of commodity per line item   \n",
       " 26  Cost per pack (i.e. month's supply of ARVs, pa...   \n",
       " 27  Cost per pill (for drugs) or per test (for tes...   \n",
       " 28  Identifies manufacturing site for the line ite...   \n",
       " 29  Designates if the line in question shows the a...   \n",
       " 30                  Weight for all lines on an ASN/DN   \n",
       " 31  Freight charges associated with all lines on t...   \n",
       " 32  Line item cost of insurance, created by applyi...   \n",
       " \n",
       "                                            FieldNotes        DataType  \n",
       " 0                                                 NaN          Number  \n",
       " 1                  Only includes PEPFAR project codes            Text  \n",
       " 2   \"Pre-PQ Process\" indicates deliveries that occ...            Text  \n",
       " 3   PO # is not applicable for from RDC deliveries...            Text  \n",
       " 4                                                 NaN            Text  \n",
       " 5                                                 NaN            Text  \n",
       " 6                                                 NaN            Text  \n",
       " 7                                                 NaN            Text  \n",
       " 8   Not applicable for from RDC deliveries (\"NA - ...            Text  \n",
       " 9                                                 NaN            Text  \n",
       " 10  \"Pre-PQ Process\" indicates deliveries that occ...       Date/Time  \n",
       " 11  Not applicable for from RDC deliveries (\"NA - ...       Date/Time  \n",
       " 12  This date is not equivalent to the client prom...       Date/Time  \n",
       " 13  Transactions are included in the dataset only ...       Date/Time  \n",
       " 14  This date is used for official SCMS reporting....             NaN  \n",
       " 15                    ACT, ANTM, ARV, HRDT, MRDT only            Text  \n",
       " 16                                                NaN            Text  \n",
       " 17  SCMS is the vendor for from RDC deliveries (pr...            Text  \n",
       " 18                                                NaN            Text  \n",
       " 19                                                NaN            Text  \n",
       " 20                                                NaN            Text  \n",
       " 21                                                NaN            Text  \n",
       " 22  \"FDC\" denotes if the item contains a fixed-dos...            Text  \n",
       " 23                                                NaN          Number  \n",
       " 24                                                NaN          Number  \n",
       " 25                                                NaN  Currency (USD)  \n",
       " 26                                                NaN  Currency (USD)  \n",
       " 27                                                NaN  Currency (USD)  \n",
       " 28                                                NaN            Text  \n",
       " 29  There may or may not be other associated lines...          Binary  \n",
       " 30        Present only for FirstLine designated lines          Number  \n",
       " 31  Present only for FirstLine designated lines. F...  Currency (USD)  \n",
       " 32  Pre 6/1/2009 lines are still under analysis fo...  Currency (USD)  ,\n",
       "           id   proj_code           pq_no     po_no  ship_no        country  \\\n",
       " 0          1  100-CI-T01  Pre-PQ Process    SCMS-4    ASN-8  Côte d'Ivoire   \n",
       " 1          3  108-VN-T01  Pre-PQ Process   SCMS-13   ASN-85        Vietnam   \n",
       " 2          4  100-CI-T01  Pre-PQ Process   SCMS-20   ASN-14  Côte d'Ivoire   \n",
       " 3         15  108-VN-T01  Pre-PQ Process   SCMS-78   ASN-50        Vietnam   \n",
       " 4         16  108-VN-T01  Pre-PQ Process   SCMS-81   ASN-55        Vietnam   \n",
       " ...      ...         ...             ...       ...      ...            ...   \n",
       " 10319  86818  103-ZW-T30       FPQ-15197  SO-50020  DN-4307       Zimbabwe   \n",
       " 10320  86819  104-CI-T30       FPQ-15259  SO-50102  DN-4313  Côte d'Ivoire   \n",
       " 10321  86821  110-ZM-T30       FPQ-14784  SO-49600  DN-4316         Zambia   \n",
       " 10322  86822  200-ZW-T30       FPQ-16523  SO-51680  DN-4334       Zimbabwe   \n",
       " 10323  86823  103-ZW-T30       FPQ-15197  SO-50022  DN-4336       Zimbabwe   \n",
       " \n",
       "            mngr  fulfill_via    vendor_terms ship_mode  ... units ln_itm_qty  \\\n",
       " 0      PMO - US  Direct Drop             EXW       Air  ...    30         19   \n",
       " 1      PMO - US  Direct Drop             EXW       Air  ...   240       1000   \n",
       " 2      PMO - US  Direct Drop             FCA       Air  ...   100        500   \n",
       " 3      PMO - US  Direct Drop             EXW       Air  ...    60      31920   \n",
       " 4      PMO - US  Direct Drop             EXW       Air  ...    60      38000   \n",
       " ...         ...          ...             ...       ...  ...   ...        ...   \n",
       " 10319  PMO - US     From RDC  N/A - From RDC     Truck  ...    60     166571   \n",
       " 10320  PMO - US     From RDC  N/A - From RDC     Truck  ...    60      21072   \n",
       " 10321  PMO - US     From RDC  N/A - From RDC     Truck  ...    30     514526   \n",
       " 10322  PMO - US     From RDC  N/A - From RDC     Truck  ...    60      17465   \n",
       " 10323  PMO - US     From RDC  N/A - From RDC     Truck  ...    60      36639   \n",
       " \n",
       "        ln_itm_val pk_price unit_price                         factory  \\\n",
       " 0          551.00    29.00       0.97      Ranbaxy Fine Chemicals LTD   \n",
       " 1         6200.00     6.20       0.03       Aurobindo Unit III, India   \n",
       " 2        40000.00    80.00       0.80   ABBVIE GmbH & Co.KG Wiesbaden   \n",
       " 3       127360.80     3.99       0.07   Ranbaxy, Paonta Shahib, India   \n",
       " 4       121600.00     3.20       0.05       Aurobindo Unit III, India   \n",
       " ...           ...      ...        ...                             ...   \n",
       " 10319   599655.60     3.60       0.06      Mylan,  H-12 & H-13, India   \n",
       " 10320   137389.44     6.52       0.11    Hetero Unit III Hyderabad IN   \n",
       " 10321  5140114.74     9.99       0.33   Cipla Ltd A-42 MIDC Mahar. IN   \n",
       " 10322   113871.80     6.52       0.11  Mylan (formerly Matrix) Nashik   \n",
       " 10323    72911.61     1.99       0.03               Cipla, Goa, India   \n",
       " \n",
       "       first_line                      weight  \\\n",
       " 0            Yes                          13   \n",
       " 1            Yes                         358   \n",
       " 2            Yes                         171   \n",
       " 3            Yes                        1855   \n",
       " 4            Yes                        7590   \n",
       " ...          ...                         ...   \n",
       " 10319         No     See DN-4307 (ID#:83920)   \n",
       " 10320         No     See DN-4313 (ID#:83921)   \n",
       " 10321         No  Weight Captured Separately   \n",
       " 10322        Yes                        1392   \n",
       " 10323         No  Weight Captured Separately   \n",
       " \n",
       "                              freight_cost line_itm_ins  \n",
       " 0                                  780.34          NaN  \n",
       " 1                                  4521.5          NaN  \n",
       " 2                                 1653.78          NaN  \n",
       " 3                                 16007.1          NaN  \n",
       " 4                                 45450.1          NaN  \n",
       " ...                                   ...          ...  \n",
       " 10319             See DN-4307 (ID#:83920)       705.79  \n",
       " 10320             See DN-4313 (ID#:83921)       161.71  \n",
       " 10321  Freight Included in Commodity Cost      5284.04  \n",
       " 10322  Freight Included in Commodity Cost       134.03  \n",
       " 10323  Freight Included in Commodity Cost        85.82  \n",
       " \n",
       " [10324 rows x 33 columns]]"
      ]
     },
     "execution_count": 5,
     "metadata": {},
     "output_type": "execute_result"
    }
   ],
   "source": [
    "parsed_data"
   ]
  },
  {
   "cell_type": "code",
   "execution_count": 6,
   "metadata": {},
   "outputs": [
    {
     "name": "stdout",
     "output_type": "stream",
     "text": [
      "5    Country\n",
      "Name: FieldName, dtype: object \n",
      "=======\n",
      ", 5    Text\n",
      "Name: DataType, dtype: object \n",
      "=======\n",
      ", 5    Destination country\n",
      "Name: FieldDescription, dtype: object \n",
      "=======\n",
      ", 5    NaN\n",
      "Name: FieldNotes, dtype: object \n",
      "=======\n",
      "          Examples: \n",
      "0    Côte d'Ivoire\n",
      "1          Vietnam\n",
      "2    Côte d'Ivoire\n",
      "3          Vietnam\n",
      "4          Vietnam\n",
      "Name: country, dtype: object \n",
      "=======\n",
      "\n"
     ]
    }
   ],
   "source": [
    "# Add these new columns to reference and make a lookup function in case we forget what it means\n",
    "ref['NewColumn']= data.columns \n",
    "#ref.to_excel(\"Reference.xlsx\") # save to disk\n",
    "# Example usage of the reference function below:\n",
    "mhf.getReferenceInfo(data, data.columns[5], ref)"
   ]
  },
  {
   "cell_type": "markdown",
   "metadata": {},
   "source": [
    "### Convert columns data types"
   ]
  },
  {
   "cell_type": "code",
   "execution_count": 7,
   "metadata": {
    "scrolled": true
   },
   "outputs": [
    {
     "name": "stdout",
     "output_type": "stream",
     "text": [
      "Total Number of Columns: 33\n",
      "Breakdown....\n",
      "\n",
      "Type: object , Count: 23 \n",
      "Columns and null counts---: \n",
      "proj_code           0\n",
      "pq_no               0\n",
      "po_no               0\n",
      "ship_no             0\n",
      "country             0\n",
      "mngr                0\n",
      "fulfill_via         0\n",
      "vendor_terms        0\n",
      "ship_mode         360\n",
      "pq_date             0\n",
      "po_date             0\n",
      "prod_grp            0\n",
      "sub_class           0\n",
      "vendor              0\n",
      "itm_desc            0\n",
      "molecule_test       0\n",
      "brand               0\n",
      "dosage           1736\n",
      "dosage_form         0\n",
      "factory             0\n",
      "first_line          0\n",
      "weight              0\n",
      "freight_cost        0\n",
      "dtype: int64\n",
      "\n",
      "Type: int64 , Count: 3 \n",
      "Columns and null counts---: \n",
      "id            0\n",
      "units         0\n",
      "ln_itm_qty    0\n",
      "dtype: int64\n",
      "\n",
      "Type: datetime64[ns] , Count: 3 \n",
      "Columns and null counts---: \n",
      "del_date_scheduled    0\n",
      "del_date_client       0\n",
      "del_date_recorded     0\n",
      "dtype: int64\n",
      "\n",
      "Type: float64 , Count: 4 \n",
      "Columns and null counts---: \n",
      "ln_itm_val        0\n",
      "pk_price          0\n",
      "unit_price        0\n",
      "line_itm_ins    287\n",
      "dtype: int64\n",
      "\n"
     ]
    }
   ],
   "source": [
    "# First use helper function to get column report and blocks of data by column type\n",
    "blocks = mhf.get_blocks_by_dtype(data)"
   ]
  },
  {
   "cell_type": "code",
   "execution_count": 8,
   "metadata": {},
   "outputs": [
    {
     "data": {
      "text/plain": [
       "dict_keys(['object', 'int64', 'datetime64[ns]', 'float64'])"
      ]
     },
     "execution_count": 8,
     "metadata": {},
     "output_type": "execute_result"
    }
   ],
   "source": [
    "blocks.keys()"
   ]
  },
  {
   "cell_type": "code",
   "execution_count": 9,
   "metadata": {},
   "outputs": [
    {
     "name": "stdout",
     "output_type": "stream",
     "text": [
      "(10324, 4) (10324, 3) (10324, 3) (10324, 23)\n"
     ]
    }
   ],
   "source": [
    "dobject = blocks['object']\n",
    "ddate = blocks['datetime64[ns]']\n",
    "dint = blocks['int64']\n",
    "dfloat = blocks['float64']\n",
    "print(dfloat.shape, dint.shape, ddate.shape, dobject.shape)"
   ]
  },
  {
   "cell_type": "code",
   "execution_count": 10,
   "metadata": {},
   "outputs": [
    {
     "data": {
      "text/plain": [
       "dict_keys(['object', 'int64', 'datetime64[ns]', 'float64'])"
      ]
     },
     "execution_count": 10,
     "metadata": {},
     "output_type": "execute_result"
    }
   ],
   "source": [
    "blocks.keys()"
   ]
  },
  {
   "cell_type": "markdown",
   "metadata": {},
   "source": [
    "### Investigate Missing Values\n",
    "\n",
    "The previous section revealed some null values in a few columns"
   ]
  },
  {
   "cell_type": "code",
   "execution_count": 11,
   "metadata": {
    "scrolled": true
   },
   "outputs": [
    {
     "data": {
      "text/plain": [
       "<matplotlib.axes._subplots.AxesSubplot at 0x2aa3cf38730>"
      ]
     },
     "execution_count": 11,
     "metadata": {},
     "output_type": "execute_result"
    },
    {
     "data": {
      "image/png": "[encoded data removed]",
      "text/plain": [
       "<Figure size 1728x720 with 3 Axes>"
      ]
     },
     "metadata": {
      "needs_background": "light"
     },
     "output_type": "display_data"
    }
   ],
   "source": [
    "msno.bar(data, labels=True)"
   ]
  },
  {
   "cell_type": "code",
   "execution_count": 12,
   "metadata": {
    "scrolled": true
   },
   "outputs": [
    {
     "data": {
      "text/plain": [
       "<matplotlib.axes._subplots.AxesSubplot at 0x2aa3cfa44c0>"
      ]
     },
     "execution_count": 12,
     "metadata": {},
     "output_type": "execute_result"
    },
    {
     "data": {
      "image/png": "[encoded data removed]",
      "text/plain": [
       "<Figure size 1800x720 with 2 Axes>"
      ]
     },
     "metadata": {
      "needs_background": "light"
     },
     "output_type": "display_data"
    }
   ],
   "source": [
    "msno.matrix(data)"
   ]
  },
  {
   "cell_type": "markdown",
   "metadata": {},
   "source": [
    "#### Missing value findings\n",
    "From above, we can see that:\n",
    "\n",
    "    -Dosage has a significant number of missing values\n",
    "    - Line item Insurance and shipping mode have similarly moderate levels of missing values"
   ]
  },
  {
   "cell_type": "markdown",
   "metadata": {},
   "source": [
    "####  Dosage"
   ]
  },
  {
   "cell_type": "code",
   "execution_count": 13,
   "metadata": {},
   "outputs": [
    {
     "data": {
      "text/plain": [
       "Test kit                37\n",
       "Test kit - Ancillary     9\n",
       "Name: dosage_form, dtype: int64"
      ]
     },
     "execution_count": 13,
     "metadata": {},
     "output_type": "execute_result"
    }
   ],
   "source": [
    "#### Fix the missing values for the dosage feature\n",
    "# Dosage has a lot of missing values\n",
    "dosage_nulls = dobject[data.dosage.isnull()]\n",
    "# dosage_nulls.to_excel(\"Dosage_Nulls.xlsx\")\n",
    "# Excel investigation: Corelated with country, item_desc (Mostly HIV rapid test kits), molecule test\n",
    "#, vendor_terms (EXnW??), fulfill_via (by air), Brand, dosage_form, units?# pk_price, factory\n",
    "dosage_lkup = data[[ 'itm_desc', 'molecule_test', 'brand', 'dosage_form', 'dosage' ]].groupby(\n",
    "[ 'itm_desc', 'molecule_test', 'brand','dosage_form']).max()\n",
    "# Realize they are all test kits, \n",
    "dosage_lkup[dosage_lkup.dosage.isnull()].reset_index().dosage_form.value_counts()"
   ]
  },
  {
   "cell_type": "code",
   "execution_count": 14,
   "metadata": {},
   "outputs": [],
   "source": [
    "def data_fill_na(data, column, fillvalue):\n",
    "    print(\"Before: \\n:\", data.isnull().sum()[data.isnull().sum()>0])\n",
    "    # So use NA-TestKit/Ancillary as dosage value\n",
    "    data[column].fillna(value=fillvalue, inplace=True)\n",
    "    # Check the nulls once again, these should be mainly from the date columns\n",
    "    print(\"---\\nAfter: \\n:\", data.isnull().sum()[data.isnull().sum()>0])\n",
    "    return data    "
   ]
  },
  {
   "cell_type": "code",
   "execution_count": 15,
   "metadata": {},
   "outputs": [
    {
     "name": "stdout",
     "output_type": "stream",
     "text": [
      "Before: \n",
      ": ship_mode        360\n",
      "dosage          1736\n",
      "line_itm_ins     287\n",
      "dtype: int64\n",
      "---\n",
      "After: \n",
      ": ship_mode       360\n",
      "line_itm_ins    287\n",
      "dtype: int64\n"
     ]
    }
   ],
   "source": [
    "dobject = data_fill_na(data, 'dosage', 'TestKit/Ancillary')"
   ]
  },
  {
   "cell_type": "code",
   "execution_count": 16,
   "metadata": {},
   "outputs": [],
   "source": [
    "#### Fix the missing values for the dosage feature\n",
    "# Dosage has a lot of missing values\n",
    "def describe_nulls(data, column):\n",
    "    nulls = data[data[column].isnull()]\n",
    "    #nulls.to_excel(column+\"_nulls.xlsx\")\n",
    "    for col in nulls:\n",
    "        #print('\\n',col,\"nulls summary: \\nCount: {} \\nUnique: {} \\nTop Freq: {}\".format(col.count()\n",
    "        #      ,len(col.unique()), col.values_count()[:3]))\n",
    "        print('\\n-------\\n',nulls[col].describe())"
   ]
  },
  {
   "cell_type": "markdown",
   "metadata": {},
   "source": [
    "#### Shipping Mode"
   ]
  },
  {
   "cell_type": "code",
   "execution_count": 17,
   "metadata": {},
   "outputs": [
    {
     "name": "stdout",
     "output_type": "stream",
     "text": [
      "\n",
      "-------\n",
      " count      360.000000\n",
      "mean     10683.311111\n",
      "std       2571.053752\n",
      "min         69.000000\n",
      "25%      10812.500000\n",
      "50%      11373.500000\n",
      "75%      12051.500000\n",
      "max      12835.000000\n",
      "Name: id, dtype: float64\n",
      "\n",
      "-------\n",
      " count            360\n",
      "unique            15\n",
      "top       110-ZM-T01\n",
      "freq              99\n",
      "Name: proj_code, dtype: object\n",
      "\n",
      "-------\n",
      " count                360\n",
      "unique                 1\n",
      "top       Pre-PQ Process\n",
      "freq                 360\n",
      "Name: pq_no, dtype: object\n",
      "\n",
      "-------\n",
      " count            360\n",
      "unique           220\n",
      "top       SCMS-16600\n",
      "freq              18\n",
      "Name: po_no, dtype: object\n",
      "\n",
      "-------\n",
      " count          360\n",
      "unique         226\n",
      "top       ASN-1520\n",
      "freq            16\n",
      "Name: ship_no, dtype: object\n",
      "\n",
      "-------\n",
      " count               360\n",
      "unique               12\n",
      "top       Côte d'Ivoire\n",
      "freq                113\n",
      "Name: country, dtype: object\n",
      "\n",
      "-------\n",
      " count          360\n",
      "unique           1\n",
      "top       PMO - US\n",
      "freq           360\n",
      "Name: mngr, dtype: object\n",
      "\n",
      "-------\n",
      " count          360\n",
      "unique           2\n",
      "top       From RDC\n",
      "freq           312\n",
      "Name: fulfill_via, dtype: object\n",
      "\n",
      "-------\n",
      " count                360\n",
      "unique                 5\n",
      "top       N/A - From RDC\n",
      "freq                 312\n",
      "Name: vendor_terms, dtype: object\n",
      "\n",
      "-------\n",
      " count       0\n",
      "unique      0\n",
      "top       NaN\n",
      "freq      NaN\n",
      "Name: ship_mode, dtype: object\n",
      "\n",
      "-------\n",
      " count                360\n",
      "unique                 1\n",
      "top       Pre-PQ Process\n",
      "freq                 360\n",
      "Name: pq_date, dtype: object\n",
      "\n",
      "-------\n",
      " count                360\n",
      "unique                 8\n",
      "top       N/A - From RDC\n",
      "freq                 312\n",
      "Name: po_date, dtype: object\n",
      "\n",
      "-------\n",
      " count                     360\n",
      "unique                    127\n",
      "top       2008-01-21 00:00:00\n",
      "freq                       20\n",
      "first     2006-07-21 00:00:00\n",
      "last      2008-10-06 00:00:00\n",
      "Name: del_date_scheduled, dtype: object\n",
      "\n",
      "-------\n",
      " count                     360\n",
      "unique                    130\n",
      "top       2008-01-04 00:00:00\n",
      "freq                       16\n",
      "first     2006-07-13 00:00:00\n",
      "last      2008-10-06 00:00:00\n",
      "Name: del_date_client, dtype: object\n",
      "\n",
      "-------\n",
      " count                     360\n",
      "unique                    129\n",
      "top       2007-04-30 00:00:00\n",
      "freq                       16\n",
      "first     2006-07-13 00:00:00\n",
      "last      2008-10-06 00:00:00\n",
      "Name: del_date_recorded, dtype: object\n",
      "\n",
      "-------\n",
      " count     360\n",
      "unique      3\n",
      "top       ARV\n",
      "freq      309\n",
      "Name: prod_grp, dtype: object\n",
      "\n",
      "-------\n",
      " count       360\n",
      "unique        5\n",
      "top       Adult\n",
      "freq        239\n",
      "Name: sub_class, dtype: object\n",
      "\n",
      "-------\n",
      " count               360\n",
      "unique                7\n",
      "top       SCMS from RDC\n",
      "freq                312\n",
      "Name: vendor, dtype: object\n",
      "\n",
      "-------\n",
      " count                                   360\n",
      "unique                                   68\n",
      "top       Efavirenz 600mg, tablets, 30 Tabs\n",
      "freq                                     42\n",
      "Name: itm_desc, dtype: object\n",
      "\n",
      "-------\n",
      " count           360\n",
      "unique           35\n",
      "top       Efavirenz\n",
      "freq             62\n",
      "Name: molecule_test, dtype: object\n",
      "\n",
      "-------\n",
      " count         360\n",
      "unique         28\n",
      "top       Generic\n",
      "freq          213\n",
      "Name: brand, dtype: object\n",
      "\n",
      "-------\n",
      " count                   360\n",
      "unique                   31\n",
      "top       TestKit/Ancillary\n",
      "freq                     51\n",
      "Name: dosage, dtype: object\n",
      "\n",
      "-------\n",
      " count        360\n",
      "unique        11\n",
      "top       Tablet\n",
      "freq         126\n",
      "Name: dosage_form, dtype: object\n",
      "\n",
      "-------\n",
      " count    360.000000\n",
      "mean      93.633333\n",
      "std       80.095236\n",
      "min        1.000000\n",
      "25%       30.000000\n",
      "50%       60.000000\n",
      "75%      100.000000\n",
      "max      336.000000\n",
      "Name: units, dtype: float64\n",
      "\n",
      "-------\n",
      " count      360.000000\n",
      "mean     10571.941667\n",
      "std      18499.743518\n",
      "min          2.000000\n",
      "25%        484.250000\n",
      "50%       1956.500000\n",
      "75%      10000.000000\n",
      "max      92144.000000\n",
      "Name: ln_itm_qty, dtype: float64\n",
      "\n",
      "-------\n",
      " count    3.600000e+02\n",
      "mean     1.121277e+05\n",
      "std      1.983279e+05\n",
      "min      1.520000e+00\n",
      "25%      6.380000e+03\n",
      "50%      3.144431e+04\n",
      "75%      1.205830e+05\n",
      "max      1.360768e+06\n",
      "Name: ln_itm_val, dtype: float64\n",
      "\n",
      "-------\n",
      " count    360.000000\n",
      "mean      26.780667\n",
      "std       42.496382\n",
      "min        0.010000\n",
      "25%        6.722500\n",
      "50%       16.125000\n",
      "75%       35.275000\n",
      "max      400.000000\n",
      "Name: pk_price, dtype: float64\n",
      "\n",
      "-------\n",
      " count    360.000000\n",
      "mean       1.204667\n",
      "std       12.740643\n",
      "min        0.000000\n",
      "25%        0.100000\n",
      "50%        0.180000\n",
      "75%        0.540000\n",
      "max      238.650000\n",
      "Name: unit_price, dtype: float64\n",
      "\n",
      "-------\n",
      " count                           360\n",
      "unique                           36\n",
      "top       Aurobindo Unit III, India\n",
      "freq                            141\n",
      "Name: factory, dtype: object\n",
      "\n",
      "-------\n",
      " count     360\n",
      "unique      2\n",
      "top       Yes\n",
      "freq      226\n",
      "Name: first_line, dtype: object\n",
      "\n",
      "-------\n",
      " count                            360\n",
      "unique                           259\n",
      "top       Weight Captured Separately\n",
      "freq                              47\n",
      "Name: weight, dtype: object\n",
      "\n",
      "-------\n",
      " count                                    360\n",
      "unique                                   261\n",
      "top       Freight Included in Commodity Cost\n",
      "freq                                      49\n",
      "Name: freight_cost, dtype: object\n",
      "\n",
      "-------\n",
      " count     254.000000\n",
      "mean      196.738898\n",
      "std       346.458321\n",
      "min         0.000000\n",
      "25%         8.200000\n",
      "50%        46.220000\n",
      "75%       209.855000\n",
      "max      2177.230000\n",
      "Name: line_itm_ins, dtype: float64\n"
     ]
    }
   ],
   "source": [
    "describe_nulls(dobject, 'ship_mode')"
   ]
  },
  {
   "cell_type": "code",
   "execution_count": 18,
   "metadata": {},
   "outputs": [
    {
     "name": "stdout",
     "output_type": "stream",
     "text": [
      "(1323, 3) Index(['country', 'itm_desc', 'ship_mode'], dtype='object')\n",
      "(10324, 34) Index(['id', 'proj_code', 'pq_no', 'po_no', 'ship_no', 'country', 'mngr',\n",
      "       'fulfill_via', 'vendor_terms', 'ship_mode', 'pq_date', 'po_date',\n",
      "       'del_date_scheduled', 'del_date_client', 'del_date_recorded',\n",
      "       'prod_grp', 'sub_class', 'vendor', 'itm_desc', 'molecule_test', 'brand',\n",
      "       'dosage', 'dosage_form', 'units', 'ln_itm_qty', 'ln_itm_val',\n",
      "       'pk_price', 'unit_price', 'factory', 'first_line', 'weight',\n",
      "       'freight_cost', 'line_itm_ins', 'ship_mode_y'],\n",
      "      dtype='object')\n",
      "(10324, 33)\n"
     ]
    }
   ],
   "source": [
    "data, column, groupby = [dobject.copy(), 'ship_mode',['country', 'itm_desc', 'ship_mode']]\n",
    "# make cx\n",
    "cx=data.groupby(groupby).agg('count').reset_index()[['country', 'itm_desc', 'ship_mode']]\n",
    "print(cx.shape, cx.columns)\n",
    "cx = cx.groupby(['country', 'itm_desc']).min().reset_index()\n",
    "# make cy\n",
    "cy = pd.merge(data, cx, how='left', left_on=['country', 'itm_desc']\n",
    "         , right_on=['country', 'itm_desc'], suffixes=('','_y'))\n",
    "print(cy.shape, cy.columns)\n",
    "# assign\n",
    "cy['ship_mode'] = cy.ship_mode.where(cy.ship_mode.notnull(), cy.ship_mode_y)\n",
    "still_null= cy.ship_mode.isnull().index # find remiaining nulls\n",
    "a = data.ship_mode.value_counts()/data.ship_mode.value_counts().sum() # values distributed randomness \n",
    "for j in still_null:\n",
    "    cy.loc[j,'ship_mode'] = np.random.choice([i for i in a.index], p=[v for v in a])\n",
    "cy.ship_mode.isnull().sum()\n",
    "# Drop\n",
    "cy.drop('ship_mode_y', axis=1, inplace=True)\n",
    "print(cy.shape)\n",
    "dobject= cy.copy()"
   ]
  },
  {
   "cell_type": "markdown",
   "metadata": {},
   "source": [
    "#### Line Item Insurance"
   ]
  },
  {
   "cell_type": "code",
   "execution_count": 19,
   "metadata": {},
   "outputs": [
    {
     "data": {
      "text/plain": [
       "ln_itm_val        0\n",
       "pk_price          0\n",
       "unit_price        0\n",
       "line_itm_ins    287\n",
       "dtype: int64"
      ]
     },
     "execution_count": 19,
     "metadata": {},
     "output_type": "execute_result"
    }
   ],
   "source": [
    "dfloat.isnull().sum()"
   ]
  },
  {
   "cell_type": "code",
   "execution_count": 20,
   "metadata": {},
   "outputs": [
    {
     "data": {
      "text/plain": [
       "0.0024500000000000012"
      ]
     },
     "execution_count": 20,
     "metadata": {},
     "output_type": "execute_result"
    }
   ],
   "source": [
    "yr = pd.Series([str(x).split(\"-\")[0] for x in ddate.del_date_scheduled], index = ddate.del_date_scheduled.index)\n",
    "d_ins = dobject[dfloat.line_itm_ins.isnull()]\n",
    "#d_ins.to_excel('line_insurance_missing_values.xlsx')\n",
    "# Most missing values driven by 2007 items, so use lower end of 2007 insurance\n",
    "# Use Median Value\n",
    "q1 = np.percentile(dfloat[yr == '2007'].dropna()['line_itm_ins'], 0.5)\n",
    "dfloat.fillna(value=q1, inplace=True)\n",
    "q1"
   ]
  },
  {
   "cell_type": "markdown",
   "metadata": {},
   "source": [
    "### Investigate Misclassified/Misplaced Features\n",
    "#### e.g. dates cast as objects etc."
   ]
  },
  {
   "cell_type": "markdown",
   "metadata": {},
   "source": [
    "\n",
    "#### Purchase Quotation and Purchase Order Dates "
   ]
  },
  {
   "cell_type": "markdown",
   "metadata": {},
   "source": [
    "**Pull out the meanings and definitions:**\n",
    "\n",
    "- **\"Pre-PQ Process\"** indicates deliveries that occurred before the PQ process was put in place in mid-2009.  \n",
    "\n",
    "- **\"Date Not Captured\"** where date was not captured.\n",
    "\n",
    "- Not applicable for from RDC deliveries (**\"NA - From RDC\"**).  RDC means Regional Delivery Center\n",
    "\n",
    "- **\"Date Not Captured\"** where date was not captured.\n",
    "\n",
    "Given the information above, let's try the following mapping\n",
    "\n",
    "- Pre-PQ Process : 12-31-2008, OR Fill in these based on other time columns?\n",
    "- Date Not Captured: NaT\n",
    "- NA - From RDC : A month before scheduled delivery, if available? OR Fill in these based on other time columns?\n",
    "- Date Not Captured: NaT\n",
    "\n",
    "First try this though...\n",
    "- Pre-PQ Process : 1-1-1970 or pd.to_datetime(0)\n",
    "- Date Not Captured: NaT\n",
    "- NA - From RDC : 1-1-1970 or pd.to_datetime(0)\n",
    "- Date Not Captured: NaT\n",
    " "
   ]
  },
  {
   "cell_type": "code",
   "execution_count": 21,
   "metadata": {
    "scrolled": true
   },
   "outputs": [
    {
     "data": {
      "text/html": [
       "<div>\n",
       "<style scoped>\n",
       "    .dataframe tbody tr th:only-of-type {\n",
       "        vertical-align: middle;\n",
       "    }\n",
       "\n",
       "    .dataframe tbody tr th {\n",
       "        vertical-align: top;\n",
       "    }\n",
       "\n",
       "    .dataframe thead th {\n",
       "        text-align: right;\n",
       "    }\n",
       "</style>\n",
       "<table border=\"1\" class=\"dataframe\">\n",
       "  <thead>\n",
       "    <tr style=\"text-align: right;\">\n",
       "      <th></th>\n",
       "      <th>pq_date</th>\n",
       "      <th>po_date</th>\n",
       "    </tr>\n",
       "  </thead>\n",
       "  <tbody>\n",
       "    <tr>\n",
       "      <th>count</th>\n",
       "      <td>10324</td>\n",
       "      <td>10324</td>\n",
       "    </tr>\n",
       "    <tr>\n",
       "      <th>unique</th>\n",
       "      <td>765</td>\n",
       "      <td>897</td>\n",
       "    </tr>\n",
       "    <tr>\n",
       "      <th>top</th>\n",
       "      <td>Pre-PQ Process</td>\n",
       "      <td>N/A - From RDC</td>\n",
       "    </tr>\n",
       "    <tr>\n",
       "      <th>freq</th>\n",
       "      <td>2476</td>\n",
       "      <td>5404</td>\n",
       "    </tr>\n",
       "  </tbody>\n",
       "</table>\n",
       "</div>"
      ],
      "text/plain": [
       "               pq_date         po_date\n",
       "count            10324           10324\n",
       "unique             765             897\n",
       "top     Pre-PQ Process  N/A - From RDC\n",
       "freq              2476            5404"
      ]
     },
     "execution_count": 21,
     "metadata": {},
     "output_type": "execute_result"
    }
   ],
   "source": [
    "# Check columns of interest\n",
    "dobject[['pq_date', 'po_date']].describe()"
   ]
  },
  {
   "cell_type": "code",
   "execution_count": 22,
   "metadata": {},
   "outputs": [
    {
     "name": "stdout",
     "output_type": "stream",
     "text": [
      "<class 'pandas.core.frame.DataFrame'>\n",
      "Int64Index: 10324 entries, 0 to 10323\n",
      "Data columns (total 33 columns):\n",
      " #   Column              Non-Null Count  Dtype         \n",
      "---  ------              --------------  -----         \n",
      " 0   id                  10324 non-null  int64         \n",
      " 1   proj_code           10324 non-null  object        \n",
      " 2   pq_no               10324 non-null  object        \n",
      " 3   po_no               10324 non-null  object        \n",
      " 4   ship_no             10324 non-null  object        \n",
      " 5   country             10324 non-null  object        \n",
      " 6   mngr                10324 non-null  object        \n",
      " 7   fulfill_via         10324 non-null  object        \n",
      " 8   vendor_terms        10324 non-null  object        \n",
      " 9   ship_mode           10324 non-null  object        \n",
      " 10  pq_date             10324 non-null  object        \n",
      " 11  po_date             10324 non-null  object        \n",
      " 12  del_date_scheduled  10324 non-null  datetime64[ns]\n",
      " 13  del_date_client     10324 non-null  datetime64[ns]\n",
      " 14  del_date_recorded   10324 non-null  datetime64[ns]\n",
      " 15  prod_grp            10324 non-null  object        \n",
      " 16  sub_class           10324 non-null  object        \n",
      " 17  vendor              10324 non-null  object        \n",
      " 18  itm_desc            10324 non-null  object        \n",
      " 19  molecule_test       10324 non-null  object        \n",
      " 20  brand               10324 non-null  object        \n",
      " 21  dosage              10324 non-null  object        \n",
      " 22  dosage_form         10324 non-null  object        \n",
      " 23  units               10324 non-null  int64         \n",
      " 24  ln_itm_qty          10324 non-null  int64         \n",
      " 25  ln_itm_val          10324 non-null  float64       \n",
      " 26  pk_price            10324 non-null  float64       \n",
      " 27  unit_price          10324 non-null  float64       \n",
      " 28  factory             10324 non-null  object        \n",
      " 29  first_line          10324 non-null  object        \n",
      " 30  weight              10324 non-null  object        \n",
      " 31  freight_cost        10324 non-null  object        \n",
      " 32  line_itm_ins        10037 non-null  float64       \n",
      "dtypes: datetime64[ns](3), float64(4), int64(3), object(23)\n",
      "memory usage: 2.7+ MB\n"
     ]
    }
   ],
   "source": [
    "dobject.info() # Notice pq_date and po_date should be datetime type but currently classified as object columns"
   ]
  },
  {
   "cell_type": "code",
   "execution_count": 23,
   "metadata": {},
   "outputs": [
    {
     "name": "stdout",
     "output_type": "stream",
     "text": [
      "-----\n",
      "Non-datetime entries for po_date: ['Date Not Captured', 'N/A - From RDC']\n",
      "-----\n",
      "Non-datetime entries for pq_date: ['Pre-PQ Process', 'Date Not Captured']\n"
     ]
    }
   ],
   "source": [
    "# We see that pq_date and po_date have some non-date values\n",
    "for c  in ['po_date', 'pq_date']:\n",
    "    print(\"-----\\nNon-datetime entries for {}: {}\".format(c,\n",
    "        [x for x in dobject[c].unique() if type(x) == str]))"
   ]
  },
  {
   "cell_type": "code",
   "execution_count": 24,
   "metadata": {
    "scrolled": true
   },
   "outputs": [
    {
     "data": {
      "text/plain": [
       "Text(0.5, 1.0, '20 Most-Frequent Categories in PO_Date')"
      ]
     },
     "execution_count": 24,
     "metadata": {},
     "output_type": "execute_result"
    },
    {
     "data": {
      "image/png": "[encoded data removed]",
      "text/plain": [
       "<Figure size 1008x216 with 2 Axes>"
      ]
     },
     "metadata": {
      "needs_background": "light"
     },
     "output_type": "display_data"
    }
   ],
   "source": [
    "# Investigate the size of these string descriptions, we see they are quite significant. \n",
    "# Date not Captured is noticeable but not a lot, more investigation...\n",
    "f, (ax1, ax2) = plt.subplots(1,2, figsize=(14,3))\n",
    "data['pq_date'].value_counts()[:20].plot(kind='bar', ax=ax1)\n",
    "ax1.set_title(\"20 Most-Frequent Categories in PQ_Date\")\n",
    "data['po_date'].value_counts()[:20].plot(kind='bar', ax=ax2)\n",
    "ax2.set_title(\"20 Most-Frequent Categories in PO_Date\")"
   ]
  },
  {
   "cell_type": "code",
   "execution_count": 25,
   "metadata": {},
   "outputs": [],
   "source": [
    "# Let's take this outside..to excel\n",
    "po_idx = dobject[(dobject.po_date=='Date Not Captured')|(dobject.po_date==\"N/A - From RDC\")].index        \n",
    "pq_idx = dobject[(dobject.pq_date=='Pre-PQ Process') | (dobject.pq_date=='Date Not Captured')].index\n",
    "dnc_idx = list(po_idx) + list(pq_idx)\n",
    "\n",
    "#dobject.loc[dnc_idx,:].to_excel(\"po_pq_date_not_captured.xlsx\")\n",
    "#ddate.loc[dnc_idx,:].to_excel('po_pq_date_not_captured_comp.xlsx')\n",
    "\n",
    "# For South Africa, We find 2 project codes that are responsible..and a few countries too\n",
    "dobject[(dobject.proj_code=='116-ZA-T30')\n",
    "| (dobject.proj_code =='116-ZA-T01')].to_excel('po_pq_date_not_captured_ref.xlsx')\n",
    "\n",
    "dnc_proj_idx = list(dobject[(dobject.proj_code=='116-ZA-T30')\n",
    "| (dobject.proj_code =='116-ZA-T01')].index)\n",
    "ddate.loc[dnc_proj_idx,:].to_excel('po_pq_date_not_captured_comp_proj.xlsx')"
   ]
  },
  {
   "cell_type": "code",
   "execution_count": 26,
   "metadata": {},
   "outputs": [
    {
     "name": "stdout",
     "output_type": "stream",
     "text": [
      "5732 2681 8413\n"
     ]
    }
   ],
   "source": [
    "print(len(po_idx), len(pq_idx), len(dnc_idx))"
   ]
  },
  {
   "cell_type": "code",
   "execution_count": 27,
   "metadata": {},
   "outputs": [],
   "source": [
    "data, column, groupby = [dobject.copy(), 'po_date',['country', 'Itm_desc','del_date_scheduled','po_date']]\n",
    "#ddate.del_date_scheduled[dnc_idx] - pd.to_datetime(dobject.po_date[dnc_idx])\n",
    "#dx = pd.merge(dobject, ddate, how='left', left_index=True, right_index=True)\n",
    "dx = dobject.copy()\n",
    "dx.po_date.replace({'Date Not Captured':pd.to_datetime('1900')\n",
    "                    , 'N/A - From RDC':pd.to_datetime('1910')}, inplace=True)\n",
    "dx.pq_date.replace({'Date Not Captured':pd.to_datetime('1970')\n",
    "                    , 'Pre-PQ Process':pd.to_datetime('1980'),}, inplace=True)\n",
    "dx['po_date_est'] = dx.del_date_scheduled - pd.to_datetime(dx.po_date)\n",
    "dx['pq_date_est'] = pd.to_datetime(dx.po_date) - pd.to_datetime(dx.pq_date)"
   ]
  },
  {
   "cell_type": "markdown",
   "metadata": {},
   "source": [
    "#### Replace strings with dummy dates, estimate days from purchase order to scheduled delivery"
   ]
  },
  {
   "cell_type": "code",
   "execution_count": 28,
   "metadata": {
    "scrolled": false
   },
   "outputs": [
    {
     "name": "stdout",
     "output_type": "stream",
     "text": [
      "(10324, 3) (10324, 33)\n",
      "(10324, 5) (10324, 31)\n",
      "\n",
      " Describe..         pq_date_est   po_date_est\n",
      "count  10324.000000  10324.000000\n",
      "mean    2906.575746  20701.253003\n",
      "std     4653.136085  18453.240587\n",
      "min     -150.000000   -160.000000\n",
      "25%      127.000000    105.750000\n",
      "50%      196.000000  35809.000000\n",
      "75%     9914.000000  37337.000000\n",
      "max    14663.000000  41378.000000\n"
     ]
    }
   ],
   "source": [
    "## Make Sandbox...\n",
    "dd , do = ddate.copy(),dobject.copy()\n",
    "do.po_date.replace({'Date Not Captured':pd.to_datetime('1900')\n",
    "                    , 'N/A - From RDC':pd.to_datetime('1910')}, inplace=True)\n",
    "do.pq_date.replace({'Date Not Captured':pd.to_datetime('1970')\n",
    "                    , 'Pre-PQ Process':pd.to_datetime('1980'),}, inplace=True)\n",
    "print(dd.shape, do.shape)\n",
    "for col in ['pq_date', 'po_date']:\n",
    "    dd[col] = pd.to_datetime(do[col])\n",
    "    do.drop(col, axis=1, inplace=True)\n",
    "print(dd.shape, do.shape)\n",
    "dd.head()\n",
    "# do conversions...\n",
    "estdates =['pq_date','po_date'] \n",
    "time_factor = 1e9*3600*24.0\n",
    "for c in estdates:\n",
    "    dd[c+\"_est\"] = pd.to_numeric(dd['del_date_scheduled'] - dd[c])/(time_factor)\n",
    "print(\"\\n Describe..\",dd.describe())"
   ]
  },
  {
   "cell_type": "code",
   "execution_count": 29,
   "metadata": {},
   "outputs": [
    {
     "name": "stdout",
     "output_type": "stream",
     "text": [
      "Length PO troublesome indices:  5732\n",
      "Length PQ troublesome indices:  2681\n",
      "Index(['del_date_scheduled', 'del_date_client', 'del_date_recorded', 'pq_date',\n",
      "       'po_date', 'pq_date_est', 'po_date_est', 'country', 'vendor',\n",
      "       'itm_desc', 'year'],\n",
      "      dtype='object')\n"
     ]
    }
   ],
   "source": [
    "# Make seperate indices\n",
    "fillvals = ['1900', '1910', '1970', '1980']\n",
    "po_dnc_i, po_rdc_i  = list(dd[dd.po_date==fillvals[0]].index), list(dd[dd.po_date==fillvals[1]].index)\n",
    "pq_dnc_i,pq_pqp_i = list(dd[dd.pq_date==fillvals[2]].index),list(dd[dd.pq_date==fillvals[3]].index)\n",
    "print(\"Length PO troublesome indices: \",len(set(po_dnc_i+po_rdc_i)))\n",
    "print(\"Length PQ troublesome indices: \",len(set(pq_dnc_i+pq_pqp_i)))\n",
    "# Merge with country vendor then add year variable\n",
    "dd = pd.merge(dd, do[['country', 'vendor', 'itm_desc']], how=\"left\", right_index=True, left_index=True)\n",
    "dd['year'] = [x.year for x in dd.del_date_scheduled]\n",
    "print(dd.columns)"
   ]
  },
  {
   "cell_type": "markdown",
   "metadata": {},
   "source": [
    "#### Make Purchase order date (po_date)  lookup dataframe and merge"
   ]
  },
  {
   "cell_type": "code",
   "execution_count": 30,
   "metadata": {},
   "outputs": [
    {
     "name": "stdout",
     "output_type": "stream",
     "text": [
      "\n",
      "Begin mean:  pq_date_est     2906.575746\n",
      "po_date_est    20701.253003\n",
      "year            2011.257555\n",
      "dtype: float64\n",
      "\n",
      "End mean:  pq_date_est    1851.457753\n",
      "po_date_est     105.742596\n",
      "year           2011.851699\n",
      "dtype: float64\n",
      "\\Lookup table columns:  Index(['country', 'year', 'pq_date_est', 'po_date_est'], dtype='object') Index(['year', 'pq_date_est', 'po_date_est'], dtype='object')\n",
      "1910-01-01    5404\n",
      "1900-01-01     328\n",
      "Name: po_date, dtype: int64\n",
      "\n",
      "Nulls remaining:  153\n",
      "\n",
      "Nulls remaining:  0\n",
      "  del_date_scheduled del_date_client del_date_recorded    pq_date    po_date  \\\n",
      "0         2006-06-02      2006-06-02        2006-06-02 1980-01-01 1900-01-01   \n",
      "1         2006-11-14      2006-11-14        2006-11-14 1980-01-01 1900-01-01   \n",
      "2         2006-08-27      2006-08-27        2006-08-27 1980-01-01 1900-01-01   \n",
      "3         2006-09-01      2006-09-01        2006-09-01 1980-01-01 1900-01-01   \n",
      "4         2006-08-11      2006-08-11        2006-08-11 1980-01-01 1900-01-01   \n",
      "\n",
      "   pq_date_est_x  po_date_est_x  pq_date_est_y  po_date_est_y  pq_date_est  \\\n",
      "0         9649.0        38868.0         9674.0           69.0       9766.0   \n",
      "1         9814.0        39033.0            NaN            NaN       9766.0   \n",
      "2         9735.0        38954.0         9674.0           69.0       9766.0   \n",
      "3         9740.0        38959.0            NaN            NaN       9766.0   \n",
      "4         9719.0        38938.0            NaN            NaN       9766.0   \n",
      "\n",
      "   po_date_est  \n",
      "0         41.5  \n",
      "1         41.5  \n",
      "2         41.5  \n",
      "3         41.5  \n",
      "4         41.5  \n"
     ]
    }
   ],
   "source": [
    "# Make lookup tables with alternate FillValues (summary stats) \n",
    "print(\"\\nBegin mean: \", dd.mean())\n",
    "# drop the problem items first  in the right order then aggregate at right level\n",
    "dd_trim= dd.drop(po_dnc_i + po_rdc_i, axis=0)\n",
    "print(\"\\nEnd mean: \",dd_trim.mean())\n",
    "# Make lookup tables for po\n",
    "po_lkup = dd_trim.groupby(['country','year']).agg('mean').reset_index()\n",
    "po_lkup_yr = dd_trim.groupby(['year']).agg('mean').reset_index()\n",
    "print(\"\\Lookup table columns: \",po_lkup.columns,po_lkup_yr.columns)\n",
    "# Now merge with original dd, not dd_trim..\n",
    "#del tst;del tst2\n",
    "# Merge with more detailed averages, country-year level\n",
    "print(dd.loc[po_rdc_i + po_dnc_i,'po_date'].value_counts()[:10])\n",
    "tst =pd.merge(dd, po_lkup, left_on=['country','year'],\n",
    "        right_on=['country', 'year'], how='left')\n",
    "print(\"\\nNulls remaining: \",tst['po_date_est_y'].isnull().sum())\n",
    "# # Merge with less detailed averages, year level\n",
    "tst2 =pd.merge(tst, po_lkup_yr, left_on=['year'],\n",
    "        right_on=['year'], how='left')\n",
    "print(\"\\nNulls remaining: \",tst2['po_date_est'].isnull().sum())\n",
    "print(tst2[['del_date_scheduled', 'del_date_client', 'del_date_recorded', 'pq_date',\n",
    "       'po_date', 'pq_date_est_x','po_date_est_x','pq_date_est_y','po_date_est_y',\n",
    "            'pq_date_est','po_date_est']].head())\n",
    "dd = tst2[['del_date_scheduled', 'del_date_client', 'del_date_recorded', 'pq_date',\n",
    "       'po_date', 'pq_date_est_x','po_date_est_x','pq_date_est_y','po_date_est_y',\n",
    "            'pq_date_est','po_date_est']]"
   ]
  },
  {
   "cell_type": "markdown",
   "metadata": {},
   "source": [
    "#### Purchase Order Dates - New Estimates "
   ]
  },
  {
   "cell_type": "code",
   "execution_count": 31,
   "metadata": {
    "scrolled": false
   },
   "outputs": [
    {
     "name": "stdout",
     "output_type": "stream",
     "text": [
      "---\n",
      "Total  obs: 10324, \n",
      "From _X: 10324, \n",
      "From _Y: 23, Still Null: 0\n",
      "---\n",
      "Total  obs: 10324, \n",
      "From _X: 4592, \n",
      "From _Y: 5602, Still Null: 153\n",
      "Mean for PO DaTE:  104.24235249154053\n",
      "---\n",
      "Total  obs: 10324, \n",
      "From _Y: 153, Still Null: 0\n",
      "Mean for PO DaTE:  103.79779573316473\n",
      "0\n"
     ]
    }
   ],
   "source": [
    "###### Estimate PO DATE using fill values and conditional logic on df ##########\n",
    "# Merge the columns into one first and second\n",
    "dd['po_datediff'] = dd.po_date_est_x\n",
    "print(\"---\\nTotal  obs: {}, \\nFrom _X: {}, \\nFrom _Y: {}, Still Null: {}\".format(\n",
    "    len(dd.po_datediff), sum(dd.po_datediff==dd.po_date_est_x)\n",
    "      , sum(dd.po_datediff==dd.po_date_est_y), dd.po_datediff.isnull().sum()))\n",
    "m1 = dd.po_datediff < 2000\n",
    "dd['po_datediff'].where(m1,dd.po_date_est_y,inplace=True)\n",
    "print(\"---\\nTotal  obs: {}, \\nFrom _X: {}, \\nFrom _Y: {}, Still Null: {}\".format(\n",
    "    len(dd.po_datediff), sum(dd.po_datediff==dd.po_date_est_x)\n",
    "      , sum(dd.po_datediff==dd.po_date_est_y), dd.po_datediff.isnull().sum()))\n",
    "# DEal with the remaining nulls\n",
    "print('Mean for PO DaTE: ',dd.po_datediff.mean())\n",
    "m2 = dd.po_datediff.notnull()\n",
    "dd['po_datediff'].where(m2,dd.po_date_est,inplace=True)\n",
    "print(\"---\\nTotal  obs: {}, \\nFrom _Y: {}, Still Null: {}\".format(\n",
    "    len(dd.po_datediff), sum(dd.po_datediff==dd.po_date_est), dd.po_datediff.isnull().sum()))\n",
    "print('Mean for PO DaTE: ',dd.po_datediff.mean())\n",
    "## Calculating New PO Date, Finally!\n",
    "dd['po_date_new'] = dd.apply(lambda row: row.del_date_scheduled - \n",
    "                                  (pd.Timedelta(str(row.po_datediff)+\" days\")), axis = 1)\n",
    "print(dd.po_date_new.isnull().sum())"
   ]
  },
  {
   "cell_type": "markdown",
   "metadata": {},
   "source": [
    "#### Purchase Quote Dates - New Estimates "
   ]
  },
  {
   "cell_type": "code",
   "execution_count": 32,
   "metadata": {
    "scrolled": true
   },
   "outputs": [
    {
     "name": "stdout",
     "output_type": "stream",
     "text": [
      "2906.5757458349476\n",
      "172.24349077587334\n",
      "pq_date_est_x     2906.575746\n",
      "po_date_est_x    20701.253003\n",
      "pq_date_est_y     2582.371079\n",
      "po_date_est_y      104.242352\n",
      "pq_date_est       2659.086700\n",
      "po_date_est        102.549427\n",
      "po_datediff        103.797796\n",
      "pq_datediff        172.243491\n",
      "dtype: float64\n"
     ]
    },
    {
     "data": {
      "text/plain": [
       "Index(['del_date_scheduled', 'del_date_client', 'del_date_recorded', 'pq_date',\n",
       "       'po_date', 'po_date_new', 'pq_date_new'],\n",
       "      dtype='object')"
      ]
     },
     "execution_count": 32,
     "metadata": {},
     "output_type": "execute_result"
    }
   ],
   "source": [
    "###### PQ DATE is then derived from NEW PO DATE ########\n",
    "# keep it simple i.e. what is the average podate pqdate diff without the problem areas?\n",
    "dd['pq_datediff'] = dd.pq_date_est_x\n",
    "pq_mean = dd.drop(pq_dnc_i+pq_pqp_i, axis=0)['pq_datediff'].mean()\n",
    "print(dd.pq_date_est_x.mean())\n",
    "print(pq_mean)\n",
    "n1 = dd.pq_datediff < 2000\n",
    "dd['pq_datediff'] = dd['pq_datediff'].where(n1,pq_mean)\n",
    "\n",
    "dd['pq_date_new'] = dd.apply(lambda row: row.po_date_new - \n",
    "                                  (pd.Timedelta(str(row.pq_datediff)+\" days\")), axis = 1)\n",
    "print(dd.mean())\n",
    "ddate = dd[['del_date_scheduled', 'del_date_client', 'del_date_recorded', 'pq_date',\n",
    "       'po_date','po_date_new', 'pq_date_new']]\n",
    "ddate.columns"
   ]
  },
  {
   "cell_type": "markdown",
   "metadata": {},
   "source": [
    "#### Weight and Freight Cost\n",
    "#### The freight cost and weight columns should be either floats or ints \n",
    "#### But currently are misclassified as \"object\""
   ]
  },
  {
   "cell_type": "code",
   "execution_count": 33,
   "metadata": {},
   "outputs": [
    {
     "data": {
      "image/png": "[encoded data removed]",
      "text/plain": [
       "<Figure size 864x576 with 2 Axes>"
      ]
     },
     "metadata": {
      "needs_background": "light"
     },
     "output_type": "display_data"
    }
   ],
   "source": [
    "mhf.plotFreq(dobject, ['freight_cost', 'weight'], cutoff=20)"
   ]
  },
  {
   "cell_type": "code",
   "execution_count": 34,
   "metadata": {
    "scrolled": true
   },
   "outputs": [
    {
     "name": "stdout",
     "output_type": "stream",
     "text": [
      "\n",
      "Type Counts for: freight_cost, \n",
      "<class 'float'>    5734\n",
      "<class 'str'>      4126\n",
      "<class 'int'>       464\n",
      "dtype: int64\n",
      "\n",
      "Type Counts for: weight, \n",
      "<class 'float'>    5734\n",
      "<class 'str'>      4126\n",
      "<class 'int'>       464\n",
      "dtype: int64\n"
     ]
    }
   ],
   "source": [
    "# Convert all numbers to floats, transform all numbers to numeric, deal strings later below...\n",
    "fwcols = ['freight_cost','weight']\n",
    "for c in fwcols:\n",
    "    dobject[c]=dobject[c].apply(lambda x: pd.to_numeric(x, errors = 'ignore'))\n",
    "    print(\"\\nType Counts for: {}, \\n{}\".format(c,\n",
    "        pd.Series([type(x) for x in dobject['freight_cost']]).value_counts()))"
   ]
  },
  {
   "cell_type": "markdown",
   "metadata": {},
   "source": [
    "#### Initial observations..\n",
    "We can see a few things:\n",
    "\n",
    "- for freight_cost \n",
    "    - about 1500 times the freight is included in the commodity cost\n",
    "    - About 250 times the freight is invoiced separately\n",
    "    - Several entries have a reference instead of amount. \n",
    "        - This reference can occurs many times, find out what it means..\n",
    "    - The rest of the entries are numerical as expected: a mixture of integers and floats\n",
    "- for weight: \n",
    "    - About 1500 times the weight was captured seperately\n",
    "    - the rest are mostly integers\n",
    "    \n",
    "    ===========\n",
    "\n",
    "- First Line Designation\t\n",
    "    - Designates if the line in question shows the aggregated freight costs and weight associated with all items on the ASN/DN .There may or may not be other associated lines with each ASN/DN\n",
    "- Weight (Kilograms)\n",
    "    - Weight for all lines on an ASN/DN\tPresent only for FirstLine designated lines\n",
    "- Freight Cost (USD)\n",
    "    - Freight charges associated with all lines on the respective ASN/DN\tPresent only for FirstLine designated lines. For C- and D-vendor INCO term deliveries, freight costs may be included in the unit price for the commodities as indicated by \"Freight Included in Commodity Price\". All other lines are \"Invoiced Separately\""
   ]
  },
  {
   "cell_type": "markdown",
   "metadata": {},
   "source": [
    "#### Get more insight into the freight and weight columns"
   ]
  },
  {
   "cell_type": "code",
   "execution_count": 35,
   "metadata": {},
   "outputs": [
    {
     "name": "stdout",
     "output_type": "stream",
     "text": [
      "\n",
      "--- freight_cost\n",
      " 1                                     6198\n",
      "Freight Included in Commodity Cost    1442\n",
      "Invoiced Separately                    239\n",
      "See DN-304 (ID#:10589)                  16\n",
      "See ASN-32231 (ID#:13648)               14\n",
      "See ASN-31750 (ID#:19272)               14\n",
      "See ASN-28279 (ID#:13547)               13\n",
      "See DN-3015 (ID#:82554)                 12\n",
      "Name: freight_cost, dtype: int64\n",
      "\n",
      "--- weight\n",
      " 1                             6372\n",
      "Weight Captured Separately    1507\n",
      "See DN-304 (ID#:10589)          16\n",
      "See ASN-31750 (ID#:19272)       14\n",
      "See ASN-32231 (ID#:13648)       14\n",
      "See ASN-28279 (ID#:13547)       13\n",
      "See DN-3015 (ID#:82554)         12\n",
      "See DN-3561 (ID#:82654)         10\n",
      "Name: weight, dtype: int64\n"
     ]
    }
   ],
   "source": [
    "for c in fwcols:\n",
    "    print(\"\\n---\",c+\"\\n\",dobject[c].apply(lambda x: x if type(x)== str else 1).value_counts()[:8])"
   ]
  },
  {
   "cell_type": "code",
   "execution_count": 36,
   "metadata": {},
   "outputs": [
    {
     "data": {
      "text/plain": [
       "<matplotlib.axes._subplots.AxesSubplot at 0x2aa3cfe4460>"
      ]
     },
     "execution_count": 36,
     "metadata": {},
     "output_type": "execute_result"
    },
    {
     "data": {
      "image/png": "[encoded data removed]",
      "text/plain": [
       "<Figure size 432x288 with 1 Axes>"
      ]
     },
     "metadata": {
      "needs_background": "light"
     },
     "output_type": "display_data"
    }
   ],
   "source": [
    "# Let's see an example for weight\n",
    "dobject[dobject['weight'] == 'See DN-304 (ID#:10589)']['itm_desc'].value_counts().plot(\n",
    "    kind='barh')"
   ]
  },
  {
   "cell_type": "code",
   "execution_count": 37,
   "metadata": {},
   "outputs": [
    {
     "data": {
      "text/plain": [
       "<matplotlib.axes._subplots.AxesSubplot at 0x2aa3d145bb0>"
      ]
     },
     "execution_count": 37,
     "metadata": {},
     "output_type": "execute_result"
    },
    {
     "data": {
      "image/png": "[encoded data removed]",
      "text/plain": [
       "<Figure size 432x288 with 1 Axes>"
      ]
     },
     "metadata": {
      "needs_background": "light"
     },
     "output_type": "display_data"
    }
   ],
   "source": [
    "# Let's see an example for weight\n",
    "dobject[dobject['weight'] == 'See DN-304 (ID#:10589)']['factory'].value_counts().plot(\n",
    "    kind='barh')"
   ]
  },
  {
   "cell_type": "code",
   "execution_count": 38,
   "metadata": {},
   "outputs": [
    {
     "name": "stdout",
     "output_type": "stream",
     "text": [
      "/n Weight:  1056    9006\n",
      "Name: weight, dtype: object\n"
     ]
    }
   ],
   "source": [
    "# This is the top line item with the weight data for all the ones above..\n",
    "# Weight is bundled/consolidated\n",
    "print(\"/n Weight: \", dobject[dint['id']==10589].weight)"
   ]
  },
  {
   "cell_type": "code",
   "execution_count": 39,
   "metadata": {},
   "outputs": [
    {
     "data": {
      "text/html": [
       "<div>\n",
       "<style scoped>\n",
       "    .dataframe tbody tr th:only-of-type {\n",
       "        vertical-align: middle;\n",
       "    }\n",
       "\n",
       "    .dataframe tbody tr th {\n",
       "        vertical-align: top;\n",
       "    }\n",
       "\n",
       "    .dataframe thead th {\n",
       "        text-align: right;\n",
       "    }\n",
       "</style>\n",
       "<table border=\"1\" class=\"dataframe\">\n",
       "  <thead>\n",
       "    <tr style=\"text-align: right;\">\n",
       "      <th></th>\n",
       "      <th>id</th>\n",
       "      <th>proj_code</th>\n",
       "      <th>pq_no</th>\n",
       "      <th>po_no</th>\n",
       "      <th>ship_no</th>\n",
       "      <th>country</th>\n",
       "      <th>mngr</th>\n",
       "      <th>fulfill_via</th>\n",
       "      <th>vendor_terms</th>\n",
       "      <th>ship_mode</th>\n",
       "      <th>...</th>\n",
       "      <th>units</th>\n",
       "      <th>ln_itm_qty</th>\n",
       "      <th>ln_itm_val</th>\n",
       "      <th>pk_price</th>\n",
       "      <th>unit_price</th>\n",
       "      <th>factory</th>\n",
       "      <th>first_line</th>\n",
       "      <th>weight</th>\n",
       "      <th>freight_cost</th>\n",
       "      <th>line_itm_ins</th>\n",
       "    </tr>\n",
       "  </thead>\n",
       "  <tbody>\n",
       "    <tr>\n",
       "      <th>3623</th>\n",
       "      <td>29706</td>\n",
       "      <td>101-CD-T30</td>\n",
       "      <td>FPQ-16001</td>\n",
       "      <td>SCMS-280210</td>\n",
       "      <td>ASN-31750</td>\n",
       "      <td>Congo, DRC</td>\n",
       "      <td>PMO - US</td>\n",
       "      <td>Direct Drop</td>\n",
       "      <td>EXW</td>\n",
       "      <td>Air</td>\n",
       "      <td>...</td>\n",
       "      <td>20</td>\n",
       "      <td>423</td>\n",
       "      <td>13536.0</td>\n",
       "      <td>32.0</td>\n",
       "      <td>1.6</td>\n",
       "      <td>Trinity Biotech, Plc</td>\n",
       "      <td>No</td>\n",
       "      <td>See ASN-31750 (ID#:19272)</td>\n",
       "      <td>See ASN-31750 (ID#:19272)</td>\n",
       "      <td>15.93</td>\n",
       "    </tr>\n",
       "    <tr>\n",
       "      <th>4041</th>\n",
       "      <td>37470</td>\n",
       "      <td>101-CD-T30</td>\n",
       "      <td>FPQ-16001</td>\n",
       "      <td>SCMS-280210</td>\n",
       "      <td>ASN-31750</td>\n",
       "      <td>Congo, DRC</td>\n",
       "      <td>PMO - US</td>\n",
       "      <td>Direct Drop</td>\n",
       "      <td>EXW</td>\n",
       "      <td>Truck</td>\n",
       "      <td>...</td>\n",
       "      <td>20</td>\n",
       "      <td>34</td>\n",
       "      <td>1088.0</td>\n",
       "      <td>32.0</td>\n",
       "      <td>1.6</td>\n",
       "      <td>Trinity Biotech, Plc</td>\n",
       "      <td>No</td>\n",
       "      <td>See ASN-31750 (ID#:19272)</td>\n",
       "      <td>See ASN-31750 (ID#:19272)</td>\n",
       "      <td>1.28</td>\n",
       "    </tr>\n",
       "    <tr>\n",
       "      <th>4057</th>\n",
       "      <td>37752</td>\n",
       "      <td>101-CD-T30</td>\n",
       "      <td>FPQ-16001</td>\n",
       "      <td>SCMS-280210</td>\n",
       "      <td>ASN-31750</td>\n",
       "      <td>Congo, DRC</td>\n",
       "      <td>PMO - US</td>\n",
       "      <td>Direct Drop</td>\n",
       "      <td>EXW</td>\n",
       "      <td>Air Charter</td>\n",
       "      <td>...</td>\n",
       "      <td>20</td>\n",
       "      <td>65</td>\n",
       "      <td>2080.0</td>\n",
       "      <td>32.0</td>\n",
       "      <td>1.6</td>\n",
       "      <td>Trinity Biotech, Plc</td>\n",
       "      <td>No</td>\n",
       "      <td>See ASN-31750 (ID#:19272)</td>\n",
       "      <td>See ASN-31750 (ID#:19272)</td>\n",
       "      <td>2.45</td>\n",
       "    </tr>\n",
       "    <tr>\n",
       "      <th>4157</th>\n",
       "      <td>39453</td>\n",
       "      <td>101-CD-T30</td>\n",
       "      <td>FPQ-16001</td>\n",
       "      <td>SCMS-280210</td>\n",
       "      <td>ASN-31750</td>\n",
       "      <td>Congo, DRC</td>\n",
       "      <td>PMO - US</td>\n",
       "      <td>Direct Drop</td>\n",
       "      <td>EXW</td>\n",
       "      <td>Truck</td>\n",
       "      <td>...</td>\n",
       "      <td>20</td>\n",
       "      <td>73</td>\n",
       "      <td>2336.0</td>\n",
       "      <td>32.0</td>\n",
       "      <td>1.6</td>\n",
       "      <td>Trinity Biotech, Plc</td>\n",
       "      <td>No</td>\n",
       "      <td>See ASN-31750 (ID#:19272)</td>\n",
       "      <td>See ASN-31750 (ID#:19272)</td>\n",
       "      <td>2.75</td>\n",
       "    </tr>\n",
       "    <tr>\n",
       "      <th>4448</th>\n",
       "      <td>44597</td>\n",
       "      <td>101-CD-T30</td>\n",
       "      <td>FPQ-16001</td>\n",
       "      <td>SCMS-280210</td>\n",
       "      <td>ASN-31750</td>\n",
       "      <td>Congo, DRC</td>\n",
       "      <td>PMO - US</td>\n",
       "      <td>Direct Drop</td>\n",
       "      <td>EXW</td>\n",
       "      <td>Air</td>\n",
       "      <td>...</td>\n",
       "      <td>20</td>\n",
       "      <td>39</td>\n",
       "      <td>1248.0</td>\n",
       "      <td>32.0</td>\n",
       "      <td>1.6</td>\n",
       "      <td>Trinity Biotech, Plc</td>\n",
       "      <td>No</td>\n",
       "      <td>See ASN-31750 (ID#:19272)</td>\n",
       "      <td>See ASN-31750 (ID#:19272)</td>\n",
       "      <td>1.47</td>\n",
       "    </tr>\n",
       "  </tbody>\n",
       "</table>\n",
       "<p>5 rows × 33 columns</p>\n",
       "</div>"
      ],
      "text/plain": [
       "         id   proj_code      pq_no        po_no    ship_no     country  \\\n",
       "3623  29706  101-CD-T30  FPQ-16001  SCMS-280210  ASN-31750  Congo, DRC   \n",
       "4041  37470  101-CD-T30  FPQ-16001  SCMS-280210  ASN-31750  Congo, DRC   \n",
       "4057  37752  101-CD-T30  FPQ-16001  SCMS-280210  ASN-31750  Congo, DRC   \n",
       "4157  39453  101-CD-T30  FPQ-16001  SCMS-280210  ASN-31750  Congo, DRC   \n",
       "4448  44597  101-CD-T30  FPQ-16001  SCMS-280210  ASN-31750  Congo, DRC   \n",
       "\n",
       "          mngr  fulfill_via vendor_terms    ship_mode  ... units ln_itm_qty  \\\n",
       "3623  PMO - US  Direct Drop          EXW          Air  ...    20        423   \n",
       "4041  PMO - US  Direct Drop          EXW        Truck  ...    20         34   \n",
       "4057  PMO - US  Direct Drop          EXW  Air Charter  ...    20         65   \n",
       "4157  PMO - US  Direct Drop          EXW        Truck  ...    20         73   \n",
       "4448  PMO - US  Direct Drop          EXW          Air  ...    20         39   \n",
       "\n",
       "     ln_itm_val pk_price unit_price               factory first_line  \\\n",
       "3623    13536.0     32.0        1.6  Trinity Biotech, Plc         No   \n",
       "4041     1088.0     32.0        1.6  Trinity Biotech, Plc         No   \n",
       "4057     2080.0     32.0        1.6  Trinity Biotech, Plc         No   \n",
       "4157     2336.0     32.0        1.6  Trinity Biotech, Plc         No   \n",
       "4448     1248.0     32.0        1.6  Trinity Biotech, Plc         No   \n",
       "\n",
       "                         weight               freight_cost line_itm_ins  \n",
       "3623  See ASN-31750 (ID#:19272)  See ASN-31750 (ID#:19272)        15.93  \n",
       "4041  See ASN-31750 (ID#:19272)  See ASN-31750 (ID#:19272)         1.28  \n",
       "4057  See ASN-31750 (ID#:19272)  See ASN-31750 (ID#:19272)         2.45  \n",
       "4157  See ASN-31750 (ID#:19272)  See ASN-31750 (ID#:19272)         2.75  \n",
       "4448  See ASN-31750 (ID#:19272)  See ASN-31750 (ID#:19272)         1.47  \n",
       "\n",
       "[5 rows x 33 columns]"
      ]
     },
     "execution_count": 39,
     "metadata": {},
     "output_type": "execute_result"
    }
   ],
   "source": [
    "# Let's see an example for freight cost\n",
    "dobject[dobject['freight_cost'] == 'See ASN-31750 (ID#:19272)'].head()"
   ]
  },
  {
   "cell_type": "code",
   "execution_count": 40,
   "metadata": {},
   "outputs": [
    {
     "name": "stdout",
     "output_type": "stream",
     "text": [
      "         id   proj_code      pq_no        po_no    ship_no     country  \\\n",
      "3014  19272  101-CD-T30  FPQ-16001  SCMS-280210  ASN-31750  Congo, DRC   \n",
      "\n",
      "          mngr  fulfill_via vendor_terms ship_mode  ... units ln_itm_qty  \\\n",
      "3014  PMO - US  Direct Drop          EXW     Truck  ...    20         70   \n",
      "\n",
      "     ln_itm_val pk_price unit_price               factory first_line weight  \\\n",
      "3014     2240.0     32.0        1.6  Trinity Biotech, Plc        Yes    508   \n",
      "\n",
      "     freight_cost line_itm_ins  \n",
      "3014      3918.37         2.64  \n",
      "\n",
      "[1 rows x 33 columns] /nFreight Cost:  3014    3918.37\n",
      "Name: freight_cost, dtype: object\n"
     ]
    }
   ],
   "source": [
    "# This is the top line item with the freight cost for all the ones above..\n",
    "print(dobject[dint['id']==19272], \"/nFreight Cost: \", dobject[dint['id']==19272].freight_cost)"
   ]
  },
  {
   "cell_type": "code",
   "execution_count": 41,
   "metadata": {},
   "outputs": [],
   "source": [
    "# Save both of these to csv files for inspections!\n",
    "# dobject[dint['id']==10589].to_csv(\"weight_ID10589.csv\")\n",
    "# dobject[dobject['weight'] == 'See DN-304 (ID#:10589)'].to_csv(\"weight_See DN-304 ID10589.csv\")\n",
    "# dobject[dint['id']==19272].to_csv(\"freightcost_ID19272.csv\")\n",
    "# dobject[dobject['freight_cost'] == 'See ASN-31750 (ID#:19272)'].to_csv(\"freightcost_See ASN-31750 ID19272.csv\")"
   ]
  },
  {
   "cell_type": "markdown",
   "metadata": {},
   "source": [
    "#### Weight - new estimates "
   ]
  },
  {
   "cell_type": "code",
   "execution_count": 42,
   "metadata": {
    "scrolled": true
   },
   "outputs": [
    {
     "name": "stdout",
     "output_type": "stream",
     "text": [
      "all bundled :  (4744, 33)\n",
      "all unbundled:  (5580, 33) \n",
      "----\n",
      "\n",
      "Unbundled Items Top Freq: \n",
      "----\n",
      " Weight Captured Separately    465\n",
      "2                              29\n",
      "6                              24\n",
      "1                              23\n",
      "5                              20\n",
      "Name: weight, dtype: int64,Bundled Items Top Freq: \n",
      "----\n",
      " Weight Captured Separately    1042\n",
      "See DN-304 (ID#:10589)          16\n",
      "See ASN-32231 (ID#:13648)       14\n",
      "See ASN-31750 (ID#:19272)       14\n",
      "See ASN-28279 (ID#:13547)       13\n",
      "Name: weight, dtype: int64 \n"
     ]
    }
   ],
   "source": [
    "#Alternatively...use ship numbers to make dict\n",
    "bundled_itms =dobject.groupby('ship_no').filter(lambda x: len(x)>1)\n",
    "print(\"all bundled : \", bundled_itms.shape)\n",
    "unbundled_itms = dobject.groupby('ship_no').filter(lambda x: len(x)==1)\n",
    "print(\"all unbundled: \",unbundled_itms.shape,\"\\n----\\n\")\n",
    "print(\"Unbundled Items Top Freq: \\n----\\n {},Bundled Items Top Freq: \\n----\\n {} \".format(unbundled_itms.weight.value_counts()[:5]\n",
    ",bundled_itms.weight.value_counts()[:5]))"
   ]
  },
  {
   "cell_type": "code",
   "execution_count": 43,
   "metadata": {
    "scrolled": true
   },
   "outputs": [
    {
     "name": "stdout",
     "output_type": "stream",
     "text": [
      "only bundled separate weight:  (1042, 33)\n",
      "only single separate weight:  (465, 33)\n"
     ]
    }
   ],
   "source": [
    "# Find those with weight captured separately\n",
    "sep_weight_bundled = bundled_itms[bundled_itms.weight== 'Weight Captured Separately']\n",
    "print(\"only bundled separate weight: \",sep_weight_bundled.shape)\n",
    "sep_weight_single = unbundled_itms[unbundled_itms.weight== 'Weight Captured Separately']\n",
    "print(\"only single separate weight: \",sep_weight_single.shape)"
   ]
  },
  {
   "cell_type": "code",
   "execution_count": 44,
   "metadata": {},
   "outputs": [
    {
     "name": "stdout",
     "output_type": "stream",
     "text": [
      "only single:  (5115, 33)\n",
      "only topline:  (1257, 33)\n",
      "only bottom items : (2445, 33)\n"
     ]
    }
   ],
   "source": [
    "# Seperate out the single, topline and bottom items..\n",
    "single_itms = unbundled_itms.drop(list(sep_weight_single.index),axis=0)\n",
    "print(\"only single: \",single_itms.shape)\n",
    "bundled_no_sep_weight = bundled_itms.drop(list(sep_weight_bundled.index),axis=0)\n",
    "top_itms = bundled_no_sep_weight[[type(x)==int for x in bundled_no_sep_weight.weight]]\n",
    "print(\"only topline: \",top_itms.shape)\n",
    "bottom_itms = bundled_no_sep_weight.drop(top_itms.index)\n",
    "print(\"only bottom items :\",bottom_itms.shape)"
   ]
  },
  {
   "cell_type": "code",
   "execution_count": 45,
   "metadata": {},
   "outputs": [
    {
     "name": "stdout",
     "output_type": "stream",
     "text": [
      "Check, must both equal n=10234 \n",
      "---\n",
      " 10324\n",
      "10324\n"
     ]
    }
   ],
   "source": [
    "# Check the math, should both equal 10234\n",
    "print(\"Check, must both equal n=10234 \\n---\\n\",top_itms.shape[0] + bottom_itms.shape[0] + single_itms.shape[0] + sep_weight_single.shape[0] + sep_weight_bundled.shape[0])\n",
    "print(bundled_itms.shape[0] + unbundled_itms.shape[0])"
   ]
  },
  {
   "cell_type": "markdown",
   "metadata": {},
   "source": [
    "#### Finally, merged with dataframe based on lookup table"
   ]
  },
  {
   "cell_type": "markdown",
   "metadata": {},
   "source": [
    "#### Calculate Average Weight per Item"
   ]
  },
  {
   "cell_type": "code",
   "execution_count": 46,
   "metadata": {},
   "outputs": [
    {
     "name": "stdout",
     "output_type": "stream",
     "text": [
      "(5115, 7) Index(['itm_desc', 'weight', 'molecule_test', 'dosage_form', 'ln_itm_qty',\n",
      "       'units', 'itm_weight'],\n",
      "      dtype='object')\n",
      "(10324, 34) (10324, 35) (10324, 36)\n"
     ]
    }
   ],
   "source": [
    "# Make weight lookup dictionary to cover all product item scenarios\n",
    "w_lkup = single_itms[['itm_desc','weight','molecule_test', 'dosage_form']]\n",
    "w_lkup['weight'] = pd.to_numeric(w_lkup.weight)\n",
    "w_lkup['ln_itm_qty'] = dint.loc[list(w_lkup.index),:]['ln_itm_qty']\n",
    "w_lkup['units'] = dint.loc[list(w_lkup.index),:]['units']\n",
    "w_lkup['itm_weight'] = w_lkup.weight/w_lkup.ln_itm_qty\n",
    "print(w_lkup.shape, w_lkup.columns)\n",
    "\n",
    "# Make lookup tables for each case, in order..\n",
    "w_lkup_itm = w_lkup.groupby('itm_desc').mean().reset_index()[['itm_desc', 'itm_weight']]\n",
    "w_lkup_mol = w_lkup.groupby('molecule_test').mean().reset_index()[['molecule_test', 'itm_weight']]\n",
    "w_lkup_dos = w_lkup.groupby('dosage_form').mean().reset_index()[['dosage_form', 'itm_weight']]\n",
    "\n",
    "merge_itm = pd.merge(dobject, w_lkup_itm, how='left', left_on='itm_desc', right_on='itm_desc')\n",
    "merge_mol = pd.merge(merge_itm, w_lkup_mol, how='left', left_on='molecule_test'\n",
    "                     , right_on='molecule_test')\n",
    "merge_dos = pd.merge(merge_mol, w_lkup_dos, how='left', left_on='dosage_form'\n",
    "                     , right_on='dosage_form')\n",
    "print(merge_itm.shape, merge_mol.shape, merge_dos.shape)"
   ]
  },
  {
   "cell_type": "code",
   "execution_count": 47,
   "metadata": {},
   "outputs": [
    {
     "name": "stdout",
     "output_type": "stream",
     "text": [
      " Nulls at starting point:  241\n",
      " Nulls at midpoint...:  49\n",
      " Nulls at endpoint:  0\n"
     ]
    }
   ],
   "source": [
    "print(\" Nulls at starting point: \", merge_dos.itm_weight_x.isnull().sum())\n",
    "w1 = merge_dos.itm_weight_x.notnull()\n",
    "merge_dos['itm_weight_new'] =merge_dos.itm_weight_x.where(w1\n",
    "                                                                ,merge_dos.itm_weight_y)\n",
    "print(\" Nulls at midpoint...: \", merge_dos.itm_weight_new.isnull().sum())\n",
    "w2 = merge_dos.itm_weight_new.notnull()\n",
    "merge_dos['itm_weight_new'] = merge_dos.itm_weight_new.where(w2\n",
    "                                                                ,merge_dos.itm_weight)\n",
    "print(\" Nulls at endpoint: \", merge_dos.itm_weight_new.isnull().sum())\n",
    "dobject = merge_dos[['proj_code', 'pq_no', 'po_no', 'ship_no', 'country', 'mngr',\n",
    "       'fulfill_via', 'vendor_terms', 'ship_mode', 'pq_date', 'po_date',\n",
    "       'prod_grp', 'sub_class', 'vendor', 'itm_desc', 'molecule_test', 'brand',\n",
    "       'dosage', 'dosage_form', 'factory', 'first_line', 'weight',\n",
    "       'freight_cost',\n",
    "        #'itm_weight_x', 'itm_weight_y', 'itm_weight',\n",
    "       'itm_weight_new']]"
   ]
  },
  {
   "cell_type": "markdown",
   "metadata": {},
   "source": [
    "#### Calculate the real weight of items and move it to the float dictionary"
   ]
  },
  {
   "cell_type": "code",
   "execution_count": 48,
   "metadata": {},
   "outputs": [
    {
     "name": "stdout",
     "output_type": "stream",
     "text": [
      "<class 'pandas.core.frame.DataFrame'>\n",
      "RangeIndex: 10324 entries, 0 to 10323\n",
      "Data columns (total 5 columns):\n",
      " #   Column         Non-Null Count  Dtype  \n",
      "---  ------         --------------  -----  \n",
      " 0   ln_itm_val     10324 non-null  float64\n",
      " 1   pk_price       10324 non-null  float64\n",
      " 2   unit_price     10324 non-null  float64\n",
      " 3   line_itm_ins   10324 non-null  float64\n",
      " 4   ln_itm_weight  10324 non-null  float64\n",
      "dtypes: float64(5)\n",
      "memory usage: 403.4 KB\n"
     ]
    }
   ],
   "source": [
    "dfloat['ln_itm_weight'] = dint['ln_itm_qty']*dobject['itm_weight_new']\n",
    "# drop it in the dobject\n",
    "dobject.drop(['itm_weight_new'\n",
    "             # ,'weight'\n",
    "             ], axis=1, inplace=True)\n",
    "dfloat.info()"
   ]
  },
  {
   "cell_type": "markdown",
   "metadata": {},
   "source": [
    "#### Freight Cost - new estimate"
   ]
  },
  {
   "cell_type": "code",
   "execution_count": 49,
   "metadata": {},
   "outputs": [
    {
     "data": {
      "text/plain": [
       "Freight Included in Commodity Cost    1442\n",
       "Invoiced Separately                    239\n",
       "9736.1                                  36\n",
       "6147.18                                 27\n",
       "See DN-304 (ID#:10589)                  16\n",
       "Name: freight_cost, dtype: int64"
      ]
     },
     "execution_count": 49,
     "metadata": {},
     "output_type": "execute_result"
    }
   ],
   "source": [
    "dobject.freight_cost.value_counts()[:5]"
   ]
  },
  {
   "cell_type": "code",
   "execution_count": 50,
   "metadata": {},
   "outputs": [
    {
     "name": "stdout",
     "output_type": "stream",
     "text": [
      "only bundled separate freight_cost:  (58, 33)\n",
      "only single separate freight_cost:  (181, 33)\n",
      "only bundled freight_cost in commodity cost:  (1000, 33)\n",
      "only single freight_cost in commodity cost:  (442, 33)\n"
     ]
    }
   ],
   "source": [
    "# FC Invoiced Seperately\n",
    "sep_freight_cost_bundled = bundled_itms[bundled_itms.freight_cost== 'Invoiced Separately']\n",
    "print(\"only bundled separate freight_cost: \",sep_freight_cost_bundled.shape)\n",
    "sep_freight_cost_single = unbundled_itms[unbundled_itms.freight_cost== 'Invoiced Separately']\n",
    "print(\"only single separate freight_cost: \",sep_freight_cost_single.shape)\n",
    "# FC Included in Commodity Costs\n",
    "included_freight_cost_bundled = bundled_itms[bundled_itms.freight_cost== 'Freight Included in Commodity Cost']\n",
    "print(\"only bundled freight_cost in commodity cost: \",included_freight_cost_bundled.shape)\n",
    "included_freight_cost_single = unbundled_itms[unbundled_itms.freight_cost== 'Freight Included in Commodity Cost']\n",
    "print(\"only single freight_cost in commodity cost: \",included_freight_cost_single.shape)"
   ]
  },
  {
   "cell_type": "code",
   "execution_count": 51,
   "metadata": {},
   "outputs": [
    {
     "data": {
      "text/plain": [
       "Freight Included in Commodity Cost    173\n",
       "9736.1                                 35\n",
       "6147.18                                27\n",
       "Name: freight_cost, dtype: int64"
      ]
     },
     "execution_count": 51,
     "metadata": {},
     "output_type": "execute_result"
    }
   ],
   "source": [
    "single_itms.freight_cost.value_counts()[:3]"
   ]
  },
  {
   "cell_type": "code",
   "execution_count": 52,
   "metadata": {},
   "outputs": [
    {
     "data": {
      "text/plain": [
       "Freight Included in Commodity Cost    23\n",
       "17090                                  6\n",
       "7329.83                                4\n",
       "Name: freight_cost, dtype: int64"
      ]
     },
     "execution_count": 52,
     "metadata": {},
     "output_type": "execute_result"
    }
   ],
   "source": [
    "top_itms.freight_cost.value_counts()[:3]"
   ]
  },
  {
   "cell_type": "code",
   "execution_count": 53,
   "metadata": {},
   "outputs": [
    {
     "data": {
      "text/plain": [
       "See DN-304 (ID#:10589)       16\n",
       "See ASN-32231 (ID#:13648)    14\n",
       "See ASN-31750 (ID#:19272)    14\n",
       "Name: freight_cost, dtype: int64"
      ]
     },
     "execution_count": 53,
     "metadata": {},
     "output_type": "execute_result"
    }
   ],
   "source": [
    "bottom_itms.freight_cost.value_counts()[:3]"
   ]
  },
  {
   "cell_type": "code",
   "execution_count": 54,
   "metadata": {},
   "outputs": [
    {
     "name": "stdout",
     "output_type": "stream",
     "text": [
      "only single:  (4942, 33)\n",
      "only topline:  (1234, 33)\n",
      "only bottom items : (2445, 33)\n"
     ]
    }
   ],
   "source": [
    "# Seperate out the single, topline and bottom items..\n",
    "single_itms_fc = single_itms.drop(list(\n",
    "single_itms[single_itms.freight_cost=='Freight Included in Commodity Cost'].index),axis=0)\n",
    "print(\"only single: \",single_itms_fc.shape)\n",
    "top_itms_fc = top_itms.drop(list(\n",
    "    top_itms[top_itms.freight_cost=='Freight Included in Commodity Cost'].index), axis=0)\n",
    "print(\"only topline: \",top_itms_fc.shape)\n",
    "bottom_itms_fc = bottom_itms\n",
    "print(\"only bottom items :\",bottom_itms_fc.shape)"
   ]
  },
  {
   "cell_type": "markdown",
   "metadata": {},
   "source": [
    "#### Finally, merged with dataframe based on lookup table\n",
    "\n",
    "#### Calculate Average Freight_cost per Item **weight**"
   ]
  },
  {
   "cell_type": "code",
   "execution_count": 55,
   "metadata": {},
   "outputs": [
    {
     "name": "stdout",
     "output_type": "stream",
     "text": [
      "(4942, 6) Index(['itm_desc', 'freight_cost', 'molecule_test', 'dosage_form',\n",
      "       'ln_itm_weight', 'itm_freight_cost'],\n",
      "      dtype='object')\n",
      "(10324, 24) (10324, 25) (10324, 26)\n"
     ]
    }
   ],
   "source": [
    "# Make freight_cost lookup dictionary to cover all product item scenarios\n",
    "f_lkup = single_itms_fc[['itm_desc','freight_cost','molecule_test', 'dosage_form']]\n",
    "f_lkup['freight_cost'] = pd.to_numeric(f_lkup.freight_cost)\n",
    "f_lkup['ln_itm_weight'] = dfloat.loc[list(f_lkup.index),:]['ln_itm_weight']\n",
    "f_lkup['itm_freight_cost'] = f_lkup.freight_cost/f_lkup.ln_itm_weight\n",
    "print(f_lkup.shape, f_lkup.columns)\n",
    "# Make lookup tables for each case, in order..\n",
    "f_lkup_itm = f_lkup.groupby('itm_desc').mean().reset_index()[['itm_desc', 'itm_freight_cost']]\n",
    "f_lkup_mol = f_lkup.groupby('molecule_test').mean().reset_index()[['molecule_test', 'itm_freight_cost']]\n",
    "f_lkup_dos = f_lkup.groupby('dosage_form').mean().reset_index()[['dosage_form', 'itm_freight_cost']]\n",
    "# Merge\n",
    "fmerge_itm = pd.merge(dobject, f_lkup_itm, how='left', left_on='itm_desc', right_on='itm_desc')\n",
    "fmerge_mol = pd.merge(fmerge_itm, f_lkup_mol, how='left', left_on='molecule_test'\n",
    "                     , right_on='molecule_test')\n",
    "fmerge_dos = pd.merge(fmerge_mol, f_lkup_dos, how='left', left_on='dosage_form'\n",
    "                     , right_on='dosage_form')\n",
    "print(fmerge_itm.shape, fmerge_mol.shape, fmerge_dos.shape)"
   ]
  },
  {
   "cell_type": "code",
   "execution_count": 56,
   "metadata": {
    "scrolled": true
   },
   "outputs": [
    {
     "name": "stdout",
     "output_type": "stream",
     "text": [
      " Nulls at starting point:  245\n",
      " Nulls at midpoint...:  49\n",
      " Nulls at endpoint:  0\n"
     ]
    }
   ],
   "source": [
    "print(\" Nulls at starting point: \", fmerge_dos.itm_freight_cost_x.isnull().sum())\n",
    "w1 = fmerge_dos.itm_freight_cost_x.notnull()\n",
    "fmerge_dos['itm_freight_cost_new'] =fmerge_dos.itm_freight_cost_x.where(w1\n",
    "                                                                ,fmerge_dos.itm_freight_cost_y)\n",
    "print(\" Nulls at midpoint...: \", fmerge_dos.itm_freight_cost_new.isnull().sum())\n",
    "w2 = fmerge_dos.itm_freight_cost_new.notnull()\n",
    "fmerge_dos['itm_freight_cost_new'] = fmerge_dos.itm_freight_cost_new.where(w2\n",
    "                                                                ,fmerge_dos.itm_freight_cost)\n",
    "print(\" Nulls at endpoint: \", fmerge_dos.itm_freight_cost_new.isnull().sum())\n",
    "dobject = fmerge_dos[['proj_code', 'pq_no', 'po_no', 'ship_no', 'country', 'mngr',\n",
    "       'fulfill_via', 'vendor_terms', 'ship_mode', 'pq_date', 'po_date',\n",
    "       'prod_grp', 'sub_class', 'vendor', 'itm_desc', 'molecule_test', 'brand',\n",
    "       'dosage', 'dosage_form', 'factory', 'first_line', 'weight',\n",
    "       'freight_cost', \n",
    "       #'itm_freight_cost_x', 'itm_freight_cost_y', 'itm_freight_cost',\n",
    "       'itm_freight_cost_new']]"
   ]
  },
  {
   "cell_type": "code",
   "execution_count": 57,
   "metadata": {},
   "outputs": [
    {
     "name": "stdout",
     "output_type": "stream",
     "text": [
      "<class 'pandas.core.frame.DataFrame'>\n",
      "RangeIndex: 10324 entries, 0 to 10323\n",
      "Data columns (total 6 columns):\n",
      " #   Column               Non-Null Count  Dtype  \n",
      "---  ------               --------------  -----  \n",
      " 0   ln_itm_val           10324 non-null  float64\n",
      " 1   pk_price             10324 non-null  float64\n",
      " 2   unit_price           10324 non-null  float64\n",
      " 3   line_itm_ins         10324 non-null  float64\n",
      " 4   ln_itm_weight        10324 non-null  float64\n",
      " 5   ln_itm_freight_cost  10324 non-null  float64\n",
      "dtypes: float64(6)\n",
      "memory usage: 484.1 KB\n"
     ]
    }
   ],
   "source": [
    "#### Now Calculate the real freight_cost of items and move it to the float dictionary\n",
    "dfloat['ln_itm_freight_cost'] = dfloat['ln_itm_weight']*dobject['itm_freight_cost_new']\n",
    "# drop it in the dobject\n",
    "dobject.drop(['itm_freight_cost_new'\n",
    "             # ,'freight_cost'\n",
    "             ], axis=1, inplace=True)\n",
    "dfloat.info()"
   ]
  },
  {
   "cell_type": "markdown",
   "metadata": {},
   "source": [
    "#### **Data notes:** Relationships in the cost, price and freight cost features\n",
    "\n",
    "**1. pk_price = unit_price * units **\n",
    "    - calculate pk_price_alt because this is not always the case\n",
    "    - might find some data entry errors\n",
    "    - implications of discounts \n",
    "**2. ln_itm_val = ln_itm_qty * pk_price **\n",
    "    - checks out for most of the entries\n",
    "    - double-check\n",
    "    \n",
    "**3. Freight must be proportionally related to weight **\n",
    "    - broad assumption, but should work if average line item weight per unit is used\n",
    "    - This is then multiplied by the item weight to get the ln_itm_freight_cost "
   ]
  },
  {
   "cell_type": "markdown",
   "metadata": {},
   "source": [
    "----\n",
    "## 2. Feature Engineering\n",
    "----"
   ]
  },
  {
   "cell_type": "markdown",
   "metadata": {},
   "source": [
    "### Feature Extraction"
   ]
  },
  {
   "cell_type": "code",
   "execution_count": 58,
   "metadata": {},
   "outputs": [],
   "source": [
    "# Numerical Columns (float + int)\n",
    "# Cateogorical\n",
    "# Dates"
   ]
  },
  {
   "cell_type": "markdown",
   "metadata": {},
   "source": [
    "#### Dates"
   ]
  },
  {
   "cell_type": "markdown",
   "metadata": {},
   "source": [
    "##### Year, Month and Day from  the date columns to the Object columns \n",
    "##### Businessday/Weekend, Financial Quarter etc. "
   ]
  },
  {
   "cell_type": "code",
   "execution_count": 59,
   "metadata": {},
   "outputs": [
    {
     "name": "stdout",
     "output_type": "stream",
     "text": [
      "5 5 5\n",
      "10324 10324 10324\n",
      "(10324, 38) Index(['proj_code', 'pq_no', 'po_no', 'ship_no', 'country', 'mngr',\n",
      "       'fulfill_via', 'vendor_terms', 'ship_mode', 'pq_date', 'po_date',\n",
      "       'prod_grp', 'sub_class', 'vendor', 'itm_desc', 'molecule_test', 'brand',\n",
      "       'dosage', 'dosage_form', 'factory', 'first_line', 'weight',\n",
      "       'freight_cost', 'pq_date_new_yr', 'pq_date_new_mn', 'pq_date_new_dy',\n",
      "       'po_date_new_yr', 'po_date_new_mn', 'po_date_new_dy',\n",
      "       'del_date_scheduled_yr', 'del_date_scheduled_mn',\n",
      "       'del_date_scheduled_dy', 'del_date_client_yr', 'del_date_client_mn',\n",
      "       'del_date_client_dy', 'del_date_recorded_yr', 'del_date_recorded_mn',\n",
      "       'del_date_recorded_dy'],\n",
      "      dtype='object')\n",
      "<class 'pandas.core.frame.DataFrame'>\n",
      "Int64Index: 10324 entries, 0 to 10323\n",
      "Data columns (total 38 columns):\n",
      " #   Column                 Non-Null Count  Dtype   \n",
      "---  ------                 --------------  -----   \n",
      " 0   proj_code              10324 non-null  object  \n",
      " 1   pq_no                  10324 non-null  object  \n",
      " 2   po_no                  10324 non-null  object  \n",
      " 3   ship_no                10324 non-null  object  \n",
      " 4   country                10324 non-null  object  \n",
      " 5   mngr                   10324 non-null  object  \n",
      " 6   fulfill_via            10324 non-null  object  \n",
      " 7   vendor_terms           10324 non-null  object  \n",
      " 8   ship_mode              10324 non-null  object  \n",
      " 9   pq_date                10324 non-null  object  \n",
      " 10  po_date                10324 non-null  object  \n",
      " 11  prod_grp               10324 non-null  object  \n",
      " 12  sub_class              10324 non-null  object  \n",
      " 13  vendor                 10324 non-null  object  \n",
      " 14  itm_desc               10324 non-null  object  \n",
      " 15  molecule_test          10324 non-null  object  \n",
      " 16  brand                  10324 non-null  object  \n",
      " 17  dosage                 10324 non-null  object  \n",
      " 18  dosage_form            10324 non-null  object  \n",
      " 19  factory                10324 non-null  object  \n",
      " 20  first_line             10324 non-null  object  \n",
      " 21  weight                 10324 non-null  object  \n",
      " 22  freight_cost           10324 non-null  object  \n",
      " 23  pq_date_new_yr         10324 non-null  category\n",
      " 24  pq_date_new_mn         10324 non-null  category\n",
      " 25  pq_date_new_dy         10324 non-null  category\n",
      " 26  po_date_new_yr         10324 non-null  category\n",
      " 27  po_date_new_mn         10324 non-null  category\n",
      " 28  po_date_new_dy         10324 non-null  category\n",
      " 29  del_date_scheduled_yr  10324 non-null  category\n",
      " 30  del_date_scheduled_mn  10324 non-null  category\n",
      " 31  del_date_scheduled_dy  10324 non-null  category\n",
      " 32  del_date_client_yr     10324 non-null  category\n",
      " 33  del_date_client_mn     10324 non-null  category\n",
      " 34  del_date_client_dy     10324 non-null  category\n",
      " 35  del_date_recorded_yr   10324 non-null  category\n",
      " 36  del_date_recorded_mn   10324 non-null  category\n",
      " 37  del_date_recorded_dy   10324 non-null  category\n",
      "dtypes: category(15), object(23)\n",
      "memory usage: 2.0+ MB\n"
     ]
    }
   ],
   "source": [
    "# Make the lists first, thank you, list comprehension!!\n",
    "# Refactor code later to function, can automate which time-period gets added\n",
    "datecolumns =['pq_date_new', 'po_date_new', 'del_date_scheduled'\n",
    "              , 'del_date_client','del_date_recorded']\n",
    "lists_yr=[list(ddate[c].dt.year) for c in datecolumns] # Use .dt function!!\n",
    "lists_mn=[list(ddate[c].dt.month) for c in datecolumns] # Use .dt function!!\n",
    "lists_dy=[list(ddate[c].dt.day) for c in datecolumns] # Use .dt function!!\n",
    "print(len(lists_yr), len(lists_mn),len(lists_dy))\n",
    "print(len(lists_yr[0]), len(lists_mn[2]),len(lists_dy[4]))\n",
    "# Remember to cast these as categories later! \n",
    "date_list_of_lists = [lists_yr, lists_mn, lists_dy]\n",
    "date_suffix = ['yr', 'mn', 'dy']\n",
    "for c in datecolumns:\n",
    "    j = datecolumns.index(c)\n",
    "    for i in range(len(date_list_of_lists)):\n",
    "        name = str(c)+str(\"_\")+str(date_suffix[i])\n",
    "        # Make sure to convert to categorical\n",
    "        dobject[name] = pd.Categorical(date_list_of_lists[i][j])\n",
    "print(dobject.shape,dobject.columns)\n",
    "dobject.info()"
   ]
  },
  {
   "cell_type": "code",
   "execution_count": 60,
   "metadata": {
    "scrolled": true
   },
   "outputs": [
    {
     "name": "stdout",
     "output_type": "stream",
     "text": [
      "5 5 5\n",
      "10324 10324 10324\n",
      "(10324, 53) Index(['proj_code', 'pq_no', 'po_no', 'ship_no', 'country', 'mngr',\n",
      "       'fulfill_via', 'vendor_terms', 'ship_mode', 'pq_date', 'po_date',\n",
      "       'prod_grp', 'sub_class', 'vendor', 'itm_desc', 'molecule_test', 'brand',\n",
      "       'dosage', 'dosage_form', 'factory', 'first_line', 'weight',\n",
      "       'freight_cost', 'pq_date_new_yr', 'pq_date_new_mn', 'pq_date_new_dy',\n",
      "       'po_date_new_yr', 'po_date_new_mn', 'po_date_new_dy',\n",
      "       'del_date_scheduled_yr', 'del_date_scheduled_mn',\n",
      "       'del_date_scheduled_dy', 'del_date_client_yr', 'del_date_client_mn',\n",
      "       'del_date_client_dy', 'del_date_recorded_yr', 'del_date_recorded_mn',\n",
      "       'del_date_recorded_dy', 'pq_date_new_wd', 'pq_date_new_wk',\n",
      "       'pq_date_new_qt', 'po_date_new_wd', 'po_date_new_wk', 'po_date_new_qt',\n",
      "       'del_date_scheduled_wd', 'del_date_scheduled_wk',\n",
      "       'del_date_scheduled_qt', 'del_date_client_wd', 'del_date_client_wk',\n",
      "       'del_date_client_qt', 'del_date_recorded_wd', 'del_date_recorded_wk',\n",
      "       'del_date_recorded_qt'],\n",
      "      dtype='object')\n",
      "<class 'pandas.core.frame.DataFrame'>\n",
      "Int64Index: 10324 entries, 0 to 10323\n",
      "Data columns (total 53 columns):\n",
      " #   Column                 Non-Null Count  Dtype   \n",
      "---  ------                 --------------  -----   \n",
      " 0   proj_code              10324 non-null  object  \n",
      " 1   pq_no                  10324 non-null  object  \n",
      " 2   po_no                  10324 non-null  object  \n",
      " 3   ship_no                10324 non-null  object  \n",
      " 4   country                10324 non-null  object  \n",
      " 5   mngr                   10324 non-null  object  \n",
      " 6   fulfill_via            10324 non-null  object  \n",
      " 7   vendor_terms           10324 non-null  object  \n",
      " 8   ship_mode              10324 non-null  object  \n",
      " 9   pq_date                10324 non-null  object  \n",
      " 10  po_date                10324 non-null  object  \n",
      " 11  prod_grp               10324 non-null  object  \n",
      " 12  sub_class              10324 non-null  object  \n",
      " 13  vendor                 10324 non-null  object  \n",
      " 14  itm_desc               10324 non-null  object  \n",
      " 15  molecule_test          10324 non-null  object  \n",
      " 16  brand                  10324 non-null  object  \n",
      " 17  dosage                 10324 non-null  object  \n",
      " 18  dosage_form            10324 non-null  object  \n",
      " 19  factory                10324 non-null  object  \n",
      " 20  first_line             10324 non-null  object  \n",
      " 21  weight                 10324 non-null  object  \n",
      " 22  freight_cost           10324 non-null  object  \n",
      " 23  pq_date_new_yr         10324 non-null  category\n",
      " 24  pq_date_new_mn         10324 non-null  category\n",
      " 25  pq_date_new_dy         10324 non-null  category\n",
      " 26  po_date_new_yr         10324 non-null  category\n",
      " 27  po_date_new_mn         10324 non-null  category\n",
      " 28  po_date_new_dy         10324 non-null  category\n",
      " 29  del_date_scheduled_yr  10324 non-null  category\n",
      " 30  del_date_scheduled_mn  10324 non-null  category\n",
      " 31  del_date_scheduled_dy  10324 non-null  category\n",
      " 32  del_date_client_yr     10324 non-null  category\n",
      " 33  del_date_client_mn     10324 non-null  category\n",
      " 34  del_date_client_dy     10324 non-null  category\n",
      " 35  del_date_recorded_yr   10324 non-null  category\n",
      " 36  del_date_recorded_mn   10324 non-null  category\n",
      " 37  del_date_recorded_dy   10324 non-null  category\n",
      " 38  pq_date_new_wd         10324 non-null  category\n",
      " 39  pq_date_new_wk         10324 non-null  category\n",
      " 40  pq_date_new_qt         10324 non-null  category\n",
      " 41  po_date_new_wd         10324 non-null  category\n",
      " 42  po_date_new_wk         10324 non-null  category\n",
      " 43  po_date_new_qt         10324 non-null  category\n",
      " 44  del_date_scheduled_wd  10324 non-null  category\n",
      " 45  del_date_scheduled_wk  10324 non-null  category\n",
      " 46  del_date_scheduled_qt  10324 non-null  category\n",
      " 47  del_date_client_wd     10324 non-null  category\n",
      " 48  del_date_client_wk     10324 non-null  category\n",
      " 49  del_date_client_qt     10324 non-null  category\n",
      " 50  del_date_recorded_wd   10324 non-null  category\n",
      " 51  del_date_recorded_wk   10324 non-null  category\n",
      " 52  del_date_recorded_qt   10324 non-null  category\n",
      "dtypes: category(30), object(23)\n",
      "memory usage: 2.2+ MB\n"
     ]
    }
   ],
   "source": [
    "# Make businessday, monthend, and quarterly features\n",
    "datecolumns =['pq_date_new', 'po_date_new', 'del_date_scheduled'\n",
    "              , 'del_date_client','del_date_recorded']\n",
    "lists_wd=[list(ddate[c].dt.weekday) for c in datecolumns] # Use .dt function!!\n",
    "lists_wk=[list(ddate[c].dt.weekofyear) for c in datecolumns] # Use .dt function!!\n",
    "lists_qt=[list(ddate[c].dt.quarter) for c in datecolumns] # Use .dt function!!\n",
    "print(len(lists_wd), len(lists_wk),len(lists_qt))\n",
    "print(len(lists_wd[0]), len(lists_wk[2]),len(lists_qt[4]))\n",
    "\n",
    "# Remember to cast these as categories later! \n",
    "date_list_of_lists = [lists_wd, lists_wk, lists_qt]\n",
    "date_suffix = ['wd', 'wk', 'qt']\n",
    "for c in datecolumns:\n",
    "    j = datecolumns.index(c)\n",
    "    for i in range(len(date_list_of_lists)):\n",
    "        name = str(c)+str(\"_\")+str(date_suffix[i])\n",
    "        # Make sure to convert to categorical\n",
    "        dobject[name] = pd.Categorical(date_list_of_lists[i][j])\n",
    "print(dobject.shape,dobject.columns)\n",
    "dobject.info()"
   ]
  },
  {
   "cell_type": "markdown",
   "metadata": {},
   "source": [
    "#### Numeric\n",
    "#### *Integers and Floats*"
   ]
  },
  {
   "cell_type": "code",
   "execution_count": 61,
   "metadata": {},
   "outputs": [
    {
     "name": "stdout",
     "output_type": "stream",
     "text": [
      "Index(['id', 'units', 'ln_itm_qty'], dtype='object') \n",
      " Index(['ln_itm_val', 'pk_price', 'unit_price', 'line_itm_ins', 'ln_itm_weight',\n",
      "       'ln_itm_freight_cost'],\n",
      "      dtype='object') \n",
      " dict_keys(['object', 'int64', 'datetime64[ns]', 'float64'])\n"
     ]
    }
   ],
   "source": [
    "### Numerical Columns\n",
    "print(dint.columns,\"\\n\", dfloat.columns,\"\\n\",blocks.keys())"
   ]
  },
  {
   "cell_type": "code",
   "execution_count": 62,
   "metadata": {},
   "outputs": [
    {
     "name": "stdout",
     "output_type": "stream",
     "text": [
      "(10324, 9)\n"
     ]
    },
    {
     "data": {
      "text/html": [
       "<div>\n",
       "<style scoped>\n",
       "    .dataframe tbody tr th:only-of-type {\n",
       "        vertical-align: middle;\n",
       "    }\n",
       "\n",
       "    .dataframe tbody tr th {\n",
       "        vertical-align: top;\n",
       "    }\n",
       "\n",
       "    .dataframe thead th {\n",
       "        text-align: right;\n",
       "    }\n",
       "</style>\n",
       "<table border=\"1\" class=\"dataframe\">\n",
       "  <thead>\n",
       "    <tr style=\"text-align: right;\">\n",
       "      <th></th>\n",
       "      <th>id</th>\n",
       "      <th>units</th>\n",
       "      <th>ln_itm_qty</th>\n",
       "      <th>ln_itm_val</th>\n",
       "      <th>pk_price</th>\n",
       "      <th>unit_price</th>\n",
       "      <th>line_itm_ins</th>\n",
       "      <th>ln_itm_weight</th>\n",
       "      <th>ln_itm_freight_cost</th>\n",
       "    </tr>\n",
       "  </thead>\n",
       "  <tbody>\n",
       "    <tr>\n",
       "      <th>0</th>\n",
       "      <td>1</td>\n",
       "      <td>30</td>\n",
       "      <td>19</td>\n",
       "      <td>551.0</td>\n",
       "      <td>29.00</td>\n",
       "      <td>0.97</td>\n",
       "      <td>0.00245</td>\n",
       "      <td>13.000000</td>\n",
       "      <td>819.935000</td>\n",
       "    </tr>\n",
       "    <tr>\n",
       "      <th>1</th>\n",
       "      <td>3</td>\n",
       "      <td>240</td>\n",
       "      <td>1000</td>\n",
       "      <td>6200.0</td>\n",
       "      <td>6.20</td>\n",
       "      <td>0.03</td>\n",
       "      <td>0.00245</td>\n",
       "      <td>368.830071</td>\n",
       "      <td>2335.540207</td>\n",
       "    </tr>\n",
       "    <tr>\n",
       "      <th>2</th>\n",
       "      <td>4</td>\n",
       "      <td>100</td>\n",
       "      <td>500</td>\n",
       "      <td>40000.0</td>\n",
       "      <td>80.00</td>\n",
       "      <td>0.80</td>\n",
       "      <td>0.00245</td>\n",
       "      <td>10671.152042</td>\n",
       "      <td>92778.636389</td>\n",
       "    </tr>\n",
       "    <tr>\n",
       "      <th>3</th>\n",
       "      <td>15</td>\n",
       "      <td>60</td>\n",
       "      <td>31920</td>\n",
       "      <td>127360.8</td>\n",
       "      <td>3.99</td>\n",
       "      <td>0.07</td>\n",
       "      <td>0.00245</td>\n",
       "      <td>1916.285060</td>\n",
       "      <td>856061.478787</td>\n",
       "    </tr>\n",
       "    <tr>\n",
       "      <th>4</th>\n",
       "      <td>16</td>\n",
       "      <td>60</td>\n",
       "      <td>38000</td>\n",
       "      <td>121600.0</td>\n",
       "      <td>3.20</td>\n",
       "      <td>0.05</td>\n",
       "      <td>0.00245</td>\n",
       "      <td>3159.972544</td>\n",
       "      <td>73767.191447</td>\n",
       "    </tr>\n",
       "  </tbody>\n",
       "</table>\n",
       "</div>"
      ],
      "text/plain": [
       "   id  units  ln_itm_qty  ln_itm_val  pk_price  unit_price  line_itm_ins  \\\n",
       "0   1     30          19       551.0     29.00        0.97       0.00245   \n",
       "1   3    240        1000      6200.0      6.20        0.03       0.00245   \n",
       "2   4    100         500     40000.0     80.00        0.80       0.00245   \n",
       "3  15     60       31920    127360.8      3.99        0.07       0.00245   \n",
       "4  16     60       38000    121600.0      3.20        0.05       0.00245   \n",
       "\n",
       "   ln_itm_weight  ln_itm_freight_cost  \n",
       "0      13.000000           819.935000  \n",
       "1     368.830071          2335.540207  \n",
       "2   10671.152042         92778.636389  \n",
       "3    1916.285060        856061.478787  \n",
       "4    3159.972544         73767.191447  "
      ]
     },
     "execution_count": 62,
     "metadata": {},
     "output_type": "execute_result"
    }
   ],
   "source": [
    "# Join dint and dfloat in to dnum?\n",
    "dnum = pd.concat([dint, dfloat], axis=1)\n",
    "print(dnum.shape); dnum.head()"
   ]
  },
  {
   "cell_type": "markdown",
   "metadata": {},
   "source": [
    "#### Numeric\n",
    "#### *Counts, Sums, Proportions, and Measures of Central Tendency*"
   ]
  },
  {
   "cell_type": "code",
   "execution_count": 63,
   "metadata": {},
   "outputs": [
    {
     "name": "stdout",
     "output_type": "stream",
     "text": [
      "[(430, 17), (880, 17), (730, 17), (860, 17), (480, 17)]\n",
      "\n",
      "------\n",
      " [Index(['country', 'del_date_scheduled_yr', 'country_qtysum',\n",
      "       'country_qtycount', 'country_qtymean', 'country_valsum',\n",
      "       'country_valcount', 'country_valmean', 'country_inssum',\n",
      "       'country_inscount', 'country_insmean', 'country_weightsum',\n",
      "       'country_weightcount', 'country_weightmean', 'country_costsum',\n",
      "       'country_costcount', 'country_costmean'],\n",
      "      dtype='object'), Index(['factory', 'del_date_scheduled_yr', 'factory_qtysum',\n",
      "       'factory_qtycount', 'factory_qtymean', 'factory_valsum',\n",
      "       'factory_valcount', 'factory_valmean', 'factory_inssum',\n",
      "       'factory_inscount', 'factory_insmean', 'factory_weightsum',\n",
      "       'factory_weightcount', 'factory_weightmean', 'factory_costsum',\n",
      "       'factory_costcount', 'factory_costmean'],\n",
      "      dtype='object'), Index(['vendor', 'del_date_scheduled_yr', 'vendor_qtysum', 'vendor_qtycount',\n",
      "       'vendor_qtymean', 'vendor_valsum', 'vendor_valcount', 'vendor_valmean',\n",
      "       'vendor_inssum', 'vendor_inscount', 'vendor_insmean',\n",
      "       'vendor_weightsum', 'vendor_weightcount', 'vendor_weightmean',\n",
      "       'vendor_costsum', 'vendor_costcount', 'vendor_costmean'],\n",
      "      dtype='object'), Index(['molecule_test', 'del_date_scheduled_yr', 'molecule_test_qtysum',\n",
      "       'molecule_test_qtycount', 'molecule_test_qtymean',\n",
      "       'molecule_test_valsum', 'molecule_test_valcount',\n",
      "       'molecule_test_valmean', 'molecule_test_inssum',\n",
      "       'molecule_test_inscount', 'molecule_test_insmean',\n",
      "       'molecule_test_weightsum', 'molecule_test_weightcount',\n",
      "       'molecule_test_weightmean', 'molecule_test_costsum',\n",
      "       'molecule_test_costcount', 'molecule_test_costmean'],\n",
      "      dtype='object'), Index(['brand', 'del_date_scheduled_yr', 'brand_qtysum', 'brand_qtycount',\n",
      "       'brand_qtymean', 'brand_valsum', 'brand_valcount', 'brand_valmean',\n",
      "       'brand_inssum', 'brand_inscount', 'brand_insmean', 'brand_weightsum',\n",
      "       'brand_weightcount', 'brand_weightmean', 'brand_costsum',\n",
      "       'brand_costcount', 'brand_costmean'],\n",
      "      dtype='object')]\n",
      "0\n",
      "1\n",
      "2\n",
      "3\n",
      "4\n"
     ]
    }
   ],
   "source": [
    "entities = ['country'  # high-volume countries? high freight cost?\n",
    "            , 'factory' # slow factories, small factories? high freight cost?\n",
    "            , 'vendor' # incompetent vendors? high freight cost?\n",
    "            , 'molecule_test' # trade hurdles? high freight cost?\n",
    "           , 'brand' # shipment quotas? brand troubles?\n",
    "           ] \n",
    "# Make list of dfs to be populated\n",
    "stats_dfs = [None,None,None,None,None]\n",
    "# Must do this by year to allow for dynamic measures\n",
    "n_measures = ['ln_itm_qty', 'ln_itm_val', 'line_itm_ins'\n",
    "                , 'ln_itm_weight', 'ln_itm_freight_cost']\n",
    "joins =[None,None,None,None,None]\n",
    "# Populate the grouped stats dfs\n",
    "for i in range(len(entities)):\n",
    "    stats_dfs[i] = pd.concat([dobject,dnum[n_measures]], axis=1).groupby(\n",
    "        [entities[i], 'del_date_scheduled_yr']).agg(['sum', 'count', 'mean'])\n",
    "    stats_dfs[i].columns = [entities[i]+\"_\"+str(x[0]+x[1]).split(\"_\")[-1] for x in stats_dfs[i].columns]\n",
    "    stats_dfs[i].reset_index(inplace=True)    \n",
    "\n",
    "print([x.shape for x in stats_dfs])\n",
    "print(\"\\n------\\n\",[x.columns for x in stats_dfs])\n",
    "\n",
    "for i in range(len(entities)):\n",
    "    print(i)\n",
    "    a= dobject[entities+['del_date_scheduled_yr']].copy()\n",
    "    joins[i] = pd.merge(a, stats_dfs[i],\n",
    "            left_on=[entities[i],'del_date_scheduled_yr']\n",
    "                 , right_on=[entities[i],'del_date_scheduled_yr'])"
   ]
  },
  {
   "cell_type": "markdown",
   "metadata": {},
   "source": [
    "#### *Merge with the numerical columns*"
   ]
  },
  {
   "cell_type": "code",
   "execution_count": 64,
   "metadata": {},
   "outputs": [
    {
     "data": {
      "text/html": [
       "<div>\n",
       "<style scoped>\n",
       "    .dataframe tbody tr th:only-of-type {\n",
       "        vertical-align: middle;\n",
       "    }\n",
       "\n",
       "    .dataframe tbody tr th {\n",
       "        vertical-align: top;\n",
       "    }\n",
       "\n",
       "    .dataframe thead th {\n",
       "        text-align: right;\n",
       "    }\n",
       "</style>\n",
       "<table border=\"1\" class=\"dataframe\">\n",
       "  <thead>\n",
       "    <tr style=\"text-align: right;\">\n",
       "      <th></th>\n",
       "      <th>id</th>\n",
       "      <th>units</th>\n",
       "      <th>ln_itm_qty</th>\n",
       "      <th>ln_itm_val</th>\n",
       "      <th>pk_price</th>\n",
       "      <th>unit_price</th>\n",
       "      <th>line_itm_ins</th>\n",
       "      <th>ln_itm_weight</th>\n",
       "      <th>ln_itm_freight_cost</th>\n",
       "    </tr>\n",
       "  </thead>\n",
       "  <tbody>\n",
       "    <tr>\n",
       "      <th>0</th>\n",
       "      <td>1</td>\n",
       "      <td>30</td>\n",
       "      <td>19</td>\n",
       "      <td>551.0</td>\n",
       "      <td>29.00</td>\n",
       "      <td>0.97</td>\n",
       "      <td>0.00245</td>\n",
       "      <td>13.000000</td>\n",
       "      <td>819.935000</td>\n",
       "    </tr>\n",
       "    <tr>\n",
       "      <th>1</th>\n",
       "      <td>3</td>\n",
       "      <td>240</td>\n",
       "      <td>1000</td>\n",
       "      <td>6200.0</td>\n",
       "      <td>6.20</td>\n",
       "      <td>0.03</td>\n",
       "      <td>0.00245</td>\n",
       "      <td>368.830071</td>\n",
       "      <td>2335.540207</td>\n",
       "    </tr>\n",
       "    <tr>\n",
       "      <th>2</th>\n",
       "      <td>4</td>\n",
       "      <td>100</td>\n",
       "      <td>500</td>\n",
       "      <td>40000.0</td>\n",
       "      <td>80.00</td>\n",
       "      <td>0.80</td>\n",
       "      <td>0.00245</td>\n",
       "      <td>10671.152042</td>\n",
       "      <td>92778.636389</td>\n",
       "    </tr>\n",
       "    <tr>\n",
       "      <th>3</th>\n",
       "      <td>15</td>\n",
       "      <td>60</td>\n",
       "      <td>31920</td>\n",
       "      <td>127360.8</td>\n",
       "      <td>3.99</td>\n",
       "      <td>0.07</td>\n",
       "      <td>0.00245</td>\n",
       "      <td>1916.285060</td>\n",
       "      <td>856061.478787</td>\n",
       "    </tr>\n",
       "    <tr>\n",
       "      <th>4</th>\n",
       "      <td>16</td>\n",
       "      <td>60</td>\n",
       "      <td>38000</td>\n",
       "      <td>121600.0</td>\n",
       "      <td>3.20</td>\n",
       "      <td>0.05</td>\n",
       "      <td>0.00245</td>\n",
       "      <td>3159.972544</td>\n",
       "      <td>73767.191447</td>\n",
       "    </tr>\n",
       "  </tbody>\n",
       "</table>\n",
       "</div>"
      ],
      "text/plain": [
       "   id  units  ln_itm_qty  ln_itm_val  pk_price  unit_price  line_itm_ins  \\\n",
       "0   1     30          19       551.0     29.00        0.97       0.00245   \n",
       "1   3    240        1000      6200.0      6.20        0.03       0.00245   \n",
       "2   4    100         500     40000.0     80.00        0.80       0.00245   \n",
       "3  15     60       31920    127360.8      3.99        0.07       0.00245   \n",
       "4  16     60       38000    121600.0      3.20        0.05       0.00245   \n",
       "\n",
       "   ln_itm_weight  ln_itm_freight_cost  \n",
       "0      13.000000           819.935000  \n",
       "1     368.830071          2335.540207  \n",
       "2   10671.152042         92778.636389  \n",
       "3    1916.285060        856061.478787  \n",
       "4    3159.972544         73767.191447  "
      ]
     },
     "execution_count": 64,
     "metadata": {},
     "output_type": "execute_result"
    }
   ],
   "source": [
    "dnum.head()"
   ]
  },
  {
   "cell_type": "code",
   "execution_count": 65,
   "metadata": {},
   "outputs": [
    {
     "name": "stdout",
     "output_type": "stream",
     "text": [
      "joined shape:  (10324, 105)\n",
      "joined shape:  (10324, 75)\n",
      "joined columns:  ['country_qtysum', 'country_qtycount', 'country_qtymean', 'country_valsum', 'country_valcount', 'country_valmean', 'country_inssum', 'country_inscount', 'country_insmean', 'country_weightsum', 'country_weightcount', 'country_weightmean', 'country_costsum', 'country_costcount', 'country_costmean', 'factory_qtysum', 'factory_qtycount', 'factory_qtymean', 'factory_valsum', 'factory_valcount', 'factory_valmean', 'factory_inssum', 'factory_inscount', 'factory_insmean', 'factory_weightsum', 'factory_weightcount', 'factory_weightmean', 'factory_costsum', 'factory_costcount', 'factory_costmean', 'vendor_qtysum', 'vendor_qtycount', 'vendor_qtymean', 'vendor_valsum', 'vendor_valcount', 'vendor_valmean', 'vendor_inssum', 'vendor_inscount', 'vendor_insmean', 'vendor_weightsum', 'vendor_weightcount', 'vendor_weightmean', 'vendor_costsum', 'vendor_costcount', 'vendor_costmean', 'molecule_test_qtysum', 'molecule_test_qtycount', 'molecule_test_qtymean', 'molecule_test_valsum', 'molecule_test_valcount', 'molecule_test_valmean', 'molecule_test_inssum', 'molecule_test_inscount', 'molecule_test_insmean', 'molecule_test_weightsum', 'molecule_test_weightcount', 'molecule_test_weightmean', 'molecule_test_costsum', 'molecule_test_costcount', 'molecule_test_costmean', 'brand_qtysum', 'brand_qtycount', 'brand_qtymean', 'brand_valsum', 'brand_valcount', 'brand_valmean', 'brand_inssum', 'brand_inscount', 'brand_insmean', 'brand_weightsum', 'brand_weightcount', 'brand_weightmean', 'brand_costsum', 'brand_costcount', 'brand_costmean']\n"
     ]
    }
   ],
   "source": [
    "joined = pd.concat(joins, axis=1)\n",
    "print(\"joined shape: \", joined.shape)\n",
    "joined=joined.drop(entities+['del_date_scheduled_yr'], axis=1)\n",
    "print(\"joined shape: \", joined.shape)\n",
    "print(\"joined columns: \", joined.columns.tolist())"
   ]
  },
  {
   "cell_type": "code",
   "execution_count": 66,
   "metadata": {},
   "outputs": [],
   "source": [
    "# Now merge to make numerical columns for each entity\n",
    "dnum_country, dnum_factory, dnum_vendor, dnum_molecule_test, dnum_brand = joins"
   ]
  },
  {
   "cell_type": "markdown",
   "metadata": {},
   "source": [
    "#### Categorical\n",
    "#### *Weight captured seperately, shipment configuration*"
   ]
  },
  {
   "cell_type": "code",
   "execution_count": 67,
   "metadata": {},
   "outputs": [
    {
     "data": {
      "text/plain": [
       "No     8817\n",
       "Yes    1507\n",
       "Name: weight_captured_seperately, dtype: int64"
      ]
     },
     "execution_count": 67,
     "metadata": {},
     "output_type": "execute_result"
    }
   ],
   "source": [
    "# Shipment configuration\n",
    "dobject['ship_config'] = None\n",
    "ship_list = [(top_itms.index,\"bundled-topline\"),(bottom_itms.index,\"bundled-bottom\") \n",
    ", (single_itms.index,\"single\") ,(sep_weight_single.index, \"single-seperate-weight\")\n",
    "            ,(sep_weight_bundled.index, \"bundled-seperate-weight\")]\n",
    "for k, v in ship_list:\n",
    "    dobject.loc[list(k),'ship_config'] = v \n",
    "dobject['ship_config'].value_counts()\n",
    "\n",
    "# Weight Captured Seperately\n",
    "dobject['weight_captured_seperately'] = \"No\"\n",
    "sep_idx = list(sep_weight_single.index) + list(sep_weight_bundled.index)\n",
    "dobject.loc[sep_idx, 'weight_captured_seperately'] = \"Yes\"\n",
    "dobject['weight_captured_seperately'].value_counts()"
   ]
  },
  {
   "cell_type": "markdown",
   "metadata": {},
   "source": [
    "#### Categorical\n",
    "#### *Freight cost invoicing and cost inclusive*"
   ]
  },
  {
   "cell_type": "code",
   "execution_count": 68,
   "metadata": {},
   "outputs": [
    {
     "data": {
      "text/plain": [
       "No     8882\n",
       "Yes    1442\n",
       "Name: freight_in_cmdty_cost, dtype: int64"
      ]
     },
     "execution_count": 68,
     "metadata": {},
     "output_type": "execute_result"
    }
   ],
   "source": [
    "# Freight_cost Invoiced Seperately\n",
    "dobject['freight_invoiced_seperately'] = \"No\"\n",
    "is_idx = list(dobject[dobject.freight_cost=='Invoiced Separately'].index)\n",
    "dobject.loc[is_idx, 'freight_invoiced_seperately'] = \"Yes\"\n",
    "dobject['freight_invoiced_seperately'].value_counts()\n",
    "#  or included in commodity cost\n",
    "dobject['freight_in_cmdty_cost'] = \"No\"\n",
    "ic_idx = list(dobject[dobject.freight_cost=='Freight Included in Commodity Cost'].index)\n",
    "dobject.loc[ic_idx, 'freight_in_cmdty_cost'] = \"Yes\"\n",
    "dobject['freight_in_cmdty_cost'].value_counts()"
   ]
  },
  {
   "cell_type": "markdown",
   "metadata": {},
   "source": [
    "#### Categorical\n",
    "#### *Target/predicted variable: Delayed*"
   ]
  },
  {
   "cell_type": "markdown",
   "metadata": {},
   "source": [
    "**Target variable: ***Delayed***\n",
    "    \n",
    "- Was the product delayed for delivery or on-time?\n",
    "- Value of 1 if delivery_delay_time>0, 0 otherwise\n",
    "    \n",
    "**Other interesting variables:**\n",
    "\n",
    "- *anticipated_lead_time* \n",
    "\n",
    "    - what is the anticipated time from order to delivery ?\n",
    "    - del_date_scheduled - po_date\n",
    "\n",
    "- *actual_lead_time* \n",
    "\n",
    "    - what is the anticipated time from order to delivery ?\n",
    "    - del_date_client - po_date\n",
    "\n",
    "- *delivery_delay_time*\n",
    "\n",
    "    - what is the delay or advance delivery, difference between anticipated delivery and actual?\n",
    "    - del_date_client - del_datescheduled\n",
    "    - used to calculate the main variable, delayed"
   ]
  },
  {
   "cell_type": "code",
   "execution_count": 69,
   "metadata": {},
   "outputs": [
    {
     "name": "stdout",
     "output_type": "stream",
     "text": [
      "<class 'pandas.core.frame.DataFrame'>\n",
      "Int64Index: 10324 entries, 0 to 10323\n",
      "Data columns (total 7 columns):\n",
      " #   Column              Non-Null Count  Dtype         \n",
      "---  ------              --------------  -----         \n",
      " 0   del_date_scheduled  10324 non-null  datetime64[ns]\n",
      " 1   del_date_client     10324 non-null  datetime64[ns]\n",
      " 2   del_date_recorded   10324 non-null  datetime64[ns]\n",
      " 3   pq_date             10324 non-null  datetime64[ns]\n",
      " 4   po_date             10324 non-null  datetime64[ns]\n",
      " 5   po_date_new         10324 non-null  datetime64[ns]\n",
      " 6   pq_date_new         10324 non-null  datetime64[ns]\n",
      "dtypes: datetime64[ns](7)\n",
      "memory usage: 965.2 KB\n"
     ]
    }
   ],
   "source": [
    "ddate.info()"
   ]
  },
  {
   "cell_type": "code",
   "execution_count": 70,
   "metadata": {},
   "outputs": [
    {
     "data": {
      "text/plain": [
       "count                       10324\n",
       "mean     -7 days +23:26:06.369624\n",
       "std       27 days 05:36:26.499569\n",
       "min           -372 days +00:00:00\n",
       "25%             -3 days +00:00:00\n",
       "50%               0 days 00:00:00\n",
       "75%               0 days 00:00:00\n",
       "max             192 days 00:00:00\n",
       "Name: delivery_delay_time, dtype: object"
      ]
     },
     "execution_count": 70,
     "metadata": {},
     "output_type": "execute_result"
    }
   ],
   "source": [
    "#### Engineer the features to calculate the final target, DELAYED:\n",
    "ddate['anticipated_lead_time'] = ddate.del_date_scheduled.copy() - ddate.po_date_new.copy()   \n",
    "ddate['actual_lead_time'] = ddate.del_date_client.copy() - ddate.po_date_new.copy()\n",
    "ddate['delivery_delay_time'] = ddate.del_date_client.copy() - ddate.del_date_scheduled.copy()\n",
    "ddate['delivery_delay_time'].describe()"
   ]
  },
  {
   "cell_type": "code",
   "execution_count": 71,
   "metadata": {
    "scrolled": false
   },
   "outputs": [
    {
     "data": {
      "text/html": [
       "<div>\n",
       "<style scoped>\n",
       "    .dataframe tbody tr th:only-of-type {\n",
       "        vertical-align: middle;\n",
       "    }\n",
       "\n",
       "    .dataframe tbody tr th {\n",
       "        vertical-align: top;\n",
       "    }\n",
       "\n",
       "    .dataframe thead th {\n",
       "        text-align: right;\n",
       "    }\n",
       "</style>\n",
       "<table border=\"1\" class=\"dataframe\">\n",
       "  <thead>\n",
       "    <tr style=\"text-align: right;\">\n",
       "      <th></th>\n",
       "      <th>del_date_scheduled</th>\n",
       "      <th>del_date_client</th>\n",
       "      <th>del_date_recorded</th>\n",
       "      <th>pq_date</th>\n",
       "      <th>po_date</th>\n",
       "      <th>po_date_new</th>\n",
       "      <th>pq_date_new</th>\n",
       "      <th>anticipated_lead_time</th>\n",
       "      <th>actual_lead_time</th>\n",
       "      <th>delivery_delay_time</th>\n",
       "    </tr>\n",
       "  </thead>\n",
       "  <tbody>\n",
       "    <tr>\n",
       "      <th>24</th>\n",
       "      <td>2007-08-13</td>\n",
       "      <td>2007-08-21</td>\n",
       "      <td>2007-08-21</td>\n",
       "      <td>1980-01-01</td>\n",
       "      <td>2007-07-26</td>\n",
       "      <td>2007-07-26 00:00:00.000000000</td>\n",
       "      <td>2007-02-03 18:09:22.396953600</td>\n",
       "      <td>18 days 00:00:00</td>\n",
       "      <td>26 days 00:00:00</td>\n",
       "      <td>8 days</td>\n",
       "    </tr>\n",
       "    <tr>\n",
       "      <th>72</th>\n",
       "      <td>2009-03-10</td>\n",
       "      <td>2009-04-08</td>\n",
       "      <td>2009-04-08</td>\n",
       "      <td>1980-01-01</td>\n",
       "      <td>2009-03-06</td>\n",
       "      <td>2009-03-06 00:00:00.000000000</td>\n",
       "      <td>2008-09-14 18:09:22.396953600</td>\n",
       "      <td>4 days 00:00:00</td>\n",
       "      <td>33 days 00:00:00</td>\n",
       "      <td>29 days</td>\n",
       "    </tr>\n",
       "    <tr>\n",
       "      <th>122</th>\n",
       "      <td>2009-06-12</td>\n",
       "      <td>2009-07-10</td>\n",
       "      <td>2009-07-10</td>\n",
       "      <td>1980-01-01</td>\n",
       "      <td>2009-05-27</td>\n",
       "      <td>2009-05-27 00:00:00.000000000</td>\n",
       "      <td>2008-12-05 18:09:22.396953600</td>\n",
       "      <td>16 days 00:00:00</td>\n",
       "      <td>44 days 00:00:00</td>\n",
       "      <td>28 days</td>\n",
       "    </tr>\n",
       "    <tr>\n",
       "      <th>144</th>\n",
       "      <td>2007-03-15</td>\n",
       "      <td>2007-03-30</td>\n",
       "      <td>2007-03-30</td>\n",
       "      <td>1980-01-01</td>\n",
       "      <td>1900-01-01</td>\n",
       "      <td>2007-02-04 14:24:00.000000000</td>\n",
       "      <td>2006-08-16 08:33:22.396953600</td>\n",
       "      <td>38 days 09:36:00</td>\n",
       "      <td>53 days 09:36:00</td>\n",
       "      <td>15 days</td>\n",
       "    </tr>\n",
       "    <tr>\n",
       "      <th>202</th>\n",
       "      <td>2008-07-10</td>\n",
       "      <td>2008-07-14</td>\n",
       "      <td>2008-07-14</td>\n",
       "      <td>1980-01-01</td>\n",
       "      <td>1900-01-01</td>\n",
       "      <td>2008-05-24 16:00:00.000028800</td>\n",
       "      <td>2007-12-04 10:09:22.396982400</td>\n",
       "      <td>46 days 07:59:59.999971</td>\n",
       "      <td>50 days 07:59:59.999971</td>\n",
       "      <td>4 days</td>\n",
       "    </tr>\n",
       "  </tbody>\n",
       "</table>\n",
       "</div>"
      ],
      "text/plain": [
       "    del_date_scheduled del_date_client del_date_recorded    pq_date  \\\n",
       "24          2007-08-13      2007-08-21        2007-08-21 1980-01-01   \n",
       "72          2009-03-10      2009-04-08        2009-04-08 1980-01-01   \n",
       "122         2009-06-12      2009-07-10        2009-07-10 1980-01-01   \n",
       "144         2007-03-15      2007-03-30        2007-03-30 1980-01-01   \n",
       "202         2008-07-10      2008-07-14        2008-07-14 1980-01-01   \n",
       "\n",
       "       po_date                   po_date_new                   pq_date_new  \\\n",
       "24  2007-07-26 2007-07-26 00:00:00.000000000 2007-02-03 18:09:22.396953600   \n",
       "72  2009-03-06 2009-03-06 00:00:00.000000000 2008-09-14 18:09:22.396953600   \n",
       "122 2009-05-27 2009-05-27 00:00:00.000000000 2008-12-05 18:09:22.396953600   \n",
       "144 1900-01-01 2007-02-04 14:24:00.000000000 2006-08-16 08:33:22.396953600   \n",
       "202 1900-01-01 2008-05-24 16:00:00.000028800 2007-12-04 10:09:22.396982400   \n",
       "\n",
       "      anticipated_lead_time        actual_lead_time delivery_delay_time  \n",
       "24         18 days 00:00:00        26 days 00:00:00              8 days  \n",
       "72          4 days 00:00:00        33 days 00:00:00             29 days  \n",
       "122        16 days 00:00:00        44 days 00:00:00             28 days  \n",
       "144        38 days 09:36:00        53 days 09:36:00             15 days  \n",
       "202 46 days 07:59:59.999971 50 days 07:59:59.999971              4 days  "
      ]
     },
     "execution_count": 71,
     "metadata": {},
     "output_type": "execute_result"
    }
   ],
   "source": [
    "ddate[ddate.delivery_delay_time> '0 days'].head()"
   ]
  },
  {
   "cell_type": "code",
   "execution_count": 72,
   "metadata": {},
   "outputs": [
    {
     "data": {
      "text/plain": [
       "<matplotlib.axes._subplots.AxesSubplot at 0x2aa3d1756d0>"
      ]
     },
     "execution_count": 72,
     "metadata": {},
     "output_type": "execute_result"
    },
    {
     "data": {
      "image/png": "[encoded data removed]",
      "text/plain": [
       "<Figure size 432x288 with 1 Axes>"
      ]
     },
     "metadata": {
      "needs_background": "light"
     },
     "output_type": "display_data"
    }
   ],
   "source": [
    "# Checking out the delay column..\n",
    "delay=pd.to_numeric(ddate['delivery_delay_time'])/(1e9*3600*24)\n",
    "delay.plot()"
   ]
  },
  {
   "cell_type": "code",
   "execution_count": 73,
   "metadata": {
    "scrolled": true
   },
   "outputs": [
    {
     "name": "stdout",
     "output_type": "stream",
     "text": [
      "----\n",
      "New delayed column:  False    9138\n",
      "True     1186\n",
      "Name: delayed, dtype: int64\n",
      "----\n",
      "Average % of delayed deliveries:  0.11487795428128632\n"
     ]
    }
   ],
   "source": [
    "#### Engineer the categorical targets:\n",
    "dobject['delayed'] = ddate['delivery_delay_time']>'0 days'\n",
    "print(\"----\\nNew delayed column: \", dobject.delayed.value_counts())\n",
    "print(\"----\\nAverage % of delayed deliveries: \",dobject.delayed.sum()/len(dobject))"
   ]
  },
  {
   "cell_type": "markdown",
   "metadata": {},
   "source": [
    "#### Time Series Features\n",
    "#### *Lagging, rolling statistics, and cumulative*"
   ]
  },
  {
   "cell_type": "markdown",
   "metadata": {},
   "source": [
    "#### Cumulative statistics, vendor-item level"
   ]
  },
  {
   "cell_type": "code",
   "execution_count": 74,
   "metadata": {},
   "outputs": [
    {
     "data": {
      "text/html": [
       "<div>\n",
       "<style scoped>\n",
       "    .dataframe tbody tr th:only-of-type {\n",
       "        vertical-align: middle;\n",
       "    }\n",
       "\n",
       "    .dataframe tbody tr th {\n",
       "        vertical-align: top;\n",
       "    }\n",
       "\n",
       "    .dataframe thead th {\n",
       "        text-align: right;\n",
       "    }\n",
       "</style>\n",
       "<table border=\"1\" class=\"dataframe\">\n",
       "  <thead>\n",
       "    <tr style=\"text-align: right;\">\n",
       "      <th></th>\n",
       "      <th>delay_cumsum</th>\n",
       "      <th>delay_cummin</th>\n",
       "      <th>del_del_time_cumsum</th>\n",
       "      <th>days_delay_cummin</th>\n",
       "    </tr>\n",
       "  </thead>\n",
       "  <tbody>\n",
       "    <tr>\n",
       "      <th>522</th>\n",
       "      <td>NaN</td>\n",
       "      <td>NaN</td>\n",
       "      <td>NaN</td>\n",
       "      <td>NaN</td>\n",
       "    </tr>\n",
       "    <tr>\n",
       "      <th>412</th>\n",
       "      <td>0.0</td>\n",
       "      <td>0.0</td>\n",
       "      <td>0.0</td>\n",
       "      <td>0.0</td>\n",
       "    </tr>\n",
       "    <tr>\n",
       "      <th>0</th>\n",
       "      <td>0.0</td>\n",
       "      <td>0.0</td>\n",
       "      <td>0.0</td>\n",
       "      <td>0.0</td>\n",
       "    </tr>\n",
       "    <tr>\n",
       "      <th>129</th>\n",
       "      <td>0.0</td>\n",
       "      <td>0.0</td>\n",
       "      <td>0.0</td>\n",
       "      <td>0.0</td>\n",
       "    </tr>\n",
       "    <tr>\n",
       "      <th>2480</th>\n",
       "      <td>0.0</td>\n",
       "      <td>0.0</td>\n",
       "      <td>0.0</td>\n",
       "      <td>0.0</td>\n",
       "    </tr>\n",
       "  </tbody>\n",
       "</table>\n",
       "</div>"
      ],
      "text/plain": [
       "      delay_cumsum  delay_cummin  del_del_time_cumsum  days_delay_cummin\n",
       "522            NaN           NaN                  NaN                NaN\n",
       "412            0.0           0.0                  0.0                0.0\n",
       "0              0.0           0.0                  0.0                0.0\n",
       "129            0.0           0.0                  0.0                0.0\n",
       "2480           0.0           0.0                  0.0                0.0"
      ]
     },
     "execution_count": 74,
     "metadata": {},
     "output_type": "execute_result"
    }
   ],
   "source": [
    "#- lag variable: last delivery outcome, last delivery days delay\n",
    "# merge ddate with delayed and delivery_delay_time\n",
    "# country-item, vendor-item, factory-item\n",
    "df_trend = pd.concat([ddate[['del_date_client','delivery_delay_time']]\n",
    "                      , dobject[['itm_desc','vendor', 'factory', 'delayed']]], axis=1)\n",
    "\n",
    "df_trend['delayed'] = df_trend.delayed.map({True:1, False:0})\n",
    "df_trend['delivery_delay_time'] = df_trend.delivery_delay_time.dt.days\n",
    "# Group and sort to get order\n",
    "dgrp = df_trend.sort_values(by=['del_date_client', 'vendor', 'itm_desc']\n",
    "        , ascending =True)[['del_date_client', 'vendor'\n",
    "                            , 'itm_desc', 'delayed', 'delivery_delay_time']].groupby(\n",
    "    ['del_date_client', 'vendor', 'itm_desc'])\n",
    "#df_trend, make sure to shift to avoid collinearity!\n",
    "dcum = dgrp.agg(['cumsum', 'cummin']).shift(+1)\n",
    "dcum.columns = ['delay_cumsum', 'delay_cummin', 'del_del_time_cumsum', 'days_delay_cummin']\n",
    "dcum.head()"
   ]
  },
  {
   "cell_type": "markdown",
   "metadata": {},
   "source": [
    "#### Rolling Statistics"
   ]
  },
  {
   "cell_type": "code",
   "execution_count": 75,
   "metadata": {},
   "outputs": [
    {
     "data": {
      "text/html": [
       "<div>\n",
       "<style scoped>\n",
       "    .dataframe tbody tr th:only-of-type {\n",
       "        vertical-align: middle;\n",
       "    }\n",
       "\n",
       "    .dataframe tbody tr th {\n",
       "        vertical-align: top;\n",
       "    }\n",
       "\n",
       "    .dataframe thead th {\n",
       "        text-align: right;\n",
       "    }\n",
       "</style>\n",
       "<table border=\"1\" class=\"dataframe\">\n",
       "  <thead>\n",
       "    <tr style=\"text-align: right;\">\n",
       "      <th></th>\n",
       "      <th>delay_rmean</th>\n",
       "      <th>days_delay_rmean</th>\n",
       "      <th>delay_cumsum</th>\n",
       "      <th>delay_cummin</th>\n",
       "      <th>del_del_time_cumsum</th>\n",
       "      <th>days_delay_cummin</th>\n",
       "    </tr>\n",
       "  </thead>\n",
       "  <tbody>\n",
       "    <tr>\n",
       "      <th>0</th>\n",
       "      <td>NaN</td>\n",
       "      <td>NaN</td>\n",
       "      <td>0.0</td>\n",
       "      <td>0.0</td>\n",
       "      <td>0.0</td>\n",
       "      <td>0.0</td>\n",
       "    </tr>\n",
       "    <tr>\n",
       "      <th>1</th>\n",
       "      <td>0.0</td>\n",
       "      <td>0.0</td>\n",
       "      <td>0.0</td>\n",
       "      <td>0.0</td>\n",
       "      <td>0.0</td>\n",
       "      <td>0.0</td>\n",
       "    </tr>\n",
       "    <tr>\n",
       "      <th>2</th>\n",
       "      <td>NaN</td>\n",
       "      <td>NaN</td>\n",
       "      <td>0.0</td>\n",
       "      <td>0.0</td>\n",
       "      <td>0.0</td>\n",
       "      <td>0.0</td>\n",
       "    </tr>\n",
       "    <tr>\n",
       "      <th>3</th>\n",
       "      <td>NaN</td>\n",
       "      <td>NaN</td>\n",
       "      <td>0.0</td>\n",
       "      <td>0.0</td>\n",
       "      <td>0.0</td>\n",
       "      <td>0.0</td>\n",
       "    </tr>\n",
       "    <tr>\n",
       "      <th>4</th>\n",
       "      <td>NaN</td>\n",
       "      <td>NaN</td>\n",
       "      <td>0.0</td>\n",
       "      <td>0.0</td>\n",
       "      <td>0.0</td>\n",
       "      <td>0.0</td>\n",
       "    </tr>\n",
       "  </tbody>\n",
       "</table>\n",
       "</div>"
      ],
      "text/plain": [
       "   delay_rmean  days_delay_rmean  delay_cumsum  delay_cummin  \\\n",
       "0          NaN               NaN           0.0           0.0   \n",
       "1          0.0               0.0           0.0           0.0   \n",
       "2          NaN               NaN           0.0           0.0   \n",
       "3          NaN               NaN           0.0           0.0   \n",
       "4          NaN               NaN           0.0           0.0   \n",
       "\n",
       "   del_del_time_cumsum  days_delay_cummin  \n",
       "0                  0.0                0.0  \n",
       "1                  0.0                0.0  \n",
       "2                  0.0                0.0  \n",
       "3                  0.0                0.0  \n",
       "4                  0.0                0.0  "
      ]
     },
     "execution_count": 75,
     "metadata": {},
     "output_type": "execute_result"
    }
   ],
   "source": [
    "#- rolling sum of delays to date, rolling mean of days delayed\n",
    "#dcum.head() Sort again for this rolling stats. Shift to avoid multicollinearity\n",
    "dsorted = df_trend.sort_values(by=['del_date_client', 'vendor', 'itm_desc'])\n",
    "dsorted['delay_rmean'] = dsorted.delayed.rolling(window=21).mean().shift(+1)\n",
    "dsorted['days_delay_rmean'] = dsorted.delivery_delay_time.rolling(window=21).mean()\n",
    "# Merge the dfs together\n",
    "dtrend = pd.merge(dsorted, dcum, how = 'inner', right_index= True, left_index= True)\n",
    "# Merge back together and make sure idex is sorted for future concatenation\n",
    "dtrend = dtrend.drop(['del_date_client', 'delivery_delay_time', 'itm_desc'\n",
    "                      , 'vendor', 'factory', 'delayed'], axis=1).sort_index()\n",
    "dtrend.head()"
   ]
  },
  {
   "cell_type": "code",
   "execution_count": 76,
   "metadata": {},
   "outputs": [
    {
     "data": {
      "text/plain": [
       "delay_rmean            0\n",
       "days_delay_rmean       0\n",
       "delay_cumsum           0\n",
       "delay_cummin           0\n",
       "del_del_time_cumsum    0\n",
       "days_delay_cummin      0\n",
       "dtype: int64"
      ]
     },
     "execution_count": 76,
     "metadata": {},
     "output_type": "execute_result"
    }
   ],
   "source": [
    "dtrend.fillna(method='bfill', axis=0, inplace=True)\n",
    "dtrend.isnull().sum()"
   ]
  },
  {
   "cell_type": "markdown",
   "metadata": {},
   "source": [
    "### Feature Creation\n",
    "### External features from other sources"
   ]
  },
  {
   "cell_type": "markdown",
   "metadata": {},
   "source": [
    "#### *Fragile State Index (FSI) - country stability*"
   ]
  },
  {
   "cell_type": "code",
   "execution_count": 77,
   "metadata": {
    "scrolled": true
   },
   "outputs": [
    {
     "name": "stdout",
     "output_type": "stream",
     "text": [
      "(2099, 3)\n"
     ]
    },
    {
     "data": {
      "text/html": [
       "<div>\n",
       "<style scoped>\n",
       "    .dataframe tbody tr th:only-of-type {\n",
       "        vertical-align: middle;\n",
       "    }\n",
       "\n",
       "    .dataframe tbody tr th {\n",
       "        vertical-align: top;\n",
       "    }\n",
       "\n",
       "    .dataframe thead th {\n",
       "        text-align: right;\n",
       "    }\n",
       "</style>\n",
       "<table border=\"1\" class=\"dataframe\">\n",
       "  <thead>\n",
       "    <tr style=\"text-align: right;\">\n",
       "      <th></th>\n",
       "      <th>fsi</th>\n",
       "      <th>year</th>\n",
       "      <th>country</th>\n",
       "    </tr>\n",
       "  </thead>\n",
       "  <tbody>\n",
       "    <tr>\n",
       "      <th>0</th>\n",
       "      <td>112.3</td>\n",
       "      <td>2006</td>\n",
       "      <td>Sudan</td>\n",
       "    </tr>\n",
       "    <tr>\n",
       "      <th>1</th>\n",
       "      <td>110.1</td>\n",
       "      <td>2006</td>\n",
       "      <td>Congo Democratic Republic</td>\n",
       "    </tr>\n",
       "    <tr>\n",
       "      <th>2</th>\n",
       "      <td>109.2</td>\n",
       "      <td>2006</td>\n",
       "      <td>Cote d'Ivoire</td>\n",
       "    </tr>\n",
       "    <tr>\n",
       "      <th>3</th>\n",
       "      <td>109.0</td>\n",
       "      <td>2006</td>\n",
       "      <td>Iraq</td>\n",
       "    </tr>\n",
       "    <tr>\n",
       "      <th>4</th>\n",
       "      <td>108.9</td>\n",
       "      <td>2006</td>\n",
       "      <td>Zimbabwe</td>\n",
       "    </tr>\n",
       "  </tbody>\n",
       "</table>\n",
       "</div>"
      ],
      "text/plain": [
       "     fsi  year                    country\n",
       "0  112.3  2006                      Sudan\n",
       "1  110.1  2006  Congo Democratic Republic\n",
       "2  109.2  2006              Cote d'Ivoire\n",
       "3  109.0  2006                       Iraq\n",
       "4  108.9  2006                   Zimbabwe"
      ]
     },
     "execution_count": 77,
     "metadata": {},
     "output_type": "execute_result"
    }
   ],
   "source": [
    "fragility_index = mhf.generate_country_stability_features() #fsi index\n",
    "print(fragility_index.shape)\n",
    "fragility_index.head()"
   ]
  },
  {
   "cell_type": "markdown",
   "metadata": {},
   "source": [
    "#### *Logistics Performance Indices (LPI)*"
   ]
  },
  {
   "cell_type": "code",
   "execution_count": 78,
   "metadata": {},
   "outputs": [
    {
     "name": "stdout",
     "output_type": "stream",
     "text": [
      "160\n",
      "shape ct:  (160, 36)\n",
      "missing_cols: 42\n",
      "(1760, 9)\n",
      "lpi describe:             customs        infra    intl_ship  logistic_qlty          lpi  \\\n",
      "count  1760.000000  1760.000000  1760.000000    1760.000000  1760.000000   \n",
      "mean      2.725870     2.766285     2.864324       2.853845     2.894279   \n",
      "std       0.593336     0.660419     0.490414       0.581711     0.551089   \n",
      "min       1.500000     1.500000     1.704951       1.750000     1.773126   \n",
      "25%       2.331458     2.286717     2.502778       2.409470     2.489771   \n",
      "50%       2.581736     2.571111     2.811466       2.736351     2.753367   \n",
      "75%       3.122806     3.174247     3.238354       3.214012     3.260623   \n",
      "max       4.207790     4.323295     3.818182       4.191941     4.121983   \n",
      "\n",
      "        timeliness  track_trace  \n",
      "count  1760.000000  1760.000000  \n",
      "mean      3.253075     2.899162  \n",
      "std       0.585400     0.580210  \n",
      "min       1.875000     1.750000  \n",
      "25%       2.793795     2.466509  \n",
      "50%       3.156446     2.835042  \n",
      "75%       3.694043     3.302213  \n",
      "max       4.705877     4.167922  \n"
     ]
    }
   ],
   "source": [
    "logistics_indices = mhf.generate_country_logistics_features() #lpi"
   ]
  },
  {
   "cell_type": "code",
   "execution_count": 79,
   "metadata": {},
   "outputs": [
    {
     "name": "stdout",
     "output_type": "stream",
     "text": [
      "data1 shape: 160 data2 shape: 178\n",
      "(196, 2)\n",
      "36 18\n",
      "In data2 but not in data1: ['Congo Democratic Republic', \"Cote d'Ivoire\", 'North Korea', 'Sierra Leone', 'Yemen', 'Uganda', 'Egypt', 'Syria', 'Laos', 'Russia', 'Guinea Bissau', 'Iran', 'Venezuela', 'Israel and West Bank', 'Morocco', 'Macedonia', 'Gambia', 'Albania', 'South Korea', 'Timor-Leste', 'Congo Republic', 'Swaziland', 'Cape Verde', 'Sao Tome and Principe', 'Suriname', 'Samoa', 'Micronesia', 'Grenada', 'Seychelles', 'Brunei Darussalam', 'Belize', 'Trinidad and Tobago', 'Antigua and Barbuda', 'Bahamas', 'Barbados', 'South Sudan'] \n",
      "----\n",
      "In data1 but not in data2: ['Bahamas, The', 'Congo, Dem. Rep.', 'Congo, Rep.', \"Côte d'Ivoire\", 'Egypt, Arab Rep.', 'Gambia, The', 'Guinea-Bissau', 'Hong Kong SAR, China', 'Israel', 'Korea, Rep.', 'Lao PDR', 'Macedonia, FYR', 'Russian Federation', 'Sco Tomi and Principe', 'Syrian Arab Republic', 'Taiwan', 'Venezuela, RB', 'Yemen, Rep.']\n"
     ]
    }
   ],
   "source": [
    "lpi_fsi_comparison = mhf.compare_columns(logistics_indices\n",
    "                    , fragility_index,'country','country') # compare country colums"
   ]
  },
  {
   "cell_type": "code",
   "execution_count": 80,
   "metadata": {},
   "outputs": [
    {
     "name": "stdout",
     "output_type": "stream",
     "text": [
      "\n",
      "Country names to harmonize:  ['Afghanistan' 'Algeria' 'Angola' 'Argentina' 'Armenia' 'Australia'\n",
      " 'Austria' 'Azerbaijan' 'Bahamas, The' 'Bahrain' 'Bangladesh' 'Belarus'\n",
      " 'Belgium' 'Benin' 'Bhutan' 'Bolivia' 'Bosnia and Herzegovina' 'Botswana'\n",
      " 'Brazil' 'Bulgaria' 'Burkina Faso' 'Burundi' 'Cambodia' 'Cameroon'\n",
      " 'Canada' 'Central African Republic' 'Chad' 'Chile' 'China' 'Colombia'\n",
      " 'Comoros' 'Congo, Dem. Rep.' 'Congo, Rep.' 'Costa Rica' 'Croatia' 'Cuba'\n",
      " 'Cyprus' 'Czech Republic' \"Côte d'Ivoire\" 'Denmark' 'Djibouti'\n",
      " 'Dominican Republic' 'Ecuador' 'Egypt, Arab Rep.' 'El Salvador'\n",
      " 'Equatorial Guinea' 'Eritrea' 'Estonia' 'Ethiopia' 'Fiji' 'Finland'\n",
      " 'France' 'Gabon' 'Gambia, The' 'Georgia' 'Germany' 'Ghana' 'Greece'\n",
      " 'Guatemala' 'Guinea' 'Guinea-Bissau' 'Guyana' 'Haiti' 'Honduras'\n",
      " 'Hong Kong SAR, China' 'Hungary' 'Iceland' 'India' 'Indonesia' 'Iraq'\n",
      " 'Ireland' 'Israel' 'Italy' 'Jamaica' 'Japan' 'Jordan' 'Kazakhstan'\n",
      " 'Kenya' 'Korea, Rep.' 'Kuwait' 'Kyrgyz Republic' 'Lao PDR' 'Latvia'\n",
      " 'Lebanon' 'Lesotho' 'Liberia' 'Libya' 'Lithuania' 'Luxembourg'\n",
      " 'Macedonia, FYR' 'Madagascar' 'Malawi' 'Malaysia' 'Maldives' 'Mali'\n",
      " 'Malta' 'Mauritania' 'Mauritius' 'Mexico' 'Moldova' 'Mongolia'\n",
      " 'Montenegro' 'Mozambique' 'Myanmar' 'Namibia' 'Nepal' 'Netherlands'\n",
      " 'New Zealand' 'Nicaragua' 'Niger' 'Nigeria' 'Norway' 'Oman' 'Pakistan'\n",
      " 'Panama' 'Papua New Guinea' 'Paraguay' 'Peru' 'Philippines' 'Poland'\n",
      " 'Portugal' 'Qatar' 'Romania' 'Russian Federation' 'Rwanda' 'Saudi Arabia'\n",
      " 'Sco Tomi and Principe' 'Senegal' 'Serbia' 'Singapore' 'Slovak Republic'\n",
      " 'Slovenia' 'Solomon Islands' 'Somalia' 'South Africa' 'Spain' 'Sri Lanka'\n",
      " 'Sudan' 'Sweden' 'Switzerland' 'Syrian Arab Republic' 'Taiwan'\n",
      " 'Tajikistan' 'Tanzania' 'Thailand' 'Togo' 'Tunisia' 'Turkey'\n",
      " 'Turkmenistan' 'Ukraine' 'United Arab Emirates' 'United Kingdom'\n",
      " 'United States' 'Uruguay' 'Uzbekistan' 'Venezuela, RB' 'Vietnam'\n",
      " 'Yemen, Rep.' 'Zambia' 'Zimbabwe'] ['Sudan' 'Congo Democratic Republic' \"Cote d'Ivoire\" 'Iraq' 'Zimbabwe'\n",
      " 'Chad' 'Somalia' 'Haiti' 'Pakistan' 'Afghanistan' 'Guinea' 'Liberia'\n",
      " 'Central African Republic' 'North Korea' 'Burundi' 'Sierra Leone' 'Yemen'\n",
      " 'Myanmar' 'Bangladesh' 'Nepal' 'Uganda' 'Nigeria' 'Uzbekistan' 'Rwanda'\n",
      " 'Sri Lanka' 'Ethiopia' 'Colombia' 'Kyrgyz Republic' 'Malawi'\n",
      " 'Burkina Faso' 'Egypt' 'Indonesia' 'Kenya' 'Syria'\n",
      " 'Bosnia and Herzegovina' 'Cameroon' 'Angola' 'Togo' 'Bhutan' 'Laos'\n",
      " 'Mauritania' 'Tajikistan' 'Russia' 'Niger' 'Turkmenistan' 'Guinea Bissau'\n",
      " 'Cambodia' 'Dominican Republic' 'Papua New Guinea' 'Belarus' 'Guatemala'\n",
      " 'Equatorial Guinea' 'Iran' 'Eritrea' 'Serbia' 'Bolivia' 'China' 'Moldova'\n",
      " 'Nicaragua' 'Georgia' 'Azerbaijan' 'Cuba' 'Ecuador' 'Venezuela' 'Lebanon'\n",
      " 'Zambia' 'Israel and West Bank' 'Peru' 'Philippines' 'Vietnam' 'Tanzania'\n",
      " 'Algeria' 'Saudi Arabia' 'Jordan' 'Honduras' 'Morocco' 'El Salvador'\n",
      " 'Macedonia' 'Thailand' 'Mozambique' 'Mali' 'Turkey' 'Gambia' 'Gabon'\n",
      " 'Mexico' 'Ukraine' 'Paraguay' 'Kazakhstan' 'Armenia' 'Benin' 'Namibia'\n",
      " 'Cyprus' 'India' 'Albania' 'Libya' 'Botswana' 'Jamaica' 'Malaysia'\n",
      " 'Senegal' 'Tunisia' 'Brazil' 'Romania' 'Bulgaria' 'Croatia' 'Kuwait'\n",
      " 'Ghana' 'Panama' 'Mongolia' 'Latvia' 'South Africa' 'Estonia'\n",
      " 'Slovak Republic' 'Lithuania' 'Costa Rica' 'Poland' 'Hungary' 'Oman'\n",
      " 'Mauritius' 'Czech Republic' 'Uruguay' 'Greece' 'Argentina' 'South Korea'\n",
      " 'Germany' 'Spain' 'Slovenia' 'Italy' 'United States' 'France'\n",
      " 'United Kingdom' 'Portugal' 'Chile' 'Singapore' 'Netherlands' 'Japan'\n",
      " 'Austria' 'Denmark' 'Belgium' 'Canada' 'Australia' 'New Zealand'\n",
      " 'Switzerland' 'Ireland' 'Finland' 'Sweden' 'Norway' 'Timor-Leste'\n",
      " 'Congo Republic' 'Solomon Islands' 'Swaziland' 'Lesotho' 'Cape Verde'\n",
      " 'Maldives' 'Djibouti' 'Sao Tome and Principe' 'Comoros' 'Madagascar'\n",
      " 'Fiji' 'Suriname' 'Samoa' 'Micronesia' 'Guyana' 'Grenada' 'Seychelles'\n",
      " 'Brunei Darussalam' 'Belize' 'Trinidad and Tobago' 'Antigua and Barbuda'\n",
      " 'Bahamas' 'Barbados' 'Bahrain' 'Montenegro' 'Qatar'\n",
      " 'United Arab Emirates' 'Malta' 'Luxembourg' 'Iceland' 'South Sudan']\n",
      "\n",
      "FSI Year Value counts:  2006    146\n",
      "2007    177\n",
      "2008    177\n",
      "2009    177\n",
      "2010    177\n",
      "2011    177\n",
      "2012    178\n",
      "2013    178\n",
      "2014    178\n",
      "2015    178\n",
      "2016    178\n",
      "2017    178\n",
      "Name: year, dtype: int64\n",
      "\n",
      "FSI Year Value counts:  2006    160\n",
      "2007    160\n",
      "2008    160\n",
      "2009    160\n",
      "2010    160\n",
      "2011    160\n",
      "2012    160\n",
      "2013    160\n",
      "2014    160\n",
      "2015    160\n",
      "2016    160\n",
      "Name: year, dtype: int64\n",
      "data1 shape: 178 data2 shape: 160\n",
      "(196, 2)\n",
      "18 36\n",
      "In data2 but not in data1: ['Bahamas, The', 'Congo, Dem. Rep.', 'Congo, Rep.', \"Côte d'Ivoire\", 'Egypt, Arab Rep.', 'Gambia, The', 'Guinea-Bissau', 'Hong Kong SAR, China', 'Israel', 'Korea, Rep.', 'Lao PDR', 'Macedonia, FYR', 'Russian Federation', 'Sco Tomi and Principe', 'Syrian Arab Republic', 'Taiwan', 'Venezuela, RB', 'Yemen, Rep.'] \n",
      "----\n",
      "In data1 but not in data2: ['Congo Democratic Republic', \"Cote d'Ivoire\", 'North Korea', 'Sierra Leone', 'Yemen', 'Uganda', 'Egypt', 'Syria', 'Laos', 'Russia', 'Guinea Bissau', 'Iran', 'Venezuela', 'Israel and West Bank', 'Morocco', 'Macedonia', 'Gambia', 'Albania', 'South Korea', 'Timor-Leste', 'Congo Republic', 'Swaziland', 'Cape Verde', 'Sao Tome and Principe', 'Suriname', 'Samoa', 'Micronesia', 'Grenada', 'Seychelles', 'Brunei Darussalam', 'Belize', 'Trinidad and Tobago', 'Antigua and Barbuda', 'Bahamas', 'Barbados', 'South Sudan']\n",
      "(1760, 9) (2099, 3)\n",
      "(2099, 10)\n"
     ]
    }
   ],
   "source": [
    "lpi_fsi_combined = mhf.combine_logistics_and_stability_features(\n",
    "    logistics_indices, fragility_index) # combine logistics (lpi) and fragility (fsi) indices"
   ]
  },
  {
   "cell_type": "markdown",
   "metadata": {},
   "source": [
    "#### *Factory Location, Country and Continent*"
   ]
  },
  {
   "cell_type": "code",
   "execution_count": 81,
   "metadata": {},
   "outputs": [
    {
     "name": "stdout",
     "output_type": "stream",
     "text": [
      "factory_address: 88 ; factory: 88\n",
      "Series([], Name: factory_address, dtype: int64) \n",
      "\n",
      "The unidentified factories...\n",
      " []\n",
      "factory shape:  (88, 4)\n",
      "Countries in both origin and destination:  []\n"
     ]
    }
   ],
   "source": [
    "# Generate Factory Metrics. Rerun if you get Index Error, Google's Fault\n",
    "factory_metrics = mhf.generate_factory_location_features(dobject)\n",
    "\n",
    "# Alternatively, if generate facotry location is too slow or break\n",
    "# then use already generated tables from this file below...\n",
    "#factory_metrics = pd.read_csv('./Data/Features/factory_map_premade.csv')"
   ]
  },
  {
   "cell_type": "code",
   "execution_count": 82,
   "metadata": {},
   "outputs": [],
   "source": [
    "# Join them to main data (Next Step Depends on this!)\n",
    "dobject = mhf.add_factory_origin_features(dobject, factory_metrics)"
   ]
  },
  {
   "cell_type": "code",
   "execution_count": 83,
   "metadata": {},
   "outputs": [
    {
     "name": "stdout",
     "output_type": "stream",
     "text": [
      "Destination countries data:  (430, 5) Unique countries:  ['Afghanistan' 'Angola' 'Belize' 'Benin' 'Botswana' 'Burkina Faso'\n",
      " 'Burundi' 'Cameroon' 'Congo, DRC' \"Côte d'Ivoire\" 'Dominican Republic'\n",
      " 'Ethiopia' 'Ghana' 'Guatemala' 'Guinea' 'Guyana' 'Haiti' 'Kazakhstan'\n",
      " 'Kenya' 'Kyrgyzstan' 'Lebanon' 'Lesotho' 'Liberia' 'Libya' 'Malawi'\n",
      " 'Mali' 'Mozambique' 'Namibia' 'Nigeria' 'Pakistan' 'Rwanda' 'Senegal'\n",
      " 'Sierra Leone' 'South Africa' 'South Sudan' 'Sudan' 'Swaziland'\n",
      " 'Tanzania' 'Togo' 'Uganda' 'Vietnam' 'Zambia' 'Zimbabwe'] Origin countries data:  (10, 5) Unique countries:  ['']\n",
      "data1 shape: 43 data2 shape: 178\n",
      "(181, 2)\n",
      "138 3\n",
      "In data2 but not in data1: ['Congo Democratic Republic', \"Cote d'Ivoire\", 'Iraq', 'Chad', 'Somalia', 'Central African Republic', 'North Korea', 'Yemen', 'Myanmar', 'Bangladesh', 'Nepal', 'Uzbekistan', 'Sri Lanka', 'Colombia', 'Kyrgyz Republic', 'Egypt', 'Indonesia', 'Syria', 'Bosnia and Herzegovina', 'Bhutan', 'Laos', 'Mauritania', 'Tajikistan', 'Russia', 'Niger', 'Turkmenistan', 'Guinea Bissau', 'Cambodia', 'Papua New Guinea', 'Belarus', 'Equatorial Guinea', 'Iran', 'Eritrea', 'Serbia', 'Bolivia', 'China', 'Moldova', 'Nicaragua', 'Georgia', 'Azerbaijan', 'Cuba', 'Ecuador', 'Venezuela', 'Israel and West Bank', 'Peru', 'Philippines', 'Algeria', 'Saudi Arabia', 'Jordan', 'Honduras', 'Morocco', 'El Salvador', 'Macedonia', 'Thailand', 'Turkey', 'Gambia', 'Gabon', 'Mexico', 'Ukraine', 'Paraguay', 'Armenia', 'Cyprus', 'India', 'Albania', 'Jamaica', 'Malaysia', 'Tunisia', 'Brazil', 'Romania', 'Bulgaria', 'Croatia', 'Kuwait', 'Panama', 'Mongolia', 'Latvia', 'Estonia', 'Slovak Republic', 'Lithuania', 'Costa Rica', 'Poland', 'Hungary', 'Oman', 'Mauritius', 'Czech Republic', 'Uruguay', 'Greece', 'Argentina', 'South Korea', 'Germany', 'Spain', 'Slovenia', 'Italy', 'United States', 'France', 'United Kingdom', 'Portugal', 'Chile', 'Singapore', 'Netherlands', 'Japan', 'Austria', 'Denmark', 'Belgium', 'Canada', 'Australia', 'New Zealand', 'Switzerland', 'Ireland', 'Finland', 'Sweden', 'Norway', 'Timor-Leste', 'Congo Republic', 'Solomon Islands', 'Cape Verde', 'Maldives', 'Djibouti', 'Sao Tome and Principe', 'Comoros', 'Madagascar', 'Fiji', 'Suriname', 'Samoa', 'Micronesia', 'Grenada', 'Seychelles', 'Brunei Darussalam', 'Trinidad and Tobago', 'Antigua and Barbuda', 'Bahamas', 'Barbados', 'Bahrain', 'Montenegro', 'Qatar', 'United Arab Emirates', 'Malta', 'Luxembourg', 'Iceland'] \n",
      "----\n",
      "In data1 but not in data2: ['Congo, DRC', \"Côte d'Ivoire\", 'Kyrgyzstan']\n",
      "data1 shape: 43 data2 shape: 178\n",
      "(178, 2)\n",
      "135 0\n",
      "In data2 but not in data1: ['Iraq', 'Chad', 'Somalia', 'Central African Republic', 'North Korea', 'Yemen', 'Myanmar', 'Bangladesh', 'Nepal', 'Uzbekistan', 'Sri Lanka', 'Colombia', 'Egypt', 'Indonesia', 'Syria', 'Bosnia and Herzegovina', 'Bhutan', 'Laos', 'Mauritania', 'Tajikistan', 'Russia', 'Niger', 'Turkmenistan', 'Guinea Bissau', 'Cambodia', 'Papua New Guinea', 'Belarus', 'Equatorial Guinea', 'Iran', 'Eritrea', 'Serbia', 'Bolivia', 'China', 'Moldova', 'Nicaragua', 'Georgia', 'Azerbaijan', 'Cuba', 'Ecuador', 'Venezuela', 'Israel and West Bank', 'Peru', 'Philippines', 'Algeria', 'Saudi Arabia', 'Jordan', 'Honduras', 'Morocco', 'El Salvador', 'Macedonia', 'Thailand', 'Turkey', 'Gambia', 'Gabon', 'Mexico', 'Ukraine', 'Paraguay', 'Armenia', 'Cyprus', 'India', 'Albania', 'Jamaica', 'Malaysia', 'Tunisia', 'Brazil', 'Romania', 'Bulgaria', 'Croatia', 'Kuwait', 'Panama', 'Mongolia', 'Latvia', 'Estonia', 'Slovak Republic', 'Lithuania', 'Costa Rica', 'Poland', 'Hungary', 'Oman', 'Mauritius', 'Czech Republic', 'Uruguay', 'Greece', 'Argentina', 'South Korea', 'Germany', 'Spain', 'Slovenia', 'Italy', 'United States', 'France', 'United Kingdom', 'Portugal', 'Chile', 'Singapore', 'Netherlands', 'Japan', 'Austria', 'Denmark', 'Belgium', 'Canada', 'Australia', 'New Zealand', 'Switzerland', 'Ireland', 'Finland', 'Sweden', 'Norway', 'Timor-Leste', 'Congo Republic', 'Solomon Islands', 'Cape Verde', 'Maldives', 'Djibouti', 'Sao Tome and Principe', 'Comoros', 'Madagascar', 'Fiji', 'Suriname', 'Samoa', 'Micronesia', 'Grenada', 'Seychelles', 'Brunei Darussalam', 'Trinidad and Tobago', 'Antigua and Barbuda', 'Bahamas', 'Barbados', 'Bahrain', 'Montenegro', 'Qatar', 'United Arab Emirates', 'Malta', 'Luxembourg', 'Iceland'] \n",
      "----\n",
      "In data1 but not in data2: []\n",
      "data1 shape: 1 data2 shape: 178\n",
      "(179, 2)\n",
      "178 1\n",
      "In data2 but not in data1: ['Sudan', 'Congo, DRC', \"Côte d'Ivoire\", 'Iraq', 'Zimbabwe', 'Chad', 'Somalia', 'Haiti', 'Pakistan', 'Afghanistan', 'Guinea', 'Liberia', 'Central African Republic', 'North Korea', 'Burundi', 'Sierra Leone', 'Yemen', 'Myanmar', 'Bangladesh', 'Nepal', 'Uganda', 'Nigeria', 'Uzbekistan', 'Rwanda', 'Sri Lanka', 'Ethiopia', 'Colombia', 'Kyrgyzstan', 'Malawi', 'Burkina Faso', 'Egypt', 'Indonesia', 'Kenya', 'Syria', 'Bosnia and Herzegovina', 'Cameroon', 'Angola', 'Togo', 'Bhutan', 'Laos', 'Mauritania', 'Tajikistan', 'Russia', 'Niger', 'Turkmenistan', 'Guinea Bissau', 'Cambodia', 'Dominican Republic', 'Papua New Guinea', 'Belarus', 'Guatemala', 'Equatorial Guinea', 'Iran', 'Eritrea', 'Serbia', 'Bolivia', 'China', 'Moldova', 'Nicaragua', 'Georgia', 'Azerbaijan', 'Cuba', 'Ecuador', 'Venezuela', 'Lebanon', 'Zambia', 'Israel and West Bank', 'Peru', 'Philippines', 'Vietnam', 'Tanzania', 'Algeria', 'Saudi Arabia', 'Jordan', 'Honduras', 'Morocco', 'El Salvador', 'Macedonia', 'Thailand', 'Mozambique', 'Mali', 'Turkey', 'Gambia', 'Gabon', 'Mexico', 'Ukraine', 'Paraguay', 'Kazakhstan', 'Armenia', 'Benin', 'Namibia', 'Cyprus', 'India', 'Albania', 'Libya', 'Botswana', 'Jamaica', 'Malaysia', 'Senegal', 'Tunisia', 'Brazil', 'Romania', 'Bulgaria', 'Croatia', 'Kuwait', 'Ghana', 'Panama', 'Mongolia', 'Latvia', 'South Africa', 'Estonia', 'Slovak Republic', 'Lithuania', 'Costa Rica', 'Poland', 'Hungary', 'Oman', 'Mauritius', 'Czech Republic', 'Uruguay', 'Greece', 'Argentina', 'South Korea', 'Germany', 'Spain', 'Slovenia', 'Italy', 'United States', 'France', 'United Kingdom', 'Portugal', 'Chile', 'Singapore', 'Netherlands', 'Japan', 'Austria', 'Denmark', 'Belgium', 'Canada', 'Australia', 'New Zealand', 'Switzerland', 'Ireland', 'Finland', 'Sweden', 'Norway', 'Timor-Leste', 'Congo Republic', 'Solomon Islands', 'Swaziland', 'Lesotho', 'Cape Verde', 'Maldives', 'Djibouti', 'Sao Tome and Principe', 'Comoros', 'Madagascar', 'Fiji', 'Suriname', 'Samoa', 'Micronesia', 'Guyana', 'Grenada', 'Seychelles', 'Brunei Darussalam', 'Belize', 'Trinidad and Tobago', 'Antigua and Barbuda', 'Bahamas', 'Barbados', 'Bahrain', 'Montenegro', 'Qatar', 'United Arab Emirates', 'Malta', 'Luxembourg', 'Iceland', 'South Sudan'] \n",
      "----\n",
      "In data1 but not in data2: ['']\n",
      "Index(['country', 'del_date_scheduled_yr', 'count', 'sum', 'mean', 'fsi',\n",
      "       'year', 'customs', 'infra', 'intl_ship', 'logistic_qlty', 'lpi',\n",
      "       'timeliness', 'track_trace'],\n",
      "      dtype='object')        del_date_scheduled_yr       count         sum        mean         fsi  \\\n",
      "count             430.000000  430.000000  219.000000  219.000000  420.000000   \n",
      "mean             2010.500000   24.009302    5.415525    0.092765   87.584286   \n",
      "std                 2.875627   44.710411    9.539677    0.143525   13.255173   \n",
      "min              2006.000000    0.000000    0.000000    0.000000   55.700000   \n",
      "25%              2008.000000    0.000000    0.000000    0.000000   77.500000   \n",
      "50%              2010.500000    1.000000    1.000000    0.013699   88.050000   \n",
      "75%              2013.000000   31.000000    6.500000    0.153454   97.900000   \n",
      "max              2015.000000  343.000000   52.000000    1.000000  114.500000   \n",
      "\n",
      "              year     customs       infra   intl_ship  logistic_qlty  \\\n",
      "count   420.000000  358.000000  358.000000  358.000000     358.000000   \n",
      "mean   2010.571429    2.376525    2.364942    2.595624       2.524418   \n",
      "std       2.858166    0.288851    0.314894    0.329711       0.322978   \n",
      "min    2006.000000    1.857143    1.818951    1.986686       2.102127   \n",
      "25%    2008.000000    2.194747    2.157051    2.342524       2.270294   \n",
      "50%    2011.000000    2.358525    2.321970    2.600000       2.520408   \n",
      "75%    2013.000000    2.581148    2.553424    2.786234       2.698804   \n",
      "max    2015.000000    3.107811    3.200000    3.450000       3.617883   \n",
      "\n",
      "              lpi  timeliness  track_trace  \n",
      "count  358.000000  358.000000   358.000000  \n",
      "mean     2.572635    2.945846     2.608425  \n",
      "std      0.272299    0.342440     0.331274  \n",
      "min      2.069573    2.330090     1.847776  \n",
      "25%      2.347672    2.742693     2.415663  \n",
      "50%      2.565735    2.902778     2.571429  \n",
      "75%      2.750788    3.175245     2.849009  \n",
      "max      3.431244    3.881041     3.302093          country  del_date_scheduled_yr  count  sum  mean    fsi    year  \\\n",
      "0  Afghanistan                   2006      0  NaN   NaN   99.8  2006.0   \n",
      "1  Afghanistan                   2007      0  NaN   NaN  102.3  2007.0   \n",
      "2  Afghanistan                   2008      0  NaN   NaN  105.4  2008.0   \n",
      "3  Afghanistan                   2009      0  NaN   NaN  108.2  2009.0   \n",
      "4  Afghanistan                   2010      0  NaN   NaN  109.3  2010.0   \n",
      "\n",
      "    customs     infra  intl_ship  logistic_qlty       lpi  timeliness  \\\n",
      "0  2.163453  1.818951   1.986686       2.119709  2.069573    2.482138   \n",
      "1  2.163453  1.818951   1.986686       2.119709  2.069573    2.482138   \n",
      "2  2.163453  1.818951   1.986686       2.119709  2.069573    2.482138   \n",
      "3  2.163453  1.818951   1.986686       2.119709  2.069573    2.482138   \n",
      "4  2.163453  1.818951   1.986686       2.119709  2.069573    2.482138   \n",
      "\n",
      "   track_trace  \n",
      "0     1.847776  \n",
      "1     1.847776  \n",
      "2     1.847776  \n",
      "3     1.847776  \n",
      "4     1.847776  \n"
     ]
    }
   ],
   "source": [
    "destination_metrics, origin_metrics = mhf.destination_and_origin_lpi_fsi_indicators(\n",
    "    dobject, lpi_fsi_combined)"
   ]
  },
  {
   "cell_type": "code",
   "execution_count": 84,
   "metadata": {},
   "outputs": [],
   "source": [
    "# Drop the straggler columns\n",
    "origin_metrics.drop('country', axis=1, inplace=True)\n",
    "origin_metrics.drop('year', axis=1, inplace=True)\n",
    "destination_metrics.drop('year', axis=1, inplace=True)\n",
    "# Change the columns names for easier tracking\n",
    "destination_metrics.columns = [\"dest_\"+x for x in destination_metrics.columns]\n",
    "origin_metrics.columns = [\"orig_\"+x for x in origin_metrics.columns]"
   ]
  },
  {
   "cell_type": "code",
   "execution_count": 85,
   "metadata": {},
   "outputs": [],
   "source": [
    "dobject=mhf.add_lpi_fsi_features(dobject, origin_metrics, destination_metrics) # Must Happen after they are generated!"
   ]
  },
  {
   "cell_type": "code",
   "execution_count": 86,
   "metadata": {},
   "outputs": [
    {
     "name": "stdout",
     "output_type": "stream",
     "text": [
      "(10324, 88) Index(['proj_code', 'pq_no', 'po_no', 'ship_no', 'country', 'mngr',\n",
      "       'fulfill_via', 'vendor_terms', 'ship_mode', 'pq_date', 'po_date',\n",
      "       'prod_grp', 'sub_class', 'vendor', 'itm_desc', 'molecule_test', 'brand',\n",
      "       'dosage', 'dosage_form', 'factory', 'first_line', 'weight',\n",
      "       'freight_cost', 'pq_date_new_yr', 'pq_date_new_mn', 'pq_date_new_dy',\n",
      "       'po_date_new_yr', 'po_date_new_mn', 'po_date_new_dy',\n",
      "       'del_date_scheduled_yr', 'del_date_scheduled_mn',\n",
      "       'del_date_scheduled_dy', 'del_date_client_yr', 'del_date_client_mn',\n",
      "       'del_date_client_dy', 'del_date_recorded_yr', 'del_date_recorded_mn',\n",
      "       'del_date_recorded_dy', 'pq_date_new_wd', 'pq_date_new_wk',\n",
      "       'pq_date_new_qt', 'po_date_new_wd', 'po_date_new_wk', 'po_date_new_qt',\n",
      "       'del_date_scheduled_wd', 'del_date_scheduled_wk',\n",
      "       'del_date_scheduled_qt', 'del_date_client_wd', 'del_date_client_wk',\n",
      "       'del_date_client_qt', 'del_date_recorded_wd', 'del_date_recorded_wk',\n",
      "       'del_date_recorded_qt', 'ship_config', 'weight_captured_seperately',\n",
      "       'freight_invoiced_seperately', 'freight_in_cmdty_cost', 'delayed',\n",
      "       'factory_address', 'origin_country', 'origin_continent', 'name',\n",
      "       'dest_country', 'dest_del_date_scheduled_yr', 'dest_count', 'dest_sum',\n",
      "       'dest_mean', 'dest_fsi', 'dest_customs', 'dest_infra', 'dest_intl_ship',\n",
      "       'dest_logistic_qlty', 'dest_lpi', 'dest_timeliness', 'dest_track_trace',\n",
      "       'orig_origin_country', 'orig_del_date_scheduled_yr', 'orig_count',\n",
      "       'orig_sum', 'orig_mean', 'orig_fsi', 'orig_customs', 'orig_infra',\n",
      "       'orig_intl_ship', 'orig_logistic_qlty', 'orig_lpi', 'orig_timeliness',\n",
      "       'orig_track_trace'],\n",
      "      dtype='object')\n"
     ]
    }
   ],
   "source": [
    "print(dobject.shape,dobject.columns)"
   ]
  },
  {
   "cell_type": "code",
   "execution_count": 87,
   "metadata": {},
   "outputs": [],
   "source": [
    "# Look at mean - average rate of delays per country, and correlation with other variables\n",
    "#mhf.country_metrics_corr(origin_metrics) "
   ]
  },
  {
   "cell_type": "code",
   "execution_count": 88,
   "metadata": {
    "scrolled": true
   },
   "outputs": [],
   "source": [
    "# Look at mean - average rate of delays per country, and correlation with other variables\n",
    "#mhf.country_metrics_corr(destination_metrics) # Look at mean"
   ]
  },
  {
   "cell_type": "markdown",
   "metadata": {},
   "source": [
    "### Save the blocks of data separately in *\"Data/Features\"* folder\n",
    "#### *To be uploaded in next NoteBook - EDA and Feature Selection*"
   ]
  },
  {
   "cell_type": "code",
   "execution_count": null,
   "metadata": {},
   "outputs": [],
   "source": []
  },
  {
   "cell_type": "code",
   "execution_count": 89,
   "metadata": {
    "scrolled": true
   },
   "outputs": [
    {
     "name": "stdout",
     "output_type": "stream",
     "text": [
      "Total Number of Columns: 88\n",
      "Breakdown....\n",
      "\n",
      "Type: object , Count: 33 \n",
      "Columns and null counts---: \n",
      "proj_code                      0\n",
      "pq_no                          0\n",
      "po_no                          0\n",
      "ship_no                        0\n",
      "country                        0\n",
      "mngr                           0\n",
      "fulfill_via                    0\n",
      "vendor_terms                   0\n",
      "ship_mode                      0\n",
      "pq_date                        0\n",
      "po_date                        0\n",
      "prod_grp                       0\n",
      "sub_class                      0\n",
      "vendor                         0\n",
      "itm_desc                       0\n",
      "molecule_test                  0\n",
      "brand                          0\n",
      "dosage                         0\n",
      "dosage_form                    0\n",
      "factory                        0\n",
      "first_line                     0\n",
      "weight                         0\n",
      "freight_cost                   0\n",
      "ship_config                    0\n",
      "weight_captured_seperately     0\n",
      "freight_invoiced_seperately    0\n",
      "freight_in_cmdty_cost          0\n",
      "factory_address                0\n",
      "origin_country                 0\n",
      "origin_continent               0\n",
      "name                           0\n",
      "dest_country                   0\n",
      "orig_origin_country            0\n",
      "dtype: int64\n",
      "\n",
      "Type: category , Count: 30 \n",
      "Columns and null counts---: \n",
      "pq_date_new_yr           0\n",
      "pq_date_new_mn           0\n",
      "pq_date_new_dy           0\n",
      "po_date_new_yr           0\n",
      "po_date_new_mn           0\n",
      "po_date_new_dy           0\n",
      "del_date_scheduled_mn    0\n",
      "del_date_scheduled_dy    0\n",
      "del_date_client_yr       0\n",
      "del_date_client_mn       0\n",
      "del_date_client_dy       0\n",
      "del_date_recorded_yr     0\n",
      "del_date_recorded_mn     0\n",
      "del_date_recorded_dy     0\n",
      "pq_date_new_wd           0\n",
      "pq_date_new_wk           0\n",
      "pq_date_new_qt           0\n",
      "po_date_new_wd           0\n",
      "po_date_new_wk           0\n",
      "po_date_new_qt           0\n",
      "del_date_scheduled_wd    0\n",
      "del_date_scheduled_wk    0\n",
      "del_date_scheduled_qt    0\n",
      "del_date_client_wd       0\n",
      "del_date_client_wk       0\n",
      "del_date_client_qt       0\n",
      "del_date_recorded_wd     0\n",
      "del_date_recorded_wk     0\n",
      "del_date_recorded_qt     0\n",
      "delayed                  0\n",
      "dtype: int64\n",
      "\n",
      "Type: float64 , Count: 20 \n",
      "Columns and null counts---: \n",
      "dest_sum                  0\n",
      "dest_mean                 0\n",
      "dest_fsi                  0\n",
      "dest_customs              0\n",
      "dest_infra                0\n",
      "dest_intl_ship            0\n",
      "dest_logistic_qlty        0\n",
      "dest_lpi                  0\n",
      "dest_timeliness           0\n",
      "dest_track_trace          0\n",
      "orig_sum                  0\n",
      "orig_mean                 0\n",
      "orig_fsi              10324\n",
      "orig_customs          10324\n",
      "orig_infra            10324\n",
      "orig_intl_ship        10324\n",
      "orig_logistic_qlty    10324\n",
      "orig_lpi              10324\n",
      "orig_timeliness       10324\n",
      "orig_track_trace      10324\n",
      "dtype: int64\n",
      "\n",
      "Type: int64 , Count: 5 \n",
      "Columns and null counts---: \n",
      "del_date_scheduled_yr         0\n",
      "dest_del_date_scheduled_yr    0\n",
      "dest_count                    0\n",
      "orig_del_date_scheduled_yr    0\n",
      "orig_count                    0\n",
      "dtype: int64\n",
      "\n"
     ]
    },
    {
     "data": {
      "text/plain": [
       "dict_keys(['object', 'category', 'float64', 'int64'])"
      ]
     },
     "execution_count": 89,
     "metadata": {},
     "output_type": "execute_result"
    }
   ],
   "source": [
    "# Fill the nulls\n",
    "nullc = dobject.isnull().sum()[dobject.isnull().sum()>0].index.tolist()\n",
    "for c in nullc:\n",
    "    try:\n",
    "        cmean = dobject[c].mean()\n",
    "        dobject[c].fillna(cmean, inplace=True)\n",
    "    except:\n",
    "        pass\n",
    "# Split the numerical columns from dobject to separate df\n",
    "dobject['delayed'] = pd.Categorical(dobject.delayed)\n",
    "mainblocks = mhf.get_blocks_by_dtype(dobject)\n",
    "# Convert to categorical\n",
    "for c in mainblocks['object']:\n",
    "    mainblocks['object'][c] = pd.Categorical(mainblocks['object'][c])\n",
    "# Do the do_purch, do_del split here as well\n",
    "mainblocks.keys()"
   ]
  },
  {
   "cell_type": "code",
   "execution_count": 90,
   "metadata": {},
   "outputs": [
    {
     "data": {
      "text/html": [
       "<div>\n",
       "<style scoped>\n",
       "    .dataframe tbody tr th:only-of-type {\n",
       "        vertical-align: middle;\n",
       "    }\n",
       "\n",
       "    .dataframe tbody tr th {\n",
       "        vertical-align: top;\n",
       "    }\n",
       "\n",
       "    .dataframe thead th {\n",
       "        text-align: right;\n",
       "    }\n",
       "</style>\n",
       "<table border=\"1\" class=\"dataframe\">\n",
       "  <thead>\n",
       "    <tr style=\"text-align: right;\">\n",
       "      <th></th>\n",
       "      <th>country</th>\n",
       "      <th>factory</th>\n",
       "      <th>vendor</th>\n",
       "      <th>molecule_test</th>\n",
       "      <th>brand</th>\n",
       "      <th>del_date_scheduled_yr</th>\n",
       "      <th>country_qtysum</th>\n",
       "      <th>country_qtycount</th>\n",
       "      <th>country_qtymean</th>\n",
       "      <th>country_valsum</th>\n",
       "      <th>...</th>\n",
       "      <th>country_valmean</th>\n",
       "      <th>country_inssum</th>\n",
       "      <th>country_inscount</th>\n",
       "      <th>country_insmean</th>\n",
       "      <th>country_weightsum</th>\n",
       "      <th>country_weightcount</th>\n",
       "      <th>country_weightmean</th>\n",
       "      <th>country_costsum</th>\n",
       "      <th>country_costcount</th>\n",
       "      <th>country_costmean</th>\n",
       "    </tr>\n",
       "  </thead>\n",
       "  <tbody>\n",
       "    <tr>\n",
       "      <th>0</th>\n",
       "      <td>Côte d'Ivoire</td>\n",
       "      <td>Ranbaxy Fine Chemicals LTD</td>\n",
       "      <td>RANBAXY Fine Chemicals LTD.</td>\n",
       "      <td>HIV, Reveal G3 Rapid HIV-1 Antibody Test</td>\n",
       "      <td>Reveal</td>\n",
       "      <td>2006</td>\n",
       "      <td>29553.0</td>\n",
       "      <td>14</td>\n",
       "      <td>2110.928571</td>\n",
       "      <td>370713.7</td>\n",
       "      <td>...</td>\n",
       "      <td>26479.55</td>\n",
       "      <td>0.0343</td>\n",
       "      <td>14</td>\n",
       "      <td>0.00245</td>\n",
       "      <td>55207.914059</td>\n",
       "      <td>14</td>\n",
       "      <td>3943.422433</td>\n",
       "      <td>941845.702504</td>\n",
       "      <td>14</td>\n",
       "      <td>67274.693036</td>\n",
       "    </tr>\n",
       "    <tr>\n",
       "      <th>1</th>\n",
       "      <td>Côte d'Ivoire</td>\n",
       "      <td>ABBVIE GmbH &amp; Co.KG Wiesbaden</td>\n",
       "      <td>Abbott GmbH &amp; Co. KG</td>\n",
       "      <td>HIV 1/2, Determine Complete HIV Kit</td>\n",
       "      <td>Determine</td>\n",
       "      <td>2006</td>\n",
       "      <td>29553.0</td>\n",
       "      <td>14</td>\n",
       "      <td>2110.928571</td>\n",
       "      <td>370713.7</td>\n",
       "      <td>...</td>\n",
       "      <td>26479.55</td>\n",
       "      <td>0.0343</td>\n",
       "      <td>14</td>\n",
       "      <td>0.00245</td>\n",
       "      <td>55207.914059</td>\n",
       "      <td>14</td>\n",
       "      <td>3943.422433</td>\n",
       "      <td>941845.702504</td>\n",
       "      <td>14</td>\n",
       "      <td>67274.693036</td>\n",
       "    </tr>\n",
       "    <tr>\n",
       "      <th>2</th>\n",
       "      <td>Côte d'Ivoire</td>\n",
       "      <td>Bio-Rad Laboratories</td>\n",
       "      <td>BIO-RAD LABORATORIES (FRANCE)</td>\n",
       "      <td>HIV, Genie II HIV-1/HIV-2 Kit</td>\n",
       "      <td>Genie</td>\n",
       "      <td>2006</td>\n",
       "      <td>29553.0</td>\n",
       "      <td>14</td>\n",
       "      <td>2110.928571</td>\n",
       "      <td>370713.7</td>\n",
       "      <td>...</td>\n",
       "      <td>26479.55</td>\n",
       "      <td>0.0343</td>\n",
       "      <td>14</td>\n",
       "      <td>0.00245</td>\n",
       "      <td>55207.914059</td>\n",
       "      <td>14</td>\n",
       "      <td>3943.422433</td>\n",
       "      <td>941845.702504</td>\n",
       "      <td>14</td>\n",
       "      <td>67274.693036</td>\n",
       "    </tr>\n",
       "    <tr>\n",
       "      <th>3</th>\n",
       "      <td>Côte d'Ivoire</td>\n",
       "      <td>Pacific Biotech, Thailand</td>\n",
       "      <td>Orasure Technologies Inc.</td>\n",
       "      <td>HIV 1/2, OraQuick Advance HIV Rapid Antibody Kit</td>\n",
       "      <td>OraQuick</td>\n",
       "      <td>2006</td>\n",
       "      <td>29553.0</td>\n",
       "      <td>14</td>\n",
       "      <td>2110.928571</td>\n",
       "      <td>370713.7</td>\n",
       "      <td>...</td>\n",
       "      <td>26479.55</td>\n",
       "      <td>0.0343</td>\n",
       "      <td>14</td>\n",
       "      <td>0.00245</td>\n",
       "      <td>55207.914059</td>\n",
       "      <td>14</td>\n",
       "      <td>3943.422433</td>\n",
       "      <td>941845.702504</td>\n",
       "      <td>14</td>\n",
       "      <td>67274.693036</td>\n",
       "    </tr>\n",
       "    <tr>\n",
       "      <th>4</th>\n",
       "      <td>Côte d'Ivoire</td>\n",
       "      <td>Bio-Rad Laboratories</td>\n",
       "      <td>BIO-RAD LABORATORIES (FRANCE)</td>\n",
       "      <td>HIV, Genie II HIV-1/HIV-2 Kit</td>\n",
       "      <td>Genie</td>\n",
       "      <td>2006</td>\n",
       "      <td>29553.0</td>\n",
       "      <td>14</td>\n",
       "      <td>2110.928571</td>\n",
       "      <td>370713.7</td>\n",
       "      <td>...</td>\n",
       "      <td>26479.55</td>\n",
       "      <td>0.0343</td>\n",
       "      <td>14</td>\n",
       "      <td>0.00245</td>\n",
       "      <td>55207.914059</td>\n",
       "      <td>14</td>\n",
       "      <td>3943.422433</td>\n",
       "      <td>941845.702504</td>\n",
       "      <td>14</td>\n",
       "      <td>67274.693036</td>\n",
       "    </tr>\n",
       "  </tbody>\n",
       "</table>\n",
       "<p>5 rows × 21 columns</p>\n",
       "</div>"
      ],
      "text/plain": [
       "         country                        factory  \\\n",
       "0  Côte d'Ivoire     Ranbaxy Fine Chemicals LTD   \n",
       "1  Côte d'Ivoire  ABBVIE GmbH & Co.KG Wiesbaden   \n",
       "2  Côte d'Ivoire           Bio-Rad Laboratories   \n",
       "3  Côte d'Ivoire      Pacific Biotech, Thailand   \n",
       "4  Côte d'Ivoire           Bio-Rad Laboratories   \n",
       "\n",
       "                          vendor  \\\n",
       "0    RANBAXY Fine Chemicals LTD.   \n",
       "1           Abbott GmbH & Co. KG   \n",
       "2  BIO-RAD LABORATORIES (FRANCE)   \n",
       "3      Orasure Technologies Inc.   \n",
       "4  BIO-RAD LABORATORIES (FRANCE)   \n",
       "\n",
       "                                      molecule_test      brand  \\\n",
       "0          HIV, Reveal G3 Rapid HIV-1 Antibody Test     Reveal   \n",
       "1               HIV 1/2, Determine Complete HIV Kit  Determine   \n",
       "2                     HIV, Genie II HIV-1/HIV-2 Kit      Genie   \n",
       "3  HIV 1/2, OraQuick Advance HIV Rapid Antibody Kit   OraQuick   \n",
       "4                     HIV, Genie II HIV-1/HIV-2 Kit      Genie   \n",
       "\n",
       "  del_date_scheduled_yr  country_qtysum  country_qtycount  country_qtymean  \\\n",
       "0                  2006         29553.0                14      2110.928571   \n",
       "1                  2006         29553.0                14      2110.928571   \n",
       "2                  2006         29553.0                14      2110.928571   \n",
       "3                  2006         29553.0                14      2110.928571   \n",
       "4                  2006         29553.0                14      2110.928571   \n",
       "\n",
       "   country_valsum  ...  country_valmean  country_inssum  country_inscount  \\\n",
       "0        370713.7  ...         26479.55          0.0343                14   \n",
       "1        370713.7  ...         26479.55          0.0343                14   \n",
       "2        370713.7  ...         26479.55          0.0343                14   \n",
       "3        370713.7  ...         26479.55          0.0343                14   \n",
       "4        370713.7  ...         26479.55          0.0343                14   \n",
       "\n",
       "   country_insmean  country_weightsum  country_weightcount  \\\n",
       "0          0.00245       55207.914059                   14   \n",
       "1          0.00245       55207.914059                   14   \n",
       "2          0.00245       55207.914059                   14   \n",
       "3          0.00245       55207.914059                   14   \n",
       "4          0.00245       55207.914059                   14   \n",
       "\n",
       "   country_weightmean  country_costsum  country_costcount  country_costmean  \n",
       "0         3943.422433    941845.702504                 14      67274.693036  \n",
       "1         3943.422433    941845.702504                 14      67274.693036  \n",
       "2         3943.422433    941845.702504                 14      67274.693036  \n",
       "3         3943.422433    941845.702504                 14      67274.693036  \n",
       "4         3943.422433    941845.702504                 14      67274.693036  \n",
       "\n",
       "[5 rows x 21 columns]"
      ]
     },
     "execution_count": 90,
     "metadata": {},
     "output_type": "execute_result"
    }
   ],
   "source": [
    "dnum_country.head()"
   ]
  },
  {
   "cell_type": "code",
   "execution_count": 91,
   "metadata": {},
   "outputs": [
    {
     "name": "stdout",
     "output_type": "stream",
     "text": [
      "(10324, 88) Index(['proj_code', 'pq_no', 'po_no', 'ship_no', 'country', 'mngr',\n",
      "       'fulfill_via', 'vendor_terms', 'ship_mode', 'pq_date', 'po_date',\n",
      "       'prod_grp', 'sub_class', 'vendor', 'itm_desc', 'molecule_test', 'brand',\n",
      "       'dosage', 'dosage_form', 'factory', 'first_line', 'weight',\n",
      "       'freight_cost', 'pq_date_new_yr', 'pq_date_new_mn', 'pq_date_new_dy',\n",
      "       'po_date_new_yr', 'po_date_new_mn', 'po_date_new_dy',\n",
      "       'del_date_scheduled_yr', 'del_date_scheduled_mn',\n",
      "       'del_date_scheduled_dy', 'del_date_client_yr', 'del_date_client_mn',\n",
      "       'del_date_client_dy', 'del_date_recorded_yr', 'del_date_recorded_mn',\n",
      "       'del_date_recorded_dy', 'pq_date_new_wd', 'pq_date_new_wk',\n",
      "       'pq_date_new_qt', 'po_date_new_wd', 'po_date_new_wk', 'po_date_new_qt',\n",
      "       'del_date_scheduled_wd', 'del_date_scheduled_wk',\n",
      "       'del_date_scheduled_qt', 'del_date_client_wd', 'del_date_client_wk',\n",
      "       'del_date_client_qt', 'del_date_recorded_wd', 'del_date_recorded_wk',\n",
      "       'del_date_recorded_qt', 'ship_config', 'weight_captured_seperately',\n",
      "       'freight_invoiced_seperately', 'freight_in_cmdty_cost', 'delayed',\n",
      "       'factory_address', 'origin_country', 'origin_continent', 'name',\n",
      "       'dest_country', 'dest_del_date_scheduled_yr', 'dest_count', 'dest_sum',\n",
      "       'dest_mean', 'dest_fsi', 'dest_customs', 'dest_infra', 'dest_intl_ship',\n",
      "       'dest_logistic_qlty', 'dest_lpi', 'dest_timeliness', 'dest_track_trace',\n",
      "       'orig_origin_country', 'orig_del_date_scheduled_yr', 'orig_count',\n",
      "       'orig_sum', 'orig_mean', 'orig_fsi', 'orig_customs', 'orig_infra',\n",
      "       'orig_intl_ship', 'orig_logistic_qlty', 'orig_lpi', 'orig_timeliness',\n",
      "       'orig_track_trace'],\n",
      "      dtype='object')\n"
     ]
    }
   ],
   "source": [
    "print(dobject.shape,dobject.columns)"
   ]
  },
  {
   "cell_type": "code",
   "execution_count": 92,
   "metadata": {},
   "outputs": [],
   "source": [
    "entities =['country', 'factory', 'vendor', 'brand', 'molecule_test']\n",
    "# Drop redundant columns in \n",
    "for d in [dnum_country, dnum_factory, dnum_vendor, dnum_brand, dnum_molecule_test]:\n",
    "    try:\n",
    "        d.drop(entities, axis=1, inplace=True)\n",
    "    except:\n",
    "        pass\n",
    "# Make columns index\n",
    "c=['country_qtycount']+[c for c in dnum_country.columns if \n",
    "                                ('sum' in c) or ('mean' in c) or ('yr' in c)]\n",
    "v=['vendor_qtycount']+[c for c in dnum_vendor.columns if \n",
    "                                ('sum' in c) or ('mean' in c) or ('yr' in c)]\n",
    "f=['factory_qtycount']+[c for c in dnum_factory.columns if \n",
    "                                ('sum' in c) or ('mean' in c) or ('yr' in c)]\n",
    "b=['brand_qtycount']+[c for c in dnum_brand.columns if \n",
    "                                ('sum' in c) or ('mean' in c) or ('yr' in c)]\n",
    "m=['molecule_test_qtycount']+[c for c in dnum_molecule_test.columns if \n",
    "                                ('sum' in c) or ('mean' in c) or ('yr' in c)]\n",
    "# Drop duplicate columns for counts\n",
    "dnum_country, dnum_vendor, dnum_factory,dnum_brand, dnum_molecule_test = dnum_country[c],dnum_vendor[v], dnum_factory[f],dnum_brand[b],dnum_molecule_test[m]"
   ]
  },
  {
   "cell_type": "code",
   "execution_count": 93,
   "metadata": {},
   "outputs": [
    {
     "name": "stdout",
     "output_type": "stream",
     "text": [
      "(10324, 88) Index(['proj_code', 'pq_no', 'po_no', 'ship_no', 'country', 'mngr',\n",
      "       'fulfill_via', 'vendor_terms', 'ship_mode', 'pq_date', 'po_date',\n",
      "       'prod_grp', 'sub_class', 'vendor', 'itm_desc', 'molecule_test', 'brand',\n",
      "       'dosage', 'dosage_form', 'factory', 'first_line', 'weight',\n",
      "       'freight_cost', 'pq_date_new_yr', 'pq_date_new_mn', 'pq_date_new_dy',\n",
      "       'po_date_new_yr', 'po_date_new_mn', 'po_date_new_dy',\n",
      "       'del_date_scheduled_yr', 'del_date_scheduled_mn',\n",
      "       'del_date_scheduled_dy', 'del_date_client_yr', 'del_date_client_mn',\n",
      "       'del_date_client_dy', 'del_date_recorded_yr', 'del_date_recorded_mn',\n",
      "       'del_date_recorded_dy', 'pq_date_new_wd', 'pq_date_new_wk',\n",
      "       'pq_date_new_qt', 'po_date_new_wd', 'po_date_new_wk', 'po_date_new_qt',\n",
      "       'del_date_scheduled_wd', 'del_date_scheduled_wk',\n",
      "       'del_date_scheduled_qt', 'del_date_client_wd', 'del_date_client_wk',\n",
      "       'del_date_client_qt', 'del_date_recorded_wd', 'del_date_recorded_wk',\n",
      "       'del_date_recorded_qt', 'ship_config', 'weight_captured_seperately',\n",
      "       'freight_invoiced_seperately', 'freight_in_cmdty_cost', 'delayed',\n",
      "       'factory_address', 'origin_country', 'origin_continent', 'name',\n",
      "       'dest_country', 'dest_del_date_scheduled_yr', 'dest_count', 'dest_sum',\n",
      "       'dest_mean', 'dest_fsi', 'dest_customs', 'dest_infra', 'dest_intl_ship',\n",
      "       'dest_logistic_qlty', 'dest_lpi', 'dest_timeliness', 'dest_track_trace',\n",
      "       'orig_origin_country', 'orig_del_date_scheduled_yr', 'orig_count',\n",
      "       'orig_sum', 'orig_mean', 'orig_fsi', 'orig_customs', 'orig_infra',\n",
      "       'orig_intl_ship', 'orig_logistic_qlty', 'orig_lpi', 'orig_timeliness',\n",
      "       'orig_track_trace'],\n",
      "      dtype='object')\n"
     ]
    }
   ],
   "source": [
    "print(dobject.shape,dobject.columns)"
   ]
  },
  {
   "cell_type": "code",
   "execution_count": 94,
   "metadata": {},
   "outputs": [
    {
     "name": "stdout",
     "output_type": "stream",
     "text": [
      "_0_dnum.csv\n",
      "_1_dnum_country.csv\n",
      "_2_dnum_vendor.csv\n",
      "_3_dnum_factory.csv\n",
      "_4_dnum_brand.csv\n",
      "_5_dnum_molecule_test.csv\n",
      "_6_dnum_lpifsi.csv\n",
      "_7_ddate.csv\n",
      "_8_dobject.csv\n",
      "_9_dtrend.csv\n"
     ]
    }
   ],
   "source": [
    "# Merge the categorical elements\n",
    "#dobject = pd.concat([mainblocks['category'],mainblocks['object']], axis=1)\n",
    "# Merge the new numerical festures\n",
    "dnum_lpifsi = pd.concat([mainblocks['float64'], mainblocks['int64']],axis=1)\n",
    "# Make lists for the save loop\n",
    "dchunks = [dnum,dnum_country, dnum_vendor,dnum_factory, dnum_brand\n",
    "           ,dnum_molecule_test,dnum_lpifsi,ddate, dobject, dtrend]\n",
    "dnames = ['dnum','dnum_country', 'dnum_vendor', 'dnum_factory', 'dnum_brand'\n",
    "          , 'dnum_molecule_test','dnum_lpifsi', 'ddate', 'dobject', 'dtrend']\n",
    "import datetime as dt\n",
    "import os\n",
    "for i in range(len(dnames)):\n",
    "    fn= \"_\"+str(i)+\"_\"+dnames[i]+\".csv\"\n",
    "    path= os.curdir+'\\Data\\Features\\\\'\n",
    "    print(fn)\n",
    "    dchunks[i].to_csv(path+fn)"
   ]
  },
  {
   "cell_type": "markdown",
   "metadata": {},
   "source": [
    "---\n",
    "# **CheckPoint 1**\n",
    "### Next Section: Exploratory Data Analysis & Feature Selection\n",
    "---"
   ]
  },
  {
   "cell_type": "code",
   "execution_count": 95,
   "metadata": {},
   "outputs": [
    {
     "name": "stdout",
     "output_type": "stream",
     "text": [
      "(10324, 88) Index(['proj_code', 'pq_no', 'po_no', 'ship_no', 'country', 'mngr',\n",
      "       'fulfill_via', 'vendor_terms', 'ship_mode', 'pq_date', 'po_date',\n",
      "       'prod_grp', 'sub_class', 'vendor', 'itm_desc', 'molecule_test', 'brand',\n",
      "       'dosage', 'dosage_form', 'factory', 'first_line', 'weight',\n",
      "       'freight_cost', 'pq_date_new_yr', 'pq_date_new_mn', 'pq_date_new_dy',\n",
      "       'po_date_new_yr', 'po_date_new_mn', 'po_date_new_dy',\n",
      "       'del_date_scheduled_yr', 'del_date_scheduled_mn',\n",
      "       'del_date_scheduled_dy', 'del_date_client_yr', 'del_date_client_mn',\n",
      "       'del_date_client_dy', 'del_date_recorded_yr', 'del_date_recorded_mn',\n",
      "       'del_date_recorded_dy', 'pq_date_new_wd', 'pq_date_new_wk',\n",
      "       'pq_date_new_qt', 'po_date_new_wd', 'po_date_new_wk', 'po_date_new_qt',\n",
      "       'del_date_scheduled_wd', 'del_date_scheduled_wk',\n",
      "       'del_date_scheduled_qt', 'del_date_client_wd', 'del_date_client_wk',\n",
      "       'del_date_client_qt', 'del_date_recorded_wd', 'del_date_recorded_wk',\n",
      "       'del_date_recorded_qt', 'ship_config', 'weight_captured_seperately',\n",
      "       'freight_invoiced_seperately', 'freight_in_cmdty_cost', 'delayed',\n",
      "       'factory_address', 'origin_country', 'origin_continent', 'name',\n",
      "       'dest_country', 'dest_del_date_scheduled_yr', 'dest_count', 'dest_sum',\n",
      "       'dest_mean', 'dest_fsi', 'dest_customs', 'dest_infra', 'dest_intl_ship',\n",
      "       'dest_logistic_qlty', 'dest_lpi', 'dest_timeliness', 'dest_track_trace',\n",
      "       'orig_origin_country', 'orig_del_date_scheduled_yr', 'orig_count',\n",
      "       'orig_sum', 'orig_mean', 'orig_fsi', 'orig_customs', 'orig_infra',\n",
      "       'orig_intl_ship', 'orig_logistic_qlty', 'orig_lpi', 'orig_timeliness',\n",
      "       'orig_track_trace'],\n",
      "      dtype='object')\n"
     ]
    }
   ],
   "source": [
    "print(dobject.shape,dobject.columns)"
   ]
  },
  {
   "cell_type": "code",
   "execution_count": null,
   "metadata": {},
   "outputs": [],
   "source": []
  }
 ],
 "metadata": {
  "anaconda-cloud": {},
  "kernelspec": {
   "display_name": "Python 3",
   "language": "python",
   "name": "python3"
  },
  "language_info": {
   "codemirror_mode": {
    "name": "ipython",
    "version": 3
   },
   "file_extension": ".py",
   "mimetype": "text/x-python",
   "name": "python",
   "nbconvert_exporter": "python",
   "pygments_lexer": "ipython3",
   "version": "3.8.3"
  }
 },
 "nbformat": 4,
 "nbformat_minor": 1
}
